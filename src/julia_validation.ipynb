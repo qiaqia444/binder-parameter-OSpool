{
 "cells": [
  {
   "cell_type": "code",
   "execution_count": 58,
   "id": "4e210016",
   "metadata": {},
   "outputs": [
    {
     "name": "stderr",
     "output_type": "stream",
     "text": [
      "\u001b[32m\u001b[1m  Activating\u001b[22m\u001b[39m new project at `~/Desktop/binder-parameter-OSpool/src`\n",
      "WARNING: replacing module BinderSim.\n",
      "WARNING: replacing module BinderSimForced.\n"
     ]
    },
    {
     "data": {
      "text/plain": [
       "Main.BinderSimForced"
      ]
     },
     "metadata": {},
     "output_type": "display_data"
    }
   ],
   "source": [
    "# Setup Julia environment\n",
    "using Pkg\n",
    "Pkg.activate(\".\")\n",
    "using ITensors\n",
    "using LinearAlgebra\n",
    "using Printf\n",
    "using Statistics\n",
    "\n",
    "# Load BOTH BinderSim modules\n",
    "include(\"../src/BinderSim.jl\")\n",
    "include(\"../src/BinderSimForced.jl\")\n"
   ]
  },
  {
   "cell_type": "markdown",
   "id": "7f47641d",
   "metadata": {},
   "source": [
    "## Setup and Load Modules"
   ]
  },
  {
   "cell_type": "code",
   "execution_count": 59,
   "id": "6e02530d",
   "metadata": {},
   "outputs": [
    {
     "name": "stdout",
     "output_type": "stream",
     "text": [
      "Validation Parameters:\n",
      "L = 3\n",
      "λₓ = 0.3\n",
      "λ_zz = 0.7\n",
      "T_max = 6\n"
     ]
    },
    {
     "data": {
      "text/plain": [
       "0.65980113"
      ]
     },
     "metadata": {},
     "output_type": "display_data"
    }
   ],
   "source": [
    "L_test = 3\n",
    "lambda_x_test = 0.3\n",
    "lambda_zz_test = 0.7\n",
    "\n",
    "println(\"Validation Parameters:\")\n",
    "println(\"L = $L_test\")\n",
    "println(\"λₓ = $lambda_x_test\") \n",
    "println(\"λ_zz = $lambda_zz_test\")\n",
    "println(\"T_max = $(2*L_test)\")\n",
    "\n",
    "hand_binder_expected = 0.65980113"
   ]
  },
  {
   "cell_type": "code",
   "execution_count": 63,
   "id": "d6019788",
   "metadata": {},
   "outputs": [
    {
     "name": "stdout",
     "output_type": "stream",
     "text": [
      "Hand calculation evolution:\n",
      "Initial state norm: 1.0\n",
      "After step 1: norm = 0.9999999999999999\n",
      "After step 2: norm = 1.0\n",
      "After step 3: norm = 1.0\n",
      "After step 4: norm = 1.0\n",
      "After step 5: norm = 1.0\n",
      "After step 6: norm = 1.0\n",
      "M2sq = 0.9772890680045975\n",
      "M4sq = 0.9747656311162186\n",
      "B = 0.6598011259372127\n",
      "Initial state norm: 1.0\n",
      "After step 1: norm = 0.9999999999999999\n",
      "After step 2: norm = 1.0\n",
      "After step 3: norm = 1.0\n",
      "After step 4: norm = 1.0\n",
      "After step 5: norm = 1.0\n",
      "After step 6: norm = 1.0\n",
      "M2sq = 0.9772890680045975\n",
      "M4sq = 0.9747656311162186\n",
      "B = 0.6598011259372127\n"
     ]
    },
    {
     "data": {
      "text/plain": [
       "0.6598011259372127"
      ]
     },
     "metadata": {},
     "output_type": "display_data"
    }
   ],
   "source": [
    "using LinearAlgebra\n",
    "\n",
    "function create_pauli_matrices()\n",
    "    I = [1 0; \n",
    "        0 1]\n",
    "\n",
    "    X = [0 1; \n",
    "        1 0] \n",
    "\n",
    "    Z = [1 0; \n",
    "        0 -1]\n",
    "    return I, X, Z\n",
    "end\n",
    "\n",
    "function construct_weak_measurement_operators(lambda_x, lambda_zz)\n",
    "    I, X, Z = create_pauli_matrices()\n",
    "    \n",
    "    norm_x = sqrt(2 * (1 + lambda_x^2))\n",
    "    norm_zz = sqrt(2 * (1 + lambda_zz^2))\n",
    "    \n",
    "    K_X_1 = (I - lambda_x * X) / norm_x\n",
    "    \n",
    "    II = kron(I, I)\n",
    "    ZZ = kron(Z, Z)\n",
    "    K_ZZ_1 = (II - lambda_zz * ZZ) / norm_zz\n",
    "    \n",
    "    return K_X_1, K_ZZ_1, norm_x, norm_zz\n",
    "end\n",
    "\n",
    "function create_initial_state_3spin()\n",
    "    # |↑↑↑⟩ = |000⟩ in computational basis\n",
    "    up = [1; 0]\n",
    "    return kron(kron(up, up), up)  # 8-component vector\n",
    "end\n",
    "\n",
    "function apply_single_site_measurement(psi, K_op, site_idx)\n",
    "    I = [1 0; \n",
    "        0 1]\n",
    "    \n",
    "    if site_idx == 0\n",
    "        full_op = kron(kron(K_op, I), I)\n",
    "    elseif site_idx == 1  \n",
    "        full_op = kron(kron(I, K_op), I)\n",
    "    elseif site_idx == 2\n",
    "        full_op = kron(kron(I, I), K_op)\n",
    "    end\n",
    "    \n",
    "    psi_new = full_op * psi\n",
    "    return psi_new / norm(psi_new)\n",
    "end\n",
    "\n",
    "function apply_two_site_measurement(psi, K_op, bond)\n",
    "    # Apply K_op to bond (0,1) or (1,2)  \n",
    "    I = [1 0; \n",
    "        0 1]\n",
    "    \n",
    "    if bond == (0,1)\n",
    "        full_op = kron(K_op, I)\n",
    "    elseif bond == (1,2)\n",
    "        full_op = kron(I, K_op)\n",
    "    end\n",
    "    \n",
    "    psi_new = full_op * psi\n",
    "    return psi_new / norm(psi_new)\n",
    "end\n",
    "\n",
    "function evolve_3spin_hand_calculation(lambda_x, lambda_zz, T_max=6)\n",
    "    # Initial state\n",
    "    psi = create_initial_state_3spin()\n",
    "    \n",
    "    # Get operators\n",
    "    K_X_1, K_ZZ_1, norm_x, norm_zz = construct_weak_measurement_operators(lambda_x, lambda_zz)\n",
    "    \n",
    "    println(\"Hand calculation evolution:\")\n",
    "    println(\"Initial state norm: $(norm(psi))\")\n",
    "    \n",
    "    for t in 1:T_max\n",
    "        # X measurements on all sites (forced +1)\n",
    "        for i in 0:2\n",
    "            psi = apply_single_site_measurement(psi, K_X_1, i)\n",
    "        end\n",
    "        \n",
    "        # Simultaneous ZZ measurements on bonds (0,1) and (1,2)\n",
    "        psi = apply_two_site_measurement(psi, K_ZZ_1, (0,1))\n",
    "        psi = apply_two_site_measurement(psi, K_ZZ_1, (1,2))\n",
    "        \n",
    "        println(\"After step $t: norm = $(norm(psi))\")\n",
    "    end\n",
    "    \n",
    "    return psi\n",
    "end\n",
    "\n",
    "function calculate_correlators_3spin(psi)\n",
    "    I = [1 0; \n",
    "        0 1]\n",
    "    Z = [1 0; \n",
    "        0 -1]\n",
    "    \n",
    "    # Single-site Z operators\n",
    "    Z0 = kron(kron(Z, I), I)\n",
    "    Z1 = kron(kron(I, Z), I) \n",
    "    Z2 = kron(kron(I, I), Z)\n",
    "    \n",
    "    # Calculate all 2-point correlators ⟨Z_i Z_j⟩\n",
    "    correlators_2pt = Dict()\n",
    "    for i in 0:2, j in 0:2\n",
    "        Zi = [Z0, Z1, Z2][i+1]\n",
    "        Zj = [Z0, Z1, Z2][j+1]\n",
    "        correlators_2pt[(i,j)] = real(psi' * (Zi * Zj) * psi)\n",
    "    end\n",
    "    \n",
    "    # Calculate all 4-point correlators ⟨Z_i Z_j Z_k Z_l⟩\n",
    "    correlators_4pt = Dict()\n",
    "    for i in 0:2, j in 0:2, k in 0:2, l in 0:2\n",
    "        Zi = [Z0, Z1, Z2][i+1]\n",
    "        Zj = [Z0, Z1, Z2][j+1]\n",
    "        Zk = [Z0, Z1, Z2][k+1]\n",
    "        Zl = [Z0, Z1, Z2][l+1]\n",
    "        correlators_4pt[(i,j,k,l)] = real(psi' * (Zi * Zj * Zk * Zl) * psi)\n",
    "    end\n",
    "    \n",
    "    return correlators_2pt, correlators_4pt\n",
    "end\n",
    "\n",
    "function calculate_binder_parameter_hand(correlators_2pt, correlators_4pt, L=3)\n",
    "    # M2sq = ∑ᵢⱼ |⟨Z_i Z_j⟩|² / L²\n",
    "    M2sq = sum(abs(v)^2 for v in values(correlators_2pt)) / L^2\n",
    "    \n",
    "    # M4sq = ∑ᵢⱼₖₗ |⟨Z_i Z_j Z_k Z_l⟩|² / L⁴  \n",
    "    M4sq = sum(abs(v)^2 for v in values(correlators_4pt)) / L^4\n",
    "    \n",
    "    # Binder parameter: B = 1 - M4sq/(3*M2sq²)\n",
    "    B = 1 - M4sq / (3 * M2sq^2)\n",
    "    \n",
    "    return B, M2sq, M4sq\n",
    "end\n",
    "\n",
    "psi_final = evolve_3spin_hand_calculation(lambda_x_test, lambda_zz_test, 6)\n",
    "corr_2pt, corr_4pt = calculate_correlators_3spin(psi_final)\n",
    "B_hand_calculated, M2sq_hand_calculated, M4sq_hand_calculated = calculate_binder_parameter_hand(corr_2pt, corr_4pt, 3)\n",
    "\n",
    "println(\"M2sq = $(M2sq_hand_calculated)\")\n",
    "println(\"M4sq = $(M4sq_hand_calculated)\")  \n",
    "println(\"B = $(B_hand_calculated)\")\n",
    "\n",
    "\n",
    "hand_binder_expected = B_hand_calculated"
   ]
  },
  {
   "cell_type": "markdown",
   "id": "c26b15dd",
   "metadata": {},
   "source": [
    "## Test BinderSimForced (Deterministic)"
   ]
  },
  {
   "cell_type": "code",
   "execution_count": 65,
   "id": "75c0f09b",
   "metadata": {},
   "outputs": [
    {
     "name": "stdout",
     "output_type": "stream",
     "text": [
      "Edwards-Anderson Binder parameter with FORCED +1 measurements\n",
      "L = 3, λₓ = 0.3, λ_zz = 0.7\n",
      "Note: All measurements forced to +1 outcome (deterministic)\n",
      "\\nTrial 1/1:\n",
      "  Evolving with forced +1 measurements for 6 time steps...\n",
      "    Time step 1/6, max bond dimension: 2\n",
      "    Time step 2/6, max bond dimension: 2\n",
      "    Time step 3/6, max bond dimension: 2\n",
      "    Time step 4/6, max bond dimension: 2\n",
      "    Time step 5/6, max bond dimension: 2\n",
      "    Time step 6/6, max bond dimension: 2\n",
      "  Computing correlators on ALL sites: 1 to 3 (3 sites)\n",
      "  Computing 9 2-point and 81 4-point correlators...\n",
      "  Trial 1 results: M2sq = 0.9772890680045949, M4sq = 0.9747656311162174, B = 0.6598011259372114\n",
      "\\nFinal ensemble results:\n",
      "  Ensemble B_EA = 0.6598011259372114\n",
      "  Mean of trials = 0.6598011259372114\n",
      "  Std of trials = NaN\n"
     ]
    },
    {
     "data": {
      "text/plain": [
       "0.6598011259372114"
      ]
     },
     "metadata": {},
     "output_type": "display_data"
    }
   ],
   "source": [
    "result_forced = BinderSimForced.ea_binder_mc_forced(L_test; lambda_x=lambda_x_test, lambda_zz=lambda_zz_test, \n",
    "                                                    ntrials=1, seed=12345)\n",
    "\n",
    "\n",
    "# Store for comparison\n",
    "julia_forced_binder = result_forced.B"
   ]
  },
  {
   "cell_type": "markdown",
   "id": "d5423407",
   "metadata": {},
   "source": [
    "## Test BinderSim (Random Sampling)"
   ]
  },
  {
   "cell_type": "code",
   "execution_count": 68,
   "id": "78cc3155",
   "metadata": {},
   "outputs": [
    {
     "name": "stdout",
     "output_type": "stream",
     "text": [
      "Binder parameter: 0.6431439611354937\n",
      "S2_bar (M2sq): 0.9257604927501145\n",
      "S4_bar (M4sq): 0.9175116586112382\n",
      "B_std_of_trials: 0.05053766939450079\n",
      "\n",
      "S2_bar (M2sq): 0.9257604927501145\n",
      "S4_bar (M4sq): 0.9175116586112382\n",
      "B_std_of_trials: 0.05053766939450079\n"
     ]
    },
    {
     "data": {
      "text/plain": [
       "0.6431439611354937"
      ]
     },
     "metadata": {},
     "output_type": "display_data"
    }
   ],
   "source": [
    "result_random = BinderSim.ea_binder_mc(L_test; lambda_x=lambda_x_test, lambda_zz=lambda_zz_test, \n",
    "                                       ntrials=50, seed=12345)\n",
    "\n",
    "println(\"Binder parameter: \", result_random.B)\n",
    "println(\"S2_bar (M2sq): \", result_random.S2_bar)\n",
    "println(\"S4_bar (M4sq): \", result_random.S4_bar)\n",
    "println(\"B_std_of_trials: \", result_random.B_std_of_trials)\n",
    "\n",
    "julia_random_binder = result_random.B"
   ]
  }
 ],
 "metadata": {
  "kernelspec": {
   "display_name": "Julia 1.11.5",
   "language": "julia",
   "name": "julia-1.11"
  },
  "language_info": {
   "file_extension": ".jl",
   "mimetype": "application/julia",
   "name": "julia",
   "version": "1.11.5"
  }
 },
 "nbformat": 4,
 "nbformat_minor": 5
}
