{
 "cells": [
  {
   "cell_type": "code",
   "execution_count": 11,
   "id": "3054b585",
   "metadata": {},
   "outputs": [],
   "source": [
    "using Random, Statistics\n",
    "using ITensors, ITensorMPS, ITensorCorrelators\n",
    "using Plots"
   ]
  },
  {
   "cell_type": "code",
   "execution_count": 12,
   "id": "8dd8d398",
   "metadata": {},
   "outputs": [
    {
     "data": {
      "text/plain": [
       "plot_binder_vs_lambda (generic function with 1 method)"
      ]
     },
     "metadata": {},
     "output_type": "display_data"
    }
   ],
   "source": [
    "import Base: cat\n",
    "const _cat_orig = cat\n",
    "function cat(ts...; dims)\n",
    "  return _cat_orig(ts...; dim=dims)\n",
    "end\n",
    "\n",
    "function create_weak_measurement_operators(sites, lambda_x::Float64, lambda_zz::Float64)\n",
    "    WEAK_X_0 = Dict{Int,ITensor}()\n",
    "    WEAK_X_1 = Dict{Int,ITensor}()\n",
    "    WEAK_ZZ_0 = Dict{Tuple{Int,Int},ITensor}()\n",
    "    WEAK_ZZ_1 = Dict{Tuple{Int,Int},ITensor}()\n",
    "\n",
    "    norm_x  = sqrt(2 * (1 + lambda_x^2))\n",
    "    norm_zz = sqrt(2 * (1 + lambda_zz^2))\n",
    "\n",
    "    for i in 1:length(sites)\n",
    "        Id_i = op(\"Id\", sites[i])\n",
    "        X_i  = 2 * op(\"Sx\", sites[i])\n",
    "        WEAK_X_0[i] = (Id_i + lambda_x * X_i) / norm_x\n",
    "        WEAK_X_1[i] = (Id_i - lambda_x * X_i) / norm_x\n",
    "    end\n",
    "    for i in 1:(length(sites)-1)\n",
    "        Z_i = 2 * op(\"Sz\", sites[i])\n",
    "        Z_j = 2 * op(\"Sz\", sites[i+1])\n",
    "        II  = op(\"Id\", sites[i]) * op(\"Id\", sites[i+1])\n",
    "        ZZ  = Z_i * Z_j\n",
    "        WEAK_ZZ_0[(i,i+1)] = (II + lambda_zz * ZZ) / norm_zz\n",
    "        WEAK_ZZ_1[(i,i+1)] = (II - lambda_zz * ZZ) / norm_zz\n",
    "    end\n",
    "    return WEAK_X_0, WEAK_X_1, WEAK_ZZ_0, WEAK_ZZ_1\n",
    "end\n",
    "\n",
    "function create_up_state_mps(L::Int)\n",
    "    sites = siteinds(\"S=1/2\", L)\n",
    "    ψ = productMPS(sites, fill(\"Up\", L))\n",
    "    return ψ, sites\n",
    "end\n",
    "\n",
    "function sample_and_apply(ψ::MPS, K0::ITensor, K1::ITensor, which::Vector{Int};\n",
    "                          maxdim::Int=256, cutoff::Float64=1e-12, rng=Random.GLOBAL_RNG)\n",
    "    ϕ0 = product(K0, ψ, which; maxdim=maxdim, cutoff=cutoff)\n",
    "    p0 = max(real(inner(dag(ϕ0), ϕ0)), 0.0)\n",
    "    ϕ1 = product(K1, ψ, which; maxdim=maxdim, cutoff=cutoff)\n",
    "    p1 = max(real(inner(dag(ϕ1), ϕ1)), 0.0)\n",
    "    tot = p0 + p1\n",
    "    ϕ = (tot <= 0) ? ϕ0 : (rand(rng) < p0/tot ? ϕ0 : ϕ1)\n",
    "    orthogonalize!(ϕ, which[end])\n",
    "    normalize!(ϕ)\n",
    "    return ϕ\n",
    "end\n",
    "\n",
    "# One trajectory, open chain, T_max = 2L\n",
    "function evolve_one_trial(L::Int; lambda_x::Float64, lambda_zz::Float64,\n",
    "                          maxdim::Int=256, cutoff::Float64=1e-12, rng=Random.GLOBAL_RNG)\n",
    "    ψ, sites = create_up_state_mps(L)\n",
    "    KX0, KX1, KZZ0, KZZ1 = create_weak_measurement_operators(sites, lambda_x, lambda_zz)\n",
    "    T_max = 2L\n",
    "    for _ in 1:T_max\n",
    "        # weak X on all sites\n",
    "        for i in 1:L\n",
    "            ψ = sample_and_apply(ψ, KX0[i], KX1[i], [i]; maxdim=maxdim, cutoff=cutoff, rng=rng)\n",
    "        end\n",
    "        # weak ZZ brickwork: even, then odd bonds\n",
    "        for i in 1:2:(L-1)\n",
    "            ψ = sample_and_apply(ψ, KZZ0[(i,i+1)], KZZ1[(i,i+1)], [i,i+1];\n",
    "                                 maxdim=maxdim, cutoff=cutoff, rng=rng)\n",
    "        end\n",
    "        for i in 2:2:(L-1)\n",
    "            ψ = sample_and_apply(ψ, KZZ0[(i,i+1)], KZZ1[(i,i+1)], [i,i+1];\n",
    "                                 maxdim=maxdim, cutoff=cutoff, rng=rng)\n",
    "        end\n",
    "    end\n",
    "    return ψ, sites\n",
    "end\n",
    "\n",
    "# EA Binder with ITensorCorrelators (Spin-1/2 → use \"Sz\")\n",
    "# B = 1 - S4/(3*S2^2),  S2=∑⟨Sz_i Sz_j⟩^2,  S4=∑⟨Sz_i Sz_j Sz_k Sz_l⟩^2\n",
    "function ea_binder_parameter(ψ::MPS, sites; tol::Float64=1e-12,\n",
    "                             chunk4::Int=50_000, eps::Float64=1e-30)\n",
    "    L = length(sites)\n",
    "\n",
    "    # 2-point\n",
    "    pairs = [(i,j) for i in 1:L for j in 1:L]\n",
    "    c2 = correlator(ψ, (\"Sz\",\"Sz\"), pairs)\n",
    "    S2 = 0.0\n",
    "    for (i,j) in pairs\n",
    "        v = real(c2[(i,j)])\n",
    "        S2 += v*v\n",
    "    end\n",
    "\n",
    "    # 4-point (chunked)\n",
    "    S4 = 0.0\n",
    "    buf = NTuple{4,Int}[]\n",
    "    function flush!()\n",
    "        isempty(buf) && return\n",
    "        c4 = correlator(ψ, (\"Sz\",\"Sz\",\"Sz\",\"Sz\"), buf)\n",
    "        for key in buf\n",
    "            v = real(c4[key])\n",
    "            S4 += v*v\n",
    "        end\n",
    "        empty!(buf)\n",
    "    end\n",
    "    for i in 1:L, j in 1:L, k in 1:L, l in 1:L\n",
    "        push!(buf, (i,j,k,l))\n",
    "        if length(buf) >= chunk4; flush!(); end\n",
    "    end\n",
    "    flush!()\n",
    "\n",
    "    denom = max(3.0*S2*S2, eps)\n",
    "    B = 1.0 - S4/denom\n",
    "    return B\n",
    "end\n",
    "\n",
    "function ea_binder_mc(L::Int; lambda_x::Float64, lambda_zz::Float64,\n",
    "                      ntrials::Int=200, maxdim::Int=256, cutoff::Float64=1e-12,\n",
    "                      chunk4::Int=50_000, seed::Union{Nothing,Int}=nothing)\n",
    "    rng = isnothing(seed) ? MersenneTwister() : MersenneTwister(seed)\n",
    "    S2s = Vector{Float64}(undef, ntrials)\n",
    "    S4s = Vector{Float64}(undef, ntrials)\n",
    "    Bs  = Vector{Float64}(undef, ntrials)\n",
    "\n",
    "    for t in 1:ntrials\n",
    "        ψ, sites = evolve_one_trial(L; lambda_x=lambda_x, lambda_zz=lambda_zz,\n",
    "                                    maxdim=maxdim, cutoff=cutoff, rng=rng)\n",
    "        # compute S2,S4 once to form both EA-B and per-trial B\n",
    "        # (reuse code to avoid recomputing correlators)\n",
    "        Ls = length(sites)\n",
    "        pairs = [(i,j) for i in 1:Ls for j in 1:Ls]\n",
    "        c2 = correlator(ψ, (\"Sz\",\"Sz\"), pairs)\n",
    "        S2 = 0.0\n",
    "        for (i,j) in pairs\n",
    "            v = real(c2[(i,j)])\n",
    "            S2 += v*v\n",
    "        end\n",
    "        # 4-point chunked\n",
    "        S4 = 0.0\n",
    "        buf = NTuple{4,Int}[]\n",
    "        function flush!()\n",
    "            isempty(buf) && return\n",
    "            c4 = correlator(ψ, (\"Sz\",\"Sz\",\"Sz\",\"Sz\"), buf)\n",
    "            for key in buf\n",
    "                v = real(c4[key]); S4 += v*v\n",
    "            end\n",
    "            empty!(buf)\n",
    "        end\n",
    "        for i in 1:Ls, j in 1:Ls, k in 1:Ls, l in 1:Ls\n",
    "            push!(buf, (i,j,k,l))\n",
    "            if length(buf) >= chunk4; flush!(); end\n",
    "        end\n",
    "        flush!()\n",
    "\n",
    "        S2s[t] = S2\n",
    "        S4s[t] = S4\n",
    "        Bs[t]  = 1.0 - S4 / max(3.0*S2*S2, 1e-30)\n",
    "    end\n",
    "\n",
    "    S2_bar = mean(S2s)\n",
    "    S4_bar = mean(S4s)\n",
    "    B_EA   = 1.0 - S4_bar / (3.0*S2_bar^2 + 1e-30)\n",
    "\n",
    "    return (B = B_EA,\n",
    "            B_mean_of_trials = mean(Bs),\n",
    "            B_std_of_trials  = std(Bs),\n",
    "            S2_bar = S2_bar,\n",
    "            S4_bar = S4_bar,\n",
    "            ntrials = ntrials)\n",
    "end"
   ]
  },
  {
   "cell_type": "code",
   "execution_count": 13,
   "id": "36f18c1d",
   "metadata": {},
   "outputs": [
    {
     "data": {
      "text/plain": [
       "calculate_binder_vs_lambda_with_progress (generic function with 1 method)"
      ]
     },
     "metadata": {},
     "output_type": "display_data"
    }
   ],
   "source": [
    "using ProgressMeter\n",
    "\n",
    "function calculate_binder_vs_lambda_with_progress(L::Int; lambdas = 0.0:0.05:1.0,\n",
    "                                                 ntrials::Int=100, maxdim::Int=256, cutoff::Float64=1e-12,\n",
    "                                                 chunk4::Int=50_000, seed::Union{Nothing,Int}=123)\n",
    "    Bvals = Float64[]\n",
    "    Bmean = Float64[]\n",
    "    Bstd  = Float64[]\n",
    "    \n",
    "    p = Progress(length(lambdas), desc=\"L=$L: \")\n",
    "    \n",
    "    for (idx, λ) in enumerate(lambdas)\n",
    "        λx  = λ\n",
    "        λzz = 1.0 - λ\n",
    "        \n",
    "        res = ea_binder_mc(L; lambda_x=λx, lambda_zz=λzz, ntrials=ntrials,\n",
    "                           maxdim=maxdim, cutoff=cutoff, chunk4=chunk4, seed=seed)\n",
    "        push!(Bvals, res.B)\n",
    "        push!(Bmean, res.B_mean_of_trials)\n",
    "        push!(Bstd,  res.B_std_of_trials)\n",
    "        \n",
    "        println(\"L=$L, λ=$(round(λ, digits=3)): B = $(round(res.B, digits=6))\")\n",
    "        \n",
    "        next!(p)\n",
    "    end\n",
    "    \n",
    "    return (λs=collect(lambdas), B=Bvals, B_mean=Bmean, B_std=Bstd)\n",
    "end\n"
   ]
  },
  {
   "cell_type": "code",
   "execution_count": 14,
   "id": "7bf5814c",
   "metadata": {},
   "outputs": [
    {
     "name": "stdout",
     "output_type": "stream",
     "text": [
      "L=8, λ=0.3: B = 0.63159\n"
     ]
    },
    {
     "name": "stdout",
     "output_type": "stream",
     "text": [
      "L=8, λ=0.3: B = 0.63159\n"
     ]
    },
    {
     "name": "stderr",
     "output_type": "stream",
     "text": [
      "\u001b[32mL=8:  29%|█████████████▏                                |  ETA: 0:03:49\u001b[39m\u001b[K"
     ]
    },
    {
     "name": "stdout",
     "output_type": "stream",
     "text": [
      "L=8, λ=0.3: B = 0.63159\n"
     ]
    },
    {
     "name": "stderr",
     "output_type": "stream",
     "text": [
      "\u001b[32mL=8:  29%|█████████████▏                                |  ETA: 0:03:49\u001b[39m\u001b[K"
     ]
    },
    {
     "name": "stdout",
     "output_type": "stream",
     "text": [
      "L=8, λ=0.4: B = 0.565842\n",
      "L=10, λ=0.3: B = 0.643734\n",
      "L=10, λ=0.3: B = 0.643734\n"
     ]
    },
    {
     "name": "stdout",
     "output_type": "stream",
     "text": [
      "L=8, λ=0.3: B = 0.63159\n"
     ]
    },
    {
     "name": "stderr",
     "output_type": "stream",
     "text": [
      "\u001b[32mL=8:  29%|█████████████▏                                |  ETA: 0:03:49\u001b[39m\u001b[K"
     ]
    },
    {
     "name": "stdout",
     "output_type": "stream",
     "text": [
      "L=8, λ=0.4: B = 0.565842\n",
      "L=10, λ=0.3: B = 0.643734\n",
      "L=10, λ=0.3: B = 0.643734\n"
     ]
    },
    {
     "name": "stderr",
     "output_type": "stream",
     "text": [
      "\u001b[32mL=8:  43%|███████████████████▊                          |  ETA: 0:03:03\u001b[39m\u001b[K"
     ]
    },
    {
     "name": "stdout",
     "output_type": "stream",
     "text": [
      "L=8, λ=0.3: B = 0.63159\n"
     ]
    },
    {
     "name": "stderr",
     "output_type": "stream",
     "text": [
      "\u001b[32mL=8:  29%|█████████████▏                                |  ETA: 0:03:49\u001b[39m\u001b[K"
     ]
    },
    {
     "name": "stdout",
     "output_type": "stream",
     "text": [
      "L=8, λ=0.4: B = 0.565842\n",
      "L=10, λ=0.3: B = 0.643734\n",
      "L=10, λ=0.3: B = 0.643734\n"
     ]
    },
    {
     "name": "stderr",
     "output_type": "stream",
     "text": [
      "\u001b[32mL=8:  43%|███████████████████▊                          |  ETA: 0:03:03\u001b[39m\u001b[K"
     ]
    },
    {
     "name": "stdout",
     "output_type": "stream",
     "text": [
      "L=8, λ=0.45: B = 0.515502\n"
     ]
    },
    {
     "name": "stdout",
     "output_type": "stream",
     "text": [
      "L=8, λ=0.3: B = 0.63159\n"
     ]
    },
    {
     "name": "stderr",
     "output_type": "stream",
     "text": [
      "\u001b[32mL=8:  29%|█████████████▏                                |  ETA: 0:03:49\u001b[39m\u001b[K"
     ]
    },
    {
     "name": "stdout",
     "output_type": "stream",
     "text": [
      "L=8, λ=0.4: B = 0.565842\n",
      "L=10, λ=0.3: B = 0.643734\n",
      "L=10, λ=0.3: B = 0.643734\n"
     ]
    },
    {
     "name": "stderr",
     "output_type": "stream",
     "text": [
      "\u001b[32mL=8:  43%|███████████████████▊                          |  ETA: 0:03:03\u001b[39m\u001b[K"
     ]
    },
    {
     "name": "stdout",
     "output_type": "stream",
     "text": [
      "L=8, λ=0.45: B = 0.515502\n"
     ]
    },
    {
     "name": "stderr",
     "output_type": "stream",
     "text": [
      "\u001b[32mL=8:  57%|██████████████████████████▎                   |  ETA: 0:02:17\u001b[39m\u001b[K"
     ]
    },
    {
     "name": "stdout",
     "output_type": "stream",
     "text": [
      "L=8, λ=0.3: B = 0.63159\n"
     ]
    },
    {
     "name": "stderr",
     "output_type": "stream",
     "text": [
      "\u001b[32mL=8:  29%|█████████████▏                                |  ETA: 0:03:49\u001b[39m\u001b[K"
     ]
    },
    {
     "name": "stdout",
     "output_type": "stream",
     "text": [
      "L=8, λ=0.4: B = 0.565842\n",
      "L=10, λ=0.3: B = 0.643734\n",
      "L=10, λ=0.3: B = 0.643734\n"
     ]
    },
    {
     "name": "stderr",
     "output_type": "stream",
     "text": [
      "\u001b[32mL=8:  43%|███████████████████▊                          |  ETA: 0:03:03\u001b[39m\u001b[K"
     ]
    },
    {
     "name": "stdout",
     "output_type": "stream",
     "text": [
      "L=8, λ=0.45: B = 0.515502\n"
     ]
    },
    {
     "name": "stderr",
     "output_type": "stream",
     "text": [
      "\u001b[32mL=8:  57%|██████████████████████████▎                   |  ETA: 0:02:17\u001b[39m\u001b[K"
     ]
    },
    {
     "name": "stdout",
     "output_type": "stream",
     "text": [
      "L=8, λ=0.5: B = 0.438442\n"
     ]
    },
    {
     "name": "stdout",
     "output_type": "stream",
     "text": [
      "L=8, λ=0.3: B = 0.63159\n"
     ]
    },
    {
     "name": "stderr",
     "output_type": "stream",
     "text": [
      "\u001b[32mL=8:  29%|█████████████▏                                |  ETA: 0:03:49\u001b[39m\u001b[K"
     ]
    },
    {
     "name": "stdout",
     "output_type": "stream",
     "text": [
      "L=8, λ=0.4: B = 0.565842\n",
      "L=10, λ=0.3: B = 0.643734\n",
      "L=10, λ=0.3: B = 0.643734\n"
     ]
    },
    {
     "name": "stderr",
     "output_type": "stream",
     "text": [
      "\u001b[32mL=8:  43%|███████████████████▊                          |  ETA: 0:03:03\u001b[39m\u001b[K"
     ]
    },
    {
     "name": "stdout",
     "output_type": "stream",
     "text": [
      "L=8, λ=0.45: B = 0.515502\n"
     ]
    },
    {
     "name": "stderr",
     "output_type": "stream",
     "text": [
      "\u001b[32mL=8:  57%|██████████████████████████▎                   |  ETA: 0:02:17\u001b[39m\u001b[K"
     ]
    },
    {
     "name": "stdout",
     "output_type": "stream",
     "text": [
      "L=8, λ=0.5: B = 0.438442\n"
     ]
    },
    {
     "name": "stderr",
     "output_type": "stream",
     "text": [
      "\u001b[32mL=8:  71%|████████████████████████████████▉             |  ETA: 0:01:31\u001b[39m\u001b[K"
     ]
    },
    {
     "name": "stdout",
     "output_type": "stream",
     "text": [
      "L=8, λ=0.3: B = 0.63159\n"
     ]
    },
    {
     "name": "stderr",
     "output_type": "stream",
     "text": [
      "\u001b[32mL=8:  29%|█████████████▏                                |  ETA: 0:03:49\u001b[39m\u001b[K"
     ]
    },
    {
     "name": "stdout",
     "output_type": "stream",
     "text": [
      "L=8, λ=0.4: B = 0.565842\n",
      "L=10, λ=0.3: B = 0.643734\n",
      "L=10, λ=0.3: B = 0.643734\n"
     ]
    },
    {
     "name": "stderr",
     "output_type": "stream",
     "text": [
      "\u001b[32mL=8:  43%|███████████████████▊                          |  ETA: 0:03:03\u001b[39m\u001b[K"
     ]
    },
    {
     "name": "stdout",
     "output_type": "stream",
     "text": [
      "L=8, λ=0.45: B = 0.515502\n"
     ]
    },
    {
     "name": "stderr",
     "output_type": "stream",
     "text": [
      "\u001b[32mL=8:  57%|██████████████████████████▎                   |  ETA: 0:02:17\u001b[39m\u001b[K"
     ]
    },
    {
     "name": "stdout",
     "output_type": "stream",
     "text": [
      "L=8, λ=0.5: B = 0.438442\n"
     ]
    },
    {
     "name": "stderr",
     "output_type": "stream",
     "text": [
      "\u001b[32mL=8:  71%|████████████████████████████████▉             |  ETA: 0:01:31\u001b[39m\u001b[K"
     ]
    },
    {
     "name": "stdout",
     "output_type": "stream",
     "text": [
      "L=8, λ=0.55: B = 0.384174\n",
      "L=12, λ=0.3: B = 0.642672\n",
      "L=12, λ=0.3: B = 0.642672\n"
     ]
    },
    {
     "name": "stdout",
     "output_type": "stream",
     "text": [
      "L=8, λ=0.3: B = 0.63159\n"
     ]
    },
    {
     "name": "stderr",
     "output_type": "stream",
     "text": [
      "\u001b[32mL=8:  29%|█████████████▏                                |  ETA: 0:03:49\u001b[39m\u001b[K"
     ]
    },
    {
     "name": "stdout",
     "output_type": "stream",
     "text": [
      "L=8, λ=0.4: B = 0.565842\n",
      "L=10, λ=0.3: B = 0.643734\n",
      "L=10, λ=0.3: B = 0.643734\n"
     ]
    },
    {
     "name": "stderr",
     "output_type": "stream",
     "text": [
      "\u001b[32mL=8:  43%|███████████████████▊                          |  ETA: 0:03:03\u001b[39m\u001b[K"
     ]
    },
    {
     "name": "stdout",
     "output_type": "stream",
     "text": [
      "L=8, λ=0.45: B = 0.515502\n"
     ]
    },
    {
     "name": "stderr",
     "output_type": "stream",
     "text": [
      "\u001b[32mL=8:  57%|██████████████████████████▎                   |  ETA: 0:02:17\u001b[39m\u001b[K"
     ]
    },
    {
     "name": "stdout",
     "output_type": "stream",
     "text": [
      "L=8, λ=0.5: B = 0.438442\n"
     ]
    },
    {
     "name": "stderr",
     "output_type": "stream",
     "text": [
      "\u001b[32mL=8:  71%|████████████████████████████████▉             |  ETA: 0:01:31\u001b[39m\u001b[K"
     ]
    },
    {
     "name": "stdout",
     "output_type": "stream",
     "text": [
      "L=8, λ=0.55: B = 0.384174\n",
      "L=12, λ=0.3: B = 0.642672\n",
      "L=12, λ=0.3: B = 0.642672\n"
     ]
    },
    {
     "name": "stderr",
     "output_type": "stream",
     "text": [
      "\u001b[32mL=10:  29%|████████████▉                                |  ETA: 0:10:02\u001b[39m\u001b[K"
     ]
    },
    {
     "name": "stdout",
     "output_type": "stream",
     "text": [
      "L=8, λ=0.3: B = 0.63159\n"
     ]
    },
    {
     "name": "stderr",
     "output_type": "stream",
     "text": [
      "\u001b[32mL=8:  29%|█████████████▏                                |  ETA: 0:03:49\u001b[39m\u001b[K"
     ]
    },
    {
     "name": "stdout",
     "output_type": "stream",
     "text": [
      "L=8, λ=0.4: B = 0.565842\n",
      "L=10, λ=0.3: B = 0.643734\n",
      "L=10, λ=0.3: B = 0.643734\n"
     ]
    },
    {
     "name": "stderr",
     "output_type": "stream",
     "text": [
      "\u001b[32mL=8:  43%|███████████████████▊                          |  ETA: 0:03:03\u001b[39m\u001b[K"
     ]
    },
    {
     "name": "stdout",
     "output_type": "stream",
     "text": [
      "L=8, λ=0.45: B = 0.515502\n"
     ]
    },
    {
     "name": "stderr",
     "output_type": "stream",
     "text": [
      "\u001b[32mL=8:  57%|██████████████████████████▎                   |  ETA: 0:02:17\u001b[39m\u001b[K"
     ]
    },
    {
     "name": "stdout",
     "output_type": "stream",
     "text": [
      "L=8, λ=0.5: B = 0.438442\n"
     ]
    },
    {
     "name": "stderr",
     "output_type": "stream",
     "text": [
      "\u001b[32mL=8:  71%|████████████████████████████████▉             |  ETA: 0:01:31\u001b[39m\u001b[K"
     ]
    },
    {
     "name": "stdout",
     "output_type": "stream",
     "text": [
      "L=8, λ=0.55: B = 0.384174\n",
      "L=12, λ=0.3: B = 0.642672\n",
      "L=12, λ=0.3: B = 0.642672\n"
     ]
    },
    {
     "name": "stderr",
     "output_type": "stream",
     "text": [
      "\u001b[32mL=10:  29%|████████████▉                                |  ETA: 0:10:02\u001b[39m\u001b[K"
     ]
    },
    {
     "name": "stdout",
     "output_type": "stream",
     "text": [
      "L=10, λ=0.4: B = 0.577544\n"
     ]
    },
    {
     "name": "stdout",
     "output_type": "stream",
     "text": [
      "L=8, λ=0.3: B = 0.63159\n"
     ]
    },
    {
     "name": "stderr",
     "output_type": "stream",
     "text": [
      "\u001b[32mL=8:  29%|█████████████▏                                |  ETA: 0:03:49\u001b[39m\u001b[K"
     ]
    },
    {
     "name": "stdout",
     "output_type": "stream",
     "text": [
      "L=8, λ=0.4: B = 0.565842\n",
      "L=10, λ=0.3: B = 0.643734\n",
      "L=10, λ=0.3: B = 0.643734\n"
     ]
    },
    {
     "name": "stderr",
     "output_type": "stream",
     "text": [
      "\u001b[32mL=8:  43%|███████████████████▊                          |  ETA: 0:03:03\u001b[39m\u001b[K"
     ]
    },
    {
     "name": "stdout",
     "output_type": "stream",
     "text": [
      "L=8, λ=0.45: B = 0.515502\n"
     ]
    },
    {
     "name": "stderr",
     "output_type": "stream",
     "text": [
      "\u001b[32mL=8:  57%|██████████████████████████▎                   |  ETA: 0:02:17\u001b[39m\u001b[K"
     ]
    },
    {
     "name": "stdout",
     "output_type": "stream",
     "text": [
      "L=8, λ=0.5: B = 0.438442\n"
     ]
    },
    {
     "name": "stderr",
     "output_type": "stream",
     "text": [
      "\u001b[32mL=8:  71%|████████████████████████████████▉             |  ETA: 0:01:31\u001b[39m\u001b[K"
     ]
    },
    {
     "name": "stdout",
     "output_type": "stream",
     "text": [
      "L=8, λ=0.55: B = 0.384174\n",
      "L=12, λ=0.3: B = 0.642672\n",
      "L=12, λ=0.3: B = 0.642672\n"
     ]
    },
    {
     "name": "stderr",
     "output_type": "stream",
     "text": [
      "\u001b[32mL=10:  29%|████████████▉                                |  ETA: 0:10:02\u001b[39m\u001b[K"
     ]
    },
    {
     "name": "stdout",
     "output_type": "stream",
     "text": [
      "L=10, λ=0.4: B = 0.577544\n"
     ]
    },
    {
     "name": "stderr",
     "output_type": "stream",
     "text": [
      "\u001b[32mL=8:  86%|███████████████████████████████████████▍      |  ETA: 0:00:45\u001b[39m\u001b[K"
     ]
    },
    {
     "name": "stdout",
     "output_type": "stream",
     "text": [
      "L=8, λ=0.3: B = 0.63159\n"
     ]
    },
    {
     "name": "stderr",
     "output_type": "stream",
     "text": [
      "\u001b[32mL=8:  29%|█████████████▏                                |  ETA: 0:03:49\u001b[39m\u001b[K"
     ]
    },
    {
     "name": "stdout",
     "output_type": "stream",
     "text": [
      "L=8, λ=0.4: B = 0.565842\n",
      "L=10, λ=0.3: B = 0.643734\n",
      "L=10, λ=0.3: B = 0.643734\n"
     ]
    },
    {
     "name": "stderr",
     "output_type": "stream",
     "text": [
      "\u001b[32mL=8:  43%|███████████████████▊                          |  ETA: 0:03:03\u001b[39m\u001b[K"
     ]
    },
    {
     "name": "stdout",
     "output_type": "stream",
     "text": [
      "L=8, λ=0.45: B = 0.515502\n"
     ]
    },
    {
     "name": "stderr",
     "output_type": "stream",
     "text": [
      "\u001b[32mL=8:  57%|██████████████████████████▎                   |  ETA: 0:02:17\u001b[39m\u001b[K"
     ]
    },
    {
     "name": "stdout",
     "output_type": "stream",
     "text": [
      "L=8, λ=0.5: B = 0.438442\n"
     ]
    },
    {
     "name": "stderr",
     "output_type": "stream",
     "text": [
      "\u001b[32mL=8:  71%|████████████████████████████████▉             |  ETA: 0:01:31\u001b[39m\u001b[K"
     ]
    },
    {
     "name": "stdout",
     "output_type": "stream",
     "text": [
      "L=8, λ=0.55: B = 0.384174\n",
      "L=12, λ=0.3: B = 0.642672\n",
      "L=12, λ=0.3: B = 0.642672\n"
     ]
    },
    {
     "name": "stderr",
     "output_type": "stream",
     "text": [
      "\u001b[32mL=10:  29%|████████████▉                                |  ETA: 0:10:02\u001b[39m\u001b[K"
     ]
    },
    {
     "name": "stdout",
     "output_type": "stream",
     "text": [
      "L=10, λ=0.4: B = 0.577544\n"
     ]
    },
    {
     "name": "stderr",
     "output_type": "stream",
     "text": [
      "\u001b[32mL=8:  86%|███████████████████████████████████████▍      |  ETA: 0:00:45\u001b[39m\u001b[K"
     ]
    },
    {
     "name": "stdout",
     "output_type": "stream",
     "text": [
      "L=8, λ=0.6: B = 0.312646\n"
     ]
    },
    {
     "name": "stdout",
     "output_type": "stream",
     "text": [
      "L=8, λ=0.3: B = 0.63159\n"
     ]
    },
    {
     "name": "stderr",
     "output_type": "stream",
     "text": [
      "\u001b[32mL=8:  29%|█████████████▏                                |  ETA: 0:03:49\u001b[39m\u001b[K"
     ]
    },
    {
     "name": "stdout",
     "output_type": "stream",
     "text": [
      "L=8, λ=0.4: B = 0.565842\n",
      "L=10, λ=0.3: B = 0.643734\n",
      "L=10, λ=0.3: B = 0.643734\n"
     ]
    },
    {
     "name": "stderr",
     "output_type": "stream",
     "text": [
      "\u001b[32mL=8:  43%|███████████████████▊                          |  ETA: 0:03:03\u001b[39m\u001b[K"
     ]
    },
    {
     "name": "stdout",
     "output_type": "stream",
     "text": [
      "L=8, λ=0.45: B = 0.515502\n"
     ]
    },
    {
     "name": "stderr",
     "output_type": "stream",
     "text": [
      "\u001b[32mL=8:  57%|██████████████████████████▎                   |  ETA: 0:02:17\u001b[39m\u001b[K"
     ]
    },
    {
     "name": "stdout",
     "output_type": "stream",
     "text": [
      "L=8, λ=0.5: B = 0.438442\n"
     ]
    },
    {
     "name": "stderr",
     "output_type": "stream",
     "text": [
      "\u001b[32mL=8:  71%|████████████████████████████████▉             |  ETA: 0:01:31\u001b[39m\u001b[K"
     ]
    },
    {
     "name": "stdout",
     "output_type": "stream",
     "text": [
      "L=8, λ=0.55: B = 0.384174\n",
      "L=12, λ=0.3: B = 0.642672\n",
      "L=12, λ=0.3: B = 0.642672\n"
     ]
    },
    {
     "name": "stderr",
     "output_type": "stream",
     "text": [
      "\u001b[32mL=10:  29%|████████████▉                                |  ETA: 0:10:02\u001b[39m\u001b[K"
     ]
    },
    {
     "name": "stdout",
     "output_type": "stream",
     "text": [
      "L=10, λ=0.4: B = 0.577544\n"
     ]
    },
    {
     "name": "stderr",
     "output_type": "stream",
     "text": [
      "\u001b[32mL=8:  86%|███████████████████████████████████████▍      |  ETA: 0:00:45\u001b[39m\u001b[K"
     ]
    },
    {
     "name": "stdout",
     "output_type": "stream",
     "text": [
      "L=8, λ=0.6: B = 0.312646\n"
     ]
    },
    {
     "name": "stderr",
     "output_type": "stream",
     "text": [
      "\u001b[32mL=8: 100%|██████████████████████████████████████████████| Time: 0:05:16\u001b[39m\u001b[K\n",
      "\u001b[32mL=8: 100%|██████████████████████████████████████████████| Time: 0:05:16\u001b[39m\u001b[K\n"
     ]
    },
    {
     "name": "stdout",
     "output_type": "stream",
     "text": [
      "L=8, λ=0.3: B = 0.63159\n"
     ]
    },
    {
     "name": "stderr",
     "output_type": "stream",
     "text": [
      "\u001b[32mL=8:  29%|█████████████▏                                |  ETA: 0:03:49\u001b[39m\u001b[K"
     ]
    },
    {
     "name": "stdout",
     "output_type": "stream",
     "text": [
      "L=8, λ=0.4: B = 0.565842\n",
      "L=10, λ=0.3: B = 0.643734\n",
      "L=10, λ=0.3: B = 0.643734\n"
     ]
    },
    {
     "name": "stderr",
     "output_type": "stream",
     "text": [
      "\u001b[32mL=8:  43%|███████████████████▊                          |  ETA: 0:03:03\u001b[39m\u001b[K"
     ]
    },
    {
     "name": "stdout",
     "output_type": "stream",
     "text": [
      "L=8, λ=0.45: B = 0.515502\n"
     ]
    },
    {
     "name": "stderr",
     "output_type": "stream",
     "text": [
      "\u001b[32mL=8:  57%|██████████████████████████▎                   |  ETA: 0:02:17\u001b[39m\u001b[K"
     ]
    },
    {
     "name": "stdout",
     "output_type": "stream",
     "text": [
      "L=8, λ=0.5: B = 0.438442\n"
     ]
    },
    {
     "name": "stderr",
     "output_type": "stream",
     "text": [
      "\u001b[32mL=8:  71%|████████████████████████████████▉             |  ETA: 0:01:31\u001b[39m\u001b[K"
     ]
    },
    {
     "name": "stdout",
     "output_type": "stream",
     "text": [
      "L=8, λ=0.55: B = 0.384174\n",
      "L=12, λ=0.3: B = 0.642672\n",
      "L=12, λ=0.3: B = 0.642672\n"
     ]
    },
    {
     "name": "stderr",
     "output_type": "stream",
     "text": [
      "\u001b[32mL=10:  29%|████████████▉                                |  ETA: 0:10:02\u001b[39m\u001b[K"
     ]
    },
    {
     "name": "stdout",
     "output_type": "stream",
     "text": [
      "L=10, λ=0.4: B = 0.577544\n"
     ]
    },
    {
     "name": "stderr",
     "output_type": "stream",
     "text": [
      "\u001b[32mL=8:  86%|███████████████████████████████████████▍      |  ETA: 0:00:45\u001b[39m\u001b[K"
     ]
    },
    {
     "name": "stdout",
     "output_type": "stream",
     "text": [
      "L=8, λ=0.6: B = 0.312646\n"
     ]
    },
    {
     "name": "stderr",
     "output_type": "stream",
     "text": [
      "\u001b[32mL=8: 100%|██████████████████████████████████████████████| Time: 0:05:16\u001b[39m\u001b[K\n",
      "\u001b[32mL=8: 100%|██████████████████████████████████████████████| Time: 0:05:16\u001b[39m\u001b[K\n"
     ]
    },
    {
     "name": "stdout",
     "output_type": "stream",
     "text": [
      "L=8, λ=0.7: B = 0.205168\n"
     ]
    },
    {
     "name": "stdout",
     "output_type": "stream",
     "text": [
      "L=8, λ=0.3: B = 0.63159\n"
     ]
    },
    {
     "name": "stderr",
     "output_type": "stream",
     "text": [
      "\u001b[32mL=8:  29%|█████████████▏                                |  ETA: 0:03:49\u001b[39m\u001b[K"
     ]
    },
    {
     "name": "stdout",
     "output_type": "stream",
     "text": [
      "L=8, λ=0.4: B = 0.565842\n",
      "L=10, λ=0.3: B = 0.643734\n",
      "L=10, λ=0.3: B = 0.643734\n"
     ]
    },
    {
     "name": "stderr",
     "output_type": "stream",
     "text": [
      "\u001b[32mL=8:  43%|███████████████████▊                          |  ETA: 0:03:03\u001b[39m\u001b[K"
     ]
    },
    {
     "name": "stdout",
     "output_type": "stream",
     "text": [
      "L=8, λ=0.45: B = 0.515502\n"
     ]
    },
    {
     "name": "stderr",
     "output_type": "stream",
     "text": [
      "\u001b[32mL=8:  57%|██████████████████████████▎                   |  ETA: 0:02:17\u001b[39m\u001b[K"
     ]
    },
    {
     "name": "stdout",
     "output_type": "stream",
     "text": [
      "L=8, λ=0.5: B = 0.438442\n"
     ]
    },
    {
     "name": "stderr",
     "output_type": "stream",
     "text": [
      "\u001b[32mL=8:  71%|████████████████████████████████▉             |  ETA: 0:01:31\u001b[39m\u001b[K"
     ]
    },
    {
     "name": "stdout",
     "output_type": "stream",
     "text": [
      "L=8, λ=0.55: B = 0.384174\n",
      "L=12, λ=0.3: B = 0.642672\n",
      "L=12, λ=0.3: B = 0.642672\n"
     ]
    },
    {
     "name": "stderr",
     "output_type": "stream",
     "text": [
      "\u001b[32mL=10:  29%|████████████▉                                |  ETA: 0:10:02\u001b[39m\u001b[K"
     ]
    },
    {
     "name": "stdout",
     "output_type": "stream",
     "text": [
      "L=10, λ=0.4: B = 0.577544\n"
     ]
    },
    {
     "name": "stderr",
     "output_type": "stream",
     "text": [
      "\u001b[32mL=8:  86%|███████████████████████████████████████▍      |  ETA: 0:00:45\u001b[39m\u001b[K"
     ]
    },
    {
     "name": "stdout",
     "output_type": "stream",
     "text": [
      "L=8, λ=0.6: B = 0.312646\n"
     ]
    },
    {
     "name": "stderr",
     "output_type": "stream",
     "text": [
      "\u001b[32mL=8: 100%|██████████████████████████████████████████████| Time: 0:05:16\u001b[39m\u001b[K\n",
      "\u001b[32mL=8: 100%|██████████████████████████████████████████████| Time: 0:05:16\u001b[39m\u001b[K\n"
     ]
    },
    {
     "name": "stdout",
     "output_type": "stream",
     "text": [
      "L=8, λ=0.7: B = 0.205168\n"
     ]
    },
    {
     "name": "stderr",
     "output_type": "stream",
     "text": [
      "\u001b[32mL=10:  43%|███████████████████▎                         |  ETA: 0:07:53\u001b[39m\u001b[K"
     ]
    },
    {
     "name": "stdout",
     "output_type": "stream",
     "text": [
      "L=8, λ=0.3: B = 0.63159\n"
     ]
    },
    {
     "name": "stderr",
     "output_type": "stream",
     "text": [
      "\u001b[32mL=8:  29%|█████████████▏                                |  ETA: 0:03:49\u001b[39m\u001b[K"
     ]
    },
    {
     "name": "stdout",
     "output_type": "stream",
     "text": [
      "L=8, λ=0.4: B = 0.565842\n",
      "L=10, λ=0.3: B = 0.643734\n",
      "L=10, λ=0.3: B = 0.643734\n"
     ]
    },
    {
     "name": "stderr",
     "output_type": "stream",
     "text": [
      "\u001b[32mL=8:  43%|███████████████████▊                          |  ETA: 0:03:03\u001b[39m\u001b[K"
     ]
    },
    {
     "name": "stdout",
     "output_type": "stream",
     "text": [
      "L=8, λ=0.45: B = 0.515502\n"
     ]
    },
    {
     "name": "stderr",
     "output_type": "stream",
     "text": [
      "\u001b[32mL=8:  57%|██████████████████████████▎                   |  ETA: 0:02:17\u001b[39m\u001b[K"
     ]
    },
    {
     "name": "stdout",
     "output_type": "stream",
     "text": [
      "L=8, λ=0.5: B = 0.438442\n"
     ]
    },
    {
     "name": "stderr",
     "output_type": "stream",
     "text": [
      "\u001b[32mL=8:  71%|████████████████████████████████▉             |  ETA: 0:01:31\u001b[39m\u001b[K"
     ]
    },
    {
     "name": "stdout",
     "output_type": "stream",
     "text": [
      "L=8, λ=0.55: B = 0.384174\n",
      "L=12, λ=0.3: B = 0.642672\n",
      "L=12, λ=0.3: B = 0.642672\n"
     ]
    },
    {
     "name": "stderr",
     "output_type": "stream",
     "text": [
      "\u001b[32mL=10:  29%|████████████▉                                |  ETA: 0:10:02\u001b[39m\u001b[K"
     ]
    },
    {
     "name": "stdout",
     "output_type": "stream",
     "text": [
      "L=10, λ=0.4: B = 0.577544\n"
     ]
    },
    {
     "name": "stderr",
     "output_type": "stream",
     "text": [
      "\u001b[32mL=8:  86%|███████████████████████████████████████▍      |  ETA: 0:00:45\u001b[39m\u001b[K"
     ]
    },
    {
     "name": "stdout",
     "output_type": "stream",
     "text": [
      "L=8, λ=0.6: B = 0.312646\n"
     ]
    },
    {
     "name": "stderr",
     "output_type": "stream",
     "text": [
      "\u001b[32mL=8: 100%|██████████████████████████████████████████████| Time: 0:05:16\u001b[39m\u001b[K\n",
      "\u001b[32mL=8: 100%|██████████████████████████████████████████████| Time: 0:05:16\u001b[39m\u001b[K\n"
     ]
    },
    {
     "name": "stdout",
     "output_type": "stream",
     "text": [
      "L=8, λ=0.7: B = 0.205168\n"
     ]
    },
    {
     "name": "stderr",
     "output_type": "stream",
     "text": [
      "\u001b[32mL=10:  43%|███████████████████▎                         |  ETA: 0:07:53\u001b[39m\u001b[K"
     ]
    },
    {
     "name": "stdout",
     "output_type": "stream",
     "text": [
      "L=10, λ=0.45: B = 0.506587\n"
     ]
    },
    {
     "name": "stdout",
     "output_type": "stream",
     "text": [
      "L=8, λ=0.3: B = 0.63159\n"
     ]
    },
    {
     "name": "stderr",
     "output_type": "stream",
     "text": [
      "\u001b[32mL=8:  29%|█████████████▏                                |  ETA: 0:03:49\u001b[39m\u001b[K"
     ]
    },
    {
     "name": "stdout",
     "output_type": "stream",
     "text": [
      "L=8, λ=0.4: B = 0.565842\n",
      "L=10, λ=0.3: B = 0.643734\n",
      "L=10, λ=0.3: B = 0.643734\n"
     ]
    },
    {
     "name": "stderr",
     "output_type": "stream",
     "text": [
      "\u001b[32mL=8:  43%|███████████████████▊                          |  ETA: 0:03:03\u001b[39m\u001b[K"
     ]
    },
    {
     "name": "stdout",
     "output_type": "stream",
     "text": [
      "L=8, λ=0.45: B = 0.515502\n"
     ]
    },
    {
     "name": "stderr",
     "output_type": "stream",
     "text": [
      "\u001b[32mL=8:  57%|██████████████████████████▎                   |  ETA: 0:02:17\u001b[39m\u001b[K"
     ]
    },
    {
     "name": "stdout",
     "output_type": "stream",
     "text": [
      "L=8, λ=0.5: B = 0.438442\n"
     ]
    },
    {
     "name": "stderr",
     "output_type": "stream",
     "text": [
      "\u001b[32mL=8:  71%|████████████████████████████████▉             |  ETA: 0:01:31\u001b[39m\u001b[K"
     ]
    },
    {
     "name": "stdout",
     "output_type": "stream",
     "text": [
      "L=8, λ=0.55: B = 0.384174\n",
      "L=12, λ=0.3: B = 0.642672\n",
      "L=12, λ=0.3: B = 0.642672\n"
     ]
    },
    {
     "name": "stderr",
     "output_type": "stream",
     "text": [
      "\u001b[32mL=10:  29%|████████████▉                                |  ETA: 0:10:02\u001b[39m\u001b[K"
     ]
    },
    {
     "name": "stdout",
     "output_type": "stream",
     "text": [
      "L=10, λ=0.4: B = 0.577544\n"
     ]
    },
    {
     "name": "stderr",
     "output_type": "stream",
     "text": [
      "\u001b[32mL=8:  86%|███████████████████████████████████████▍      |  ETA: 0:00:45\u001b[39m\u001b[K"
     ]
    },
    {
     "name": "stdout",
     "output_type": "stream",
     "text": [
      "L=8, λ=0.6: B = 0.312646\n"
     ]
    },
    {
     "name": "stderr",
     "output_type": "stream",
     "text": [
      "\u001b[32mL=8: 100%|██████████████████████████████████████████████| Time: 0:05:16\u001b[39m\u001b[K\n",
      "\u001b[32mL=8: 100%|██████████████████████████████████████████████| Time: 0:05:16\u001b[39m\u001b[K\n"
     ]
    },
    {
     "name": "stdout",
     "output_type": "stream",
     "text": [
      "L=8, λ=0.7: B = 0.205168\n"
     ]
    },
    {
     "name": "stderr",
     "output_type": "stream",
     "text": [
      "\u001b[32mL=10:  43%|███████████████████▎                         |  ETA: 0:07:53\u001b[39m\u001b[K"
     ]
    },
    {
     "name": "stdout",
     "output_type": "stream",
     "text": [
      "L=10, λ=0.45: B = 0.506587\n"
     ]
    },
    {
     "name": "stderr",
     "output_type": "stream",
     "text": [
      "\u001b[32mL=12:  29%|████████████▉                                |  ETA: 0:18:50\u001b[39m\u001b[K"
     ]
    },
    {
     "name": "stdout",
     "output_type": "stream",
     "text": [
      "L=8, λ=0.3: B = 0.63159\n"
     ]
    },
    {
     "name": "stderr",
     "output_type": "stream",
     "text": [
      "\u001b[32mL=8:  29%|█████████████▏                                |  ETA: 0:03:49\u001b[39m\u001b[K"
     ]
    },
    {
     "name": "stdout",
     "output_type": "stream",
     "text": [
      "L=8, λ=0.4: B = 0.565842\n",
      "L=10, λ=0.3: B = 0.643734\n",
      "L=10, λ=0.3: B = 0.643734\n"
     ]
    },
    {
     "name": "stderr",
     "output_type": "stream",
     "text": [
      "\u001b[32mL=8:  43%|███████████████████▊                          |  ETA: 0:03:03\u001b[39m\u001b[K"
     ]
    },
    {
     "name": "stdout",
     "output_type": "stream",
     "text": [
      "L=8, λ=0.45: B = 0.515502\n"
     ]
    },
    {
     "name": "stderr",
     "output_type": "stream",
     "text": [
      "\u001b[32mL=8:  57%|██████████████████████████▎                   |  ETA: 0:02:17\u001b[39m\u001b[K"
     ]
    },
    {
     "name": "stdout",
     "output_type": "stream",
     "text": [
      "L=8, λ=0.5: B = 0.438442\n"
     ]
    },
    {
     "name": "stderr",
     "output_type": "stream",
     "text": [
      "\u001b[32mL=8:  71%|████████████████████████████████▉             |  ETA: 0:01:31\u001b[39m\u001b[K"
     ]
    },
    {
     "name": "stdout",
     "output_type": "stream",
     "text": [
      "L=8, λ=0.55: B = 0.384174\n",
      "L=12, λ=0.3: B = 0.642672\n",
      "L=12, λ=0.3: B = 0.642672\n"
     ]
    },
    {
     "name": "stderr",
     "output_type": "stream",
     "text": [
      "\u001b[32mL=10:  29%|████████████▉                                |  ETA: 0:10:02\u001b[39m\u001b[K"
     ]
    },
    {
     "name": "stdout",
     "output_type": "stream",
     "text": [
      "L=10, λ=0.4: B = 0.577544\n"
     ]
    },
    {
     "name": "stderr",
     "output_type": "stream",
     "text": [
      "\u001b[32mL=8:  86%|███████████████████████████████████████▍      |  ETA: 0:00:45\u001b[39m\u001b[K"
     ]
    },
    {
     "name": "stdout",
     "output_type": "stream",
     "text": [
      "L=8, λ=0.6: B = 0.312646\n"
     ]
    },
    {
     "name": "stderr",
     "output_type": "stream",
     "text": [
      "\u001b[32mL=8: 100%|██████████████████████████████████████████████| Time: 0:05:16\u001b[39m\u001b[K\n",
      "\u001b[32mL=8: 100%|██████████████████████████████████████████████| Time: 0:05:16\u001b[39m\u001b[K\n"
     ]
    },
    {
     "name": "stdout",
     "output_type": "stream",
     "text": [
      "L=8, λ=0.7: B = 0.205168\n"
     ]
    },
    {
     "name": "stderr",
     "output_type": "stream",
     "text": [
      "\u001b[32mL=10:  43%|███████████████████▎                         |  ETA: 0:07:53\u001b[39m\u001b[K"
     ]
    },
    {
     "name": "stdout",
     "output_type": "stream",
     "text": [
      "L=10, λ=0.45: B = 0.506587\n"
     ]
    },
    {
     "name": "stderr",
     "output_type": "stream",
     "text": [
      "\u001b[32mL=12:  29%|████████████▉                                |  ETA: 0:18:50\u001b[39m\u001b[K"
     ]
    },
    {
     "name": "stdout",
     "output_type": "stream",
     "text": [
      "L=12, λ=0.4: B = 0.564169\n"
     ]
    },
    {
     "name": "stdout",
     "output_type": "stream",
     "text": [
      "L=8, λ=0.3: B = 0.63159\n"
     ]
    },
    {
     "name": "stderr",
     "output_type": "stream",
     "text": [
      "\u001b[32mL=8:  29%|█████████████▏                                |  ETA: 0:03:49\u001b[39m\u001b[K"
     ]
    },
    {
     "name": "stdout",
     "output_type": "stream",
     "text": [
      "L=8, λ=0.4: B = 0.565842\n",
      "L=10, λ=0.3: B = 0.643734\n",
      "L=10, λ=0.3: B = 0.643734\n"
     ]
    },
    {
     "name": "stderr",
     "output_type": "stream",
     "text": [
      "\u001b[32mL=8:  43%|███████████████████▊                          |  ETA: 0:03:03\u001b[39m\u001b[K"
     ]
    },
    {
     "name": "stdout",
     "output_type": "stream",
     "text": [
      "L=8, λ=0.45: B = 0.515502\n"
     ]
    },
    {
     "name": "stderr",
     "output_type": "stream",
     "text": [
      "\u001b[32mL=8:  57%|██████████████████████████▎                   |  ETA: 0:02:17\u001b[39m\u001b[K"
     ]
    },
    {
     "name": "stdout",
     "output_type": "stream",
     "text": [
      "L=8, λ=0.5: B = 0.438442\n"
     ]
    },
    {
     "name": "stderr",
     "output_type": "stream",
     "text": [
      "\u001b[32mL=8:  71%|████████████████████████████████▉             |  ETA: 0:01:31\u001b[39m\u001b[K"
     ]
    },
    {
     "name": "stdout",
     "output_type": "stream",
     "text": [
      "L=8, λ=0.55: B = 0.384174\n",
      "L=12, λ=0.3: B = 0.642672\n",
      "L=12, λ=0.3: B = 0.642672\n"
     ]
    },
    {
     "name": "stderr",
     "output_type": "stream",
     "text": [
      "\u001b[32mL=10:  29%|████████████▉                                |  ETA: 0:10:02\u001b[39m\u001b[K"
     ]
    },
    {
     "name": "stdout",
     "output_type": "stream",
     "text": [
      "L=10, λ=0.4: B = 0.577544\n"
     ]
    },
    {
     "name": "stderr",
     "output_type": "stream",
     "text": [
      "\u001b[32mL=8:  86%|███████████████████████████████████████▍      |  ETA: 0:00:45\u001b[39m\u001b[K"
     ]
    },
    {
     "name": "stdout",
     "output_type": "stream",
     "text": [
      "L=8, λ=0.6: B = 0.312646\n"
     ]
    },
    {
     "name": "stderr",
     "output_type": "stream",
     "text": [
      "\u001b[32mL=8: 100%|██████████████████████████████████████████████| Time: 0:05:16\u001b[39m\u001b[K\n",
      "\u001b[32mL=8: 100%|██████████████████████████████████████████████| Time: 0:05:16\u001b[39m\u001b[K\n"
     ]
    },
    {
     "name": "stdout",
     "output_type": "stream",
     "text": [
      "L=8, λ=0.7: B = 0.205168\n"
     ]
    },
    {
     "name": "stderr",
     "output_type": "stream",
     "text": [
      "\u001b[32mL=10:  43%|███████████████████▎                         |  ETA: 0:07:53\u001b[39m\u001b[K"
     ]
    },
    {
     "name": "stdout",
     "output_type": "stream",
     "text": [
      "L=10, λ=0.45: B = 0.506587\n"
     ]
    },
    {
     "name": "stderr",
     "output_type": "stream",
     "text": [
      "\u001b[32mL=12:  29%|████████████▉                                |  ETA: 0:18:50\u001b[39m\u001b[K"
     ]
    },
    {
     "name": "stdout",
     "output_type": "stream",
     "text": [
      "L=12, λ=0.4: B = 0.564169\n"
     ]
    },
    {
     "name": "stderr",
     "output_type": "stream",
     "text": [
      "\u001b[32mL=10:  57%|█████████████████████████▊                   |  ETA: 0:05:46\u001b[39m\u001b[K"
     ]
    },
    {
     "name": "stdout",
     "output_type": "stream",
     "text": [
      "L=8, λ=0.3: B = 0.63159\n"
     ]
    },
    {
     "name": "stderr",
     "output_type": "stream",
     "text": [
      "\u001b[32mL=8:  29%|█████████████▏                                |  ETA: 0:03:49\u001b[39m\u001b[K"
     ]
    },
    {
     "name": "stdout",
     "output_type": "stream",
     "text": [
      "L=8, λ=0.4: B = 0.565842\n",
      "L=10, λ=0.3: B = 0.643734\n",
      "L=10, λ=0.3: B = 0.643734\n"
     ]
    },
    {
     "name": "stderr",
     "output_type": "stream",
     "text": [
      "\u001b[32mL=8:  43%|███████████████████▊                          |  ETA: 0:03:03\u001b[39m\u001b[K"
     ]
    },
    {
     "name": "stdout",
     "output_type": "stream",
     "text": [
      "L=8, λ=0.45: B = 0.515502\n"
     ]
    },
    {
     "name": "stderr",
     "output_type": "stream",
     "text": [
      "\u001b[32mL=8:  57%|██████████████████████████▎                   |  ETA: 0:02:17\u001b[39m\u001b[K"
     ]
    },
    {
     "name": "stdout",
     "output_type": "stream",
     "text": [
      "L=8, λ=0.5: B = 0.438442\n"
     ]
    },
    {
     "name": "stderr",
     "output_type": "stream",
     "text": [
      "\u001b[32mL=8:  71%|████████████████████████████████▉             |  ETA: 0:01:31\u001b[39m\u001b[K"
     ]
    },
    {
     "name": "stdout",
     "output_type": "stream",
     "text": [
      "L=8, λ=0.55: B = 0.384174\n",
      "L=12, λ=0.3: B = 0.642672\n",
      "L=12, λ=0.3: B = 0.642672\n"
     ]
    },
    {
     "name": "stderr",
     "output_type": "stream",
     "text": [
      "\u001b[32mL=10:  29%|████████████▉                                |  ETA: 0:10:02\u001b[39m\u001b[K"
     ]
    },
    {
     "name": "stdout",
     "output_type": "stream",
     "text": [
      "L=10, λ=0.4: B = 0.577544\n"
     ]
    },
    {
     "name": "stderr",
     "output_type": "stream",
     "text": [
      "\u001b[32mL=8:  86%|███████████████████████████████████████▍      |  ETA: 0:00:45\u001b[39m\u001b[K"
     ]
    },
    {
     "name": "stdout",
     "output_type": "stream",
     "text": [
      "L=8, λ=0.6: B = 0.312646\n"
     ]
    },
    {
     "name": "stderr",
     "output_type": "stream",
     "text": [
      "\u001b[32mL=8: 100%|██████████████████████████████████████████████| Time: 0:05:16\u001b[39m\u001b[K\n",
      "\u001b[32mL=8: 100%|██████████████████████████████████████████████| Time: 0:05:16\u001b[39m\u001b[K\n"
     ]
    },
    {
     "name": "stdout",
     "output_type": "stream",
     "text": [
      "L=8, λ=0.7: B = 0.205168\n"
     ]
    },
    {
     "name": "stderr",
     "output_type": "stream",
     "text": [
      "\u001b[32mL=10:  43%|███████████████████▎                         |  ETA: 0:07:53\u001b[39m\u001b[K"
     ]
    },
    {
     "name": "stdout",
     "output_type": "stream",
     "text": [
      "L=10, λ=0.45: B = 0.506587\n"
     ]
    },
    {
     "name": "stderr",
     "output_type": "stream",
     "text": [
      "\u001b[32mL=12:  29%|████████████▉                                |  ETA: 0:18:50\u001b[39m\u001b[K"
     ]
    },
    {
     "name": "stdout",
     "output_type": "stream",
     "text": [
      "L=12, λ=0.4: B = 0.564169\n"
     ]
    },
    {
     "name": "stderr",
     "output_type": "stream",
     "text": [
      "\u001b[32mL=10:  57%|█████████████████████████▊                   |  ETA: 0:05:46\u001b[39m\u001b[K"
     ]
    },
    {
     "name": "stdout",
     "output_type": "stream",
     "text": [
      "L=10, λ=0.5: B = 0.447189\n"
     ]
    },
    {
     "name": "stdout",
     "output_type": "stream",
     "text": [
      "L=8, λ=0.3: B = 0.63159\n"
     ]
    },
    {
     "name": "stderr",
     "output_type": "stream",
     "text": [
      "\u001b[32mL=8:  29%|█████████████▏                                |  ETA: 0:03:49\u001b[39m\u001b[K"
     ]
    },
    {
     "name": "stdout",
     "output_type": "stream",
     "text": [
      "L=8, λ=0.4: B = 0.565842\n",
      "L=10, λ=0.3: B = 0.643734\n",
      "L=10, λ=0.3: B = 0.643734\n"
     ]
    },
    {
     "name": "stderr",
     "output_type": "stream",
     "text": [
      "\u001b[32mL=8:  43%|███████████████████▊                          |  ETA: 0:03:03\u001b[39m\u001b[K"
     ]
    },
    {
     "name": "stdout",
     "output_type": "stream",
     "text": [
      "L=8, λ=0.45: B = 0.515502\n"
     ]
    },
    {
     "name": "stderr",
     "output_type": "stream",
     "text": [
      "\u001b[32mL=8:  57%|██████████████████████████▎                   |  ETA: 0:02:17\u001b[39m\u001b[K"
     ]
    },
    {
     "name": "stdout",
     "output_type": "stream",
     "text": [
      "L=8, λ=0.5: B = 0.438442\n"
     ]
    },
    {
     "name": "stderr",
     "output_type": "stream",
     "text": [
      "\u001b[32mL=8:  71%|████████████████████████████████▉             |  ETA: 0:01:31\u001b[39m\u001b[K"
     ]
    },
    {
     "name": "stdout",
     "output_type": "stream",
     "text": [
      "L=8, λ=0.55: B = 0.384174\n",
      "L=12, λ=0.3: B = 0.642672\n",
      "L=12, λ=0.3: B = 0.642672\n"
     ]
    },
    {
     "name": "stderr",
     "output_type": "stream",
     "text": [
      "\u001b[32mL=10:  29%|████████████▉                                |  ETA: 0:10:02\u001b[39m\u001b[K"
     ]
    },
    {
     "name": "stdout",
     "output_type": "stream",
     "text": [
      "L=10, λ=0.4: B = 0.577544\n"
     ]
    },
    {
     "name": "stderr",
     "output_type": "stream",
     "text": [
      "\u001b[32mL=8:  86%|███████████████████████████████████████▍      |  ETA: 0:00:45\u001b[39m\u001b[K"
     ]
    },
    {
     "name": "stdout",
     "output_type": "stream",
     "text": [
      "L=8, λ=0.6: B = 0.312646\n"
     ]
    },
    {
     "name": "stderr",
     "output_type": "stream",
     "text": [
      "\u001b[32mL=8: 100%|██████████████████████████████████████████████| Time: 0:05:16\u001b[39m\u001b[K\n",
      "\u001b[32mL=8: 100%|██████████████████████████████████████████████| Time: 0:05:16\u001b[39m\u001b[K\n"
     ]
    },
    {
     "name": "stdout",
     "output_type": "stream",
     "text": [
      "L=8, λ=0.7: B = 0.205168\n"
     ]
    },
    {
     "name": "stderr",
     "output_type": "stream",
     "text": [
      "\u001b[32mL=10:  43%|███████████████████▎                         |  ETA: 0:07:53\u001b[39m\u001b[K"
     ]
    },
    {
     "name": "stdout",
     "output_type": "stream",
     "text": [
      "L=10, λ=0.45: B = 0.506587\n"
     ]
    },
    {
     "name": "stderr",
     "output_type": "stream",
     "text": [
      "\u001b[32mL=12:  29%|████████████▉                                |  ETA: 0:18:50\u001b[39m\u001b[K"
     ]
    },
    {
     "name": "stdout",
     "output_type": "stream",
     "text": [
      "L=12, λ=0.4: B = 0.564169\n"
     ]
    },
    {
     "name": "stderr",
     "output_type": "stream",
     "text": [
      "\u001b[32mL=10:  57%|█████████████████████████▊                   |  ETA: 0:05:46\u001b[39m\u001b[K"
     ]
    },
    {
     "name": "stdout",
     "output_type": "stream",
     "text": [
      "L=10, λ=0.5: B = 0.447189\n"
     ]
    },
    {
     "name": "stderr",
     "output_type": "stream",
     "text": [
      "\u001b[32mL=10:  71%|████████████████████████████████▏            |  ETA: 0:03:46\u001b[39m\u001b[K"
     ]
    },
    {
     "name": "stdout",
     "output_type": "stream",
     "text": [
      "L=8, λ=0.3: B = 0.63159\n"
     ]
    },
    {
     "name": "stderr",
     "output_type": "stream",
     "text": [
      "\u001b[32mL=8:  29%|█████████████▏                                |  ETA: 0:03:49\u001b[39m\u001b[K"
     ]
    },
    {
     "name": "stdout",
     "output_type": "stream",
     "text": [
      "L=8, λ=0.4: B = 0.565842\n",
      "L=10, λ=0.3: B = 0.643734\n",
      "L=10, λ=0.3: B = 0.643734\n"
     ]
    },
    {
     "name": "stderr",
     "output_type": "stream",
     "text": [
      "\u001b[32mL=8:  43%|███████████████████▊                          |  ETA: 0:03:03\u001b[39m\u001b[K"
     ]
    },
    {
     "name": "stdout",
     "output_type": "stream",
     "text": [
      "L=8, λ=0.45: B = 0.515502\n"
     ]
    },
    {
     "name": "stderr",
     "output_type": "stream",
     "text": [
      "\u001b[32mL=8:  57%|██████████████████████████▎                   |  ETA: 0:02:17\u001b[39m\u001b[K"
     ]
    },
    {
     "name": "stdout",
     "output_type": "stream",
     "text": [
      "L=8, λ=0.5: B = 0.438442\n"
     ]
    },
    {
     "name": "stderr",
     "output_type": "stream",
     "text": [
      "\u001b[32mL=8:  71%|████████████████████████████████▉             |  ETA: 0:01:31\u001b[39m\u001b[K"
     ]
    },
    {
     "name": "stdout",
     "output_type": "stream",
     "text": [
      "L=8, λ=0.55: B = 0.384174\n",
      "L=12, λ=0.3: B = 0.642672\n",
      "L=12, λ=0.3: B = 0.642672\n"
     ]
    },
    {
     "name": "stderr",
     "output_type": "stream",
     "text": [
      "\u001b[32mL=10:  29%|████████████▉                                |  ETA: 0:10:02\u001b[39m\u001b[K"
     ]
    },
    {
     "name": "stdout",
     "output_type": "stream",
     "text": [
      "L=10, λ=0.4: B = 0.577544\n"
     ]
    },
    {
     "name": "stderr",
     "output_type": "stream",
     "text": [
      "\u001b[32mL=8:  86%|███████████████████████████████████████▍      |  ETA: 0:00:45\u001b[39m\u001b[K"
     ]
    },
    {
     "name": "stdout",
     "output_type": "stream",
     "text": [
      "L=8, λ=0.6: B = 0.312646\n"
     ]
    },
    {
     "name": "stderr",
     "output_type": "stream",
     "text": [
      "\u001b[32mL=8: 100%|██████████████████████████████████████████████| Time: 0:05:16\u001b[39m\u001b[K\n",
      "\u001b[32mL=8: 100%|██████████████████████████████████████████████| Time: 0:05:16\u001b[39m\u001b[K\n"
     ]
    },
    {
     "name": "stdout",
     "output_type": "stream",
     "text": [
      "L=8, λ=0.7: B = 0.205168\n"
     ]
    },
    {
     "name": "stderr",
     "output_type": "stream",
     "text": [
      "\u001b[32mL=10:  43%|███████████████████▎                         |  ETA: 0:07:53\u001b[39m\u001b[K"
     ]
    },
    {
     "name": "stdout",
     "output_type": "stream",
     "text": [
      "L=10, λ=0.45: B = 0.506587\n"
     ]
    },
    {
     "name": "stderr",
     "output_type": "stream",
     "text": [
      "\u001b[32mL=12:  29%|████████████▉                                |  ETA: 0:18:50\u001b[39m\u001b[K"
     ]
    },
    {
     "name": "stdout",
     "output_type": "stream",
     "text": [
      "L=12, λ=0.4: B = 0.564169\n"
     ]
    },
    {
     "name": "stderr",
     "output_type": "stream",
     "text": [
      "\u001b[32mL=10:  57%|█████████████████████████▊                   |  ETA: 0:05:46\u001b[39m\u001b[K"
     ]
    },
    {
     "name": "stdout",
     "output_type": "stream",
     "text": [
      "L=10, λ=0.5: B = 0.447189\n"
     ]
    },
    {
     "name": "stderr",
     "output_type": "stream",
     "text": [
      "\u001b[32mL=10:  71%|████████████████████████████████▏            |  ETA: 0:03:46\u001b[39m\u001b[K"
     ]
    },
    {
     "name": "stdout",
     "output_type": "stream",
     "text": [
      "L=10, λ=0.55: B = 0.362887\n"
     ]
    },
    {
     "name": "stdout",
     "output_type": "stream",
     "text": [
      "L=8, λ=0.3: B = 0.63159\n"
     ]
    },
    {
     "name": "stderr",
     "output_type": "stream",
     "text": [
      "\u001b[32mL=8:  29%|█████████████▏                                |  ETA: 0:03:49\u001b[39m\u001b[K"
     ]
    },
    {
     "name": "stdout",
     "output_type": "stream",
     "text": [
      "L=8, λ=0.4: B = 0.565842\n",
      "L=10, λ=0.3: B = 0.643734\n",
      "L=10, λ=0.3: B = 0.643734\n"
     ]
    },
    {
     "name": "stderr",
     "output_type": "stream",
     "text": [
      "\u001b[32mL=8:  43%|███████████████████▊                          |  ETA: 0:03:03\u001b[39m\u001b[K"
     ]
    },
    {
     "name": "stdout",
     "output_type": "stream",
     "text": [
      "L=8, λ=0.45: B = 0.515502\n"
     ]
    },
    {
     "name": "stderr",
     "output_type": "stream",
     "text": [
      "\u001b[32mL=8:  57%|██████████████████████████▎                   |  ETA: 0:02:17\u001b[39m\u001b[K"
     ]
    },
    {
     "name": "stdout",
     "output_type": "stream",
     "text": [
      "L=8, λ=0.5: B = 0.438442\n"
     ]
    },
    {
     "name": "stderr",
     "output_type": "stream",
     "text": [
      "\u001b[32mL=8:  71%|████████████████████████████████▉             |  ETA: 0:01:31\u001b[39m\u001b[K"
     ]
    },
    {
     "name": "stdout",
     "output_type": "stream",
     "text": [
      "L=8, λ=0.55: B = 0.384174\n",
      "L=12, λ=0.3: B = 0.642672\n",
      "L=12, λ=0.3: B = 0.642672\n"
     ]
    },
    {
     "name": "stderr",
     "output_type": "stream",
     "text": [
      "\u001b[32mL=10:  29%|████████████▉                                |  ETA: 0:10:02\u001b[39m\u001b[K"
     ]
    },
    {
     "name": "stdout",
     "output_type": "stream",
     "text": [
      "L=10, λ=0.4: B = 0.577544\n"
     ]
    },
    {
     "name": "stderr",
     "output_type": "stream",
     "text": [
      "\u001b[32mL=8:  86%|███████████████████████████████████████▍      |  ETA: 0:00:45\u001b[39m\u001b[K"
     ]
    },
    {
     "name": "stdout",
     "output_type": "stream",
     "text": [
      "L=8, λ=0.6: B = 0.312646\n"
     ]
    },
    {
     "name": "stderr",
     "output_type": "stream",
     "text": [
      "\u001b[32mL=8: 100%|██████████████████████████████████████████████| Time: 0:05:16\u001b[39m\u001b[K\n",
      "\u001b[32mL=8: 100%|██████████████████████████████████████████████| Time: 0:05:16\u001b[39m\u001b[K\n"
     ]
    },
    {
     "name": "stdout",
     "output_type": "stream",
     "text": [
      "L=8, λ=0.7: B = 0.205168\n"
     ]
    },
    {
     "name": "stderr",
     "output_type": "stream",
     "text": [
      "\u001b[32mL=10:  43%|███████████████████▎                         |  ETA: 0:07:53\u001b[39m\u001b[K"
     ]
    },
    {
     "name": "stdout",
     "output_type": "stream",
     "text": [
      "L=10, λ=0.45: B = 0.506587\n"
     ]
    },
    {
     "name": "stderr",
     "output_type": "stream",
     "text": [
      "\u001b[32mL=12:  29%|████████████▉                                |  ETA: 0:18:50\u001b[39m\u001b[K"
     ]
    },
    {
     "name": "stdout",
     "output_type": "stream",
     "text": [
      "L=12, λ=0.4: B = 0.564169\n"
     ]
    },
    {
     "name": "stderr",
     "output_type": "stream",
     "text": [
      "\u001b[32mL=10:  57%|█████████████████████████▊                   |  ETA: 0:05:46\u001b[39m\u001b[K"
     ]
    },
    {
     "name": "stdout",
     "output_type": "stream",
     "text": [
      "L=10, λ=0.5: B = 0.447189\n"
     ]
    },
    {
     "name": "stderr",
     "output_type": "stream",
     "text": [
      "\u001b[32mL=10:  71%|████████████████████████████████▏            |  ETA: 0:03:46\u001b[39m\u001b[K"
     ]
    },
    {
     "name": "stdout",
     "output_type": "stream",
     "text": [
      "L=10, λ=0.55: B = 0.362887\n"
     ]
    },
    {
     "name": "stderr",
     "output_type": "stream",
     "text": [
      "\u001b[32mL=12:  43%|███████████████████▎                         |  ETA: 0:14:40\u001b[39m\u001b[K"
     ]
    },
    {
     "name": "stdout",
     "output_type": "stream",
     "text": [
      "L=8, λ=0.3: B = 0.63159\n"
     ]
    },
    {
     "name": "stderr",
     "output_type": "stream",
     "text": [
      "\u001b[32mL=8:  29%|█████████████▏                                |  ETA: 0:03:49\u001b[39m\u001b[K"
     ]
    },
    {
     "name": "stdout",
     "output_type": "stream",
     "text": [
      "L=8, λ=0.4: B = 0.565842\n",
      "L=10, λ=0.3: B = 0.643734\n",
      "L=10, λ=0.3: B = 0.643734\n"
     ]
    },
    {
     "name": "stderr",
     "output_type": "stream",
     "text": [
      "\u001b[32mL=8:  43%|███████████████████▊                          |  ETA: 0:03:03\u001b[39m\u001b[K"
     ]
    },
    {
     "name": "stdout",
     "output_type": "stream",
     "text": [
      "L=8, λ=0.45: B = 0.515502\n"
     ]
    },
    {
     "name": "stderr",
     "output_type": "stream",
     "text": [
      "\u001b[32mL=8:  57%|██████████████████████████▎                   |  ETA: 0:02:17\u001b[39m\u001b[K"
     ]
    },
    {
     "name": "stdout",
     "output_type": "stream",
     "text": [
      "L=8, λ=0.5: B = 0.438442\n"
     ]
    },
    {
     "name": "stderr",
     "output_type": "stream",
     "text": [
      "\u001b[32mL=8:  71%|████████████████████████████████▉             |  ETA: 0:01:31\u001b[39m\u001b[K"
     ]
    },
    {
     "name": "stdout",
     "output_type": "stream",
     "text": [
      "L=8, λ=0.55: B = 0.384174\n",
      "L=12, λ=0.3: B = 0.642672\n",
      "L=12, λ=0.3: B = 0.642672\n"
     ]
    },
    {
     "name": "stderr",
     "output_type": "stream",
     "text": [
      "\u001b[32mL=10:  29%|████████████▉                                |  ETA: 0:10:02\u001b[39m\u001b[K"
     ]
    },
    {
     "name": "stdout",
     "output_type": "stream",
     "text": [
      "L=10, λ=0.4: B = 0.577544\n"
     ]
    },
    {
     "name": "stderr",
     "output_type": "stream",
     "text": [
      "\u001b[32mL=8:  86%|███████████████████████████████████████▍      |  ETA: 0:00:45\u001b[39m\u001b[K"
     ]
    },
    {
     "name": "stdout",
     "output_type": "stream",
     "text": [
      "L=8, λ=0.6: B = 0.312646\n"
     ]
    },
    {
     "name": "stderr",
     "output_type": "stream",
     "text": [
      "\u001b[32mL=8: 100%|██████████████████████████████████████████████| Time: 0:05:16\u001b[39m\u001b[K\n",
      "\u001b[32mL=8: 100%|██████████████████████████████████████████████| Time: 0:05:16\u001b[39m\u001b[K\n"
     ]
    },
    {
     "name": "stdout",
     "output_type": "stream",
     "text": [
      "L=8, λ=0.7: B = 0.205168\n"
     ]
    },
    {
     "name": "stderr",
     "output_type": "stream",
     "text": [
      "\u001b[32mL=10:  43%|███████████████████▎                         |  ETA: 0:07:53\u001b[39m\u001b[K"
     ]
    },
    {
     "name": "stdout",
     "output_type": "stream",
     "text": [
      "L=10, λ=0.45: B = 0.506587\n"
     ]
    },
    {
     "name": "stderr",
     "output_type": "stream",
     "text": [
      "\u001b[32mL=12:  29%|████████████▉                                |  ETA: 0:18:50\u001b[39m\u001b[K"
     ]
    },
    {
     "name": "stdout",
     "output_type": "stream",
     "text": [
      "L=12, λ=0.4: B = 0.564169\n"
     ]
    },
    {
     "name": "stderr",
     "output_type": "stream",
     "text": [
      "\u001b[32mL=10:  57%|█████████████████████████▊                   |  ETA: 0:05:46\u001b[39m\u001b[K"
     ]
    },
    {
     "name": "stdout",
     "output_type": "stream",
     "text": [
      "L=10, λ=0.5: B = 0.447189\n"
     ]
    },
    {
     "name": "stderr",
     "output_type": "stream",
     "text": [
      "\u001b[32mL=10:  71%|████████████████████████████████▏            |  ETA: 0:03:46\u001b[39m\u001b[K"
     ]
    },
    {
     "name": "stdout",
     "output_type": "stream",
     "text": [
      "L=10, λ=0.55: B = 0.362887\n"
     ]
    },
    {
     "name": "stderr",
     "output_type": "stream",
     "text": [
      "\u001b[32mL=12:  43%|███████████████████▎                         |  ETA: 0:14:40\u001b[39m\u001b[K"
     ]
    },
    {
     "name": "stdout",
     "output_type": "stream",
     "text": [
      "L=12, λ=0.45: B = 0.492432\n"
     ]
    },
    {
     "name": "stdout",
     "output_type": "stream",
     "text": [
      "L=8, λ=0.3: B = 0.63159\n"
     ]
    },
    {
     "name": "stderr",
     "output_type": "stream",
     "text": [
      "\u001b[32mL=8:  29%|█████████████▏                                |  ETA: 0:03:49\u001b[39m\u001b[K"
     ]
    },
    {
     "name": "stdout",
     "output_type": "stream",
     "text": [
      "L=8, λ=0.4: B = 0.565842\n",
      "L=10, λ=0.3: B = 0.643734\n",
      "L=10, λ=0.3: B = 0.643734\n"
     ]
    },
    {
     "name": "stderr",
     "output_type": "stream",
     "text": [
      "\u001b[32mL=8:  43%|███████████████████▊                          |  ETA: 0:03:03\u001b[39m\u001b[K"
     ]
    },
    {
     "name": "stdout",
     "output_type": "stream",
     "text": [
      "L=8, λ=0.45: B = 0.515502\n"
     ]
    },
    {
     "name": "stderr",
     "output_type": "stream",
     "text": [
      "\u001b[32mL=8:  57%|██████████████████████████▎                   |  ETA: 0:02:17\u001b[39m\u001b[K"
     ]
    },
    {
     "name": "stdout",
     "output_type": "stream",
     "text": [
      "L=8, λ=0.5: B = 0.438442\n"
     ]
    },
    {
     "name": "stderr",
     "output_type": "stream",
     "text": [
      "\u001b[32mL=8:  71%|████████████████████████████████▉             |  ETA: 0:01:31\u001b[39m\u001b[K"
     ]
    },
    {
     "name": "stdout",
     "output_type": "stream",
     "text": [
      "L=8, λ=0.55: B = 0.384174\n",
      "L=12, λ=0.3: B = 0.642672\n",
      "L=12, λ=0.3: B = 0.642672\n"
     ]
    },
    {
     "name": "stderr",
     "output_type": "stream",
     "text": [
      "\u001b[32mL=10:  29%|████████████▉                                |  ETA: 0:10:02\u001b[39m\u001b[K"
     ]
    },
    {
     "name": "stdout",
     "output_type": "stream",
     "text": [
      "L=10, λ=0.4: B = 0.577544\n"
     ]
    },
    {
     "name": "stderr",
     "output_type": "stream",
     "text": [
      "\u001b[32mL=8:  86%|███████████████████████████████████████▍      |  ETA: 0:00:45\u001b[39m\u001b[K"
     ]
    },
    {
     "name": "stdout",
     "output_type": "stream",
     "text": [
      "L=8, λ=0.6: B = 0.312646\n"
     ]
    },
    {
     "name": "stderr",
     "output_type": "stream",
     "text": [
      "\u001b[32mL=8: 100%|██████████████████████████████████████████████| Time: 0:05:16\u001b[39m\u001b[K\n",
      "\u001b[32mL=8: 100%|██████████████████████████████████████████████| Time: 0:05:16\u001b[39m\u001b[K\n"
     ]
    },
    {
     "name": "stdout",
     "output_type": "stream",
     "text": [
      "L=8, λ=0.7: B = 0.205168\n"
     ]
    },
    {
     "name": "stderr",
     "output_type": "stream",
     "text": [
      "\u001b[32mL=10:  43%|███████████████████▎                         |  ETA: 0:07:53\u001b[39m\u001b[K"
     ]
    },
    {
     "name": "stdout",
     "output_type": "stream",
     "text": [
      "L=10, λ=0.45: B = 0.506587\n"
     ]
    },
    {
     "name": "stderr",
     "output_type": "stream",
     "text": [
      "\u001b[32mL=12:  29%|████████████▉                                |  ETA: 0:18:50\u001b[39m\u001b[K"
     ]
    },
    {
     "name": "stdout",
     "output_type": "stream",
     "text": [
      "L=12, λ=0.4: B = 0.564169\n"
     ]
    },
    {
     "name": "stderr",
     "output_type": "stream",
     "text": [
      "\u001b[32mL=10:  57%|█████████████████████████▊                   |  ETA: 0:05:46\u001b[39m\u001b[K"
     ]
    },
    {
     "name": "stdout",
     "output_type": "stream",
     "text": [
      "L=10, λ=0.5: B = 0.447189\n"
     ]
    },
    {
     "name": "stderr",
     "output_type": "stream",
     "text": [
      "\u001b[32mL=10:  71%|████████████████████████████████▏            |  ETA: 0:03:46\u001b[39m\u001b[K"
     ]
    },
    {
     "name": "stdout",
     "output_type": "stream",
     "text": [
      "L=10, λ=0.55: B = 0.362887\n"
     ]
    },
    {
     "name": "stderr",
     "output_type": "stream",
     "text": [
      "\u001b[32mL=12:  43%|███████████████████▎                         |  ETA: 0:14:40\u001b[39m\u001b[K"
     ]
    },
    {
     "name": "stdout",
     "output_type": "stream",
     "text": [
      "L=12, λ=0.45: B = 0.492432\n"
     ]
    },
    {
     "name": "stderr",
     "output_type": "stream",
     "text": [
      "\u001b[32mL=10:  86%|██████████████████████████████████████▋      |  ETA: 0:01:52\u001b[39m\u001b[K"
     ]
    },
    {
     "name": "stdout",
     "output_type": "stream",
     "text": [
      "L=8, λ=0.3: B = 0.63159\n"
     ]
    },
    {
     "name": "stderr",
     "output_type": "stream",
     "text": [
      "\u001b[32mL=8:  29%|█████████████▏                                |  ETA: 0:03:49\u001b[39m\u001b[K"
     ]
    },
    {
     "name": "stdout",
     "output_type": "stream",
     "text": [
      "L=8, λ=0.4: B = 0.565842\n",
      "L=10, λ=0.3: B = 0.643734\n",
      "L=10, λ=0.3: B = 0.643734\n"
     ]
    },
    {
     "name": "stderr",
     "output_type": "stream",
     "text": [
      "\u001b[32mL=8:  43%|███████████████████▊                          |  ETA: 0:03:03\u001b[39m\u001b[K"
     ]
    },
    {
     "name": "stdout",
     "output_type": "stream",
     "text": [
      "L=8, λ=0.45: B = 0.515502\n"
     ]
    },
    {
     "name": "stderr",
     "output_type": "stream",
     "text": [
      "\u001b[32mL=8:  57%|██████████████████████████▎                   |  ETA: 0:02:17\u001b[39m\u001b[K"
     ]
    },
    {
     "name": "stdout",
     "output_type": "stream",
     "text": [
      "L=8, λ=0.5: B = 0.438442\n"
     ]
    },
    {
     "name": "stderr",
     "output_type": "stream",
     "text": [
      "\u001b[32mL=8:  71%|████████████████████████████████▉             |  ETA: 0:01:31\u001b[39m\u001b[K"
     ]
    },
    {
     "name": "stdout",
     "output_type": "stream",
     "text": [
      "L=8, λ=0.55: B = 0.384174\n",
      "L=12, λ=0.3: B = 0.642672\n",
      "L=12, λ=0.3: B = 0.642672\n"
     ]
    },
    {
     "name": "stderr",
     "output_type": "stream",
     "text": [
      "\u001b[32mL=10:  29%|████████████▉                                |  ETA: 0:10:02\u001b[39m\u001b[K"
     ]
    },
    {
     "name": "stdout",
     "output_type": "stream",
     "text": [
      "L=10, λ=0.4: B = 0.577544\n"
     ]
    },
    {
     "name": "stderr",
     "output_type": "stream",
     "text": [
      "\u001b[32mL=8:  86%|███████████████████████████████████████▍      |  ETA: 0:00:45\u001b[39m\u001b[K"
     ]
    },
    {
     "name": "stdout",
     "output_type": "stream",
     "text": [
      "L=8, λ=0.6: B = 0.312646\n"
     ]
    },
    {
     "name": "stderr",
     "output_type": "stream",
     "text": [
      "\u001b[32mL=8: 100%|██████████████████████████████████████████████| Time: 0:05:16\u001b[39m\u001b[K\n",
      "\u001b[32mL=8: 100%|██████████████████████████████████████████████| Time: 0:05:16\u001b[39m\u001b[K\n"
     ]
    },
    {
     "name": "stdout",
     "output_type": "stream",
     "text": [
      "L=8, λ=0.7: B = 0.205168\n"
     ]
    },
    {
     "name": "stderr",
     "output_type": "stream",
     "text": [
      "\u001b[32mL=10:  43%|███████████████████▎                         |  ETA: 0:07:53\u001b[39m\u001b[K"
     ]
    },
    {
     "name": "stdout",
     "output_type": "stream",
     "text": [
      "L=10, λ=0.45: B = 0.506587\n"
     ]
    },
    {
     "name": "stderr",
     "output_type": "stream",
     "text": [
      "\u001b[32mL=12:  29%|████████████▉                                |  ETA: 0:18:50\u001b[39m\u001b[K"
     ]
    },
    {
     "name": "stdout",
     "output_type": "stream",
     "text": [
      "L=12, λ=0.4: B = 0.564169\n"
     ]
    },
    {
     "name": "stderr",
     "output_type": "stream",
     "text": [
      "\u001b[32mL=10:  57%|█████████████████████████▊                   |  ETA: 0:05:46\u001b[39m\u001b[K"
     ]
    },
    {
     "name": "stdout",
     "output_type": "stream",
     "text": [
      "L=10, λ=0.5: B = 0.447189\n"
     ]
    },
    {
     "name": "stderr",
     "output_type": "stream",
     "text": [
      "\u001b[32mL=10:  71%|████████████████████████████████▏            |  ETA: 0:03:46\u001b[39m\u001b[K"
     ]
    },
    {
     "name": "stdout",
     "output_type": "stream",
     "text": [
      "L=10, λ=0.55: B = 0.362887\n"
     ]
    },
    {
     "name": "stderr",
     "output_type": "stream",
     "text": [
      "\u001b[32mL=12:  43%|███████████████████▎                         |  ETA: 0:14:40\u001b[39m\u001b[K"
     ]
    },
    {
     "name": "stdout",
     "output_type": "stream",
     "text": [
      "L=12, λ=0.45: B = 0.492432\n"
     ]
    },
    {
     "name": "stderr",
     "output_type": "stream",
     "text": [
      "\u001b[32mL=10:  86%|██████████████████████████████████████▋      |  ETA: 0:01:52\u001b[39m\u001b[K"
     ]
    },
    {
     "name": "stdout",
     "output_type": "stream",
     "text": [
      "L=10, λ=0.6: B = 0.284696\n"
     ]
    },
    {
     "name": "stdout",
     "output_type": "stream",
     "text": [
      "L=8, λ=0.3: B = 0.63159\n"
     ]
    },
    {
     "name": "stderr",
     "output_type": "stream",
     "text": [
      "\u001b[32mL=8:  29%|█████████████▏                                |  ETA: 0:03:49\u001b[39m\u001b[K"
     ]
    },
    {
     "name": "stdout",
     "output_type": "stream",
     "text": [
      "L=8, λ=0.4: B = 0.565842\n",
      "L=10, λ=0.3: B = 0.643734\n",
      "L=10, λ=0.3: B = 0.643734\n"
     ]
    },
    {
     "name": "stderr",
     "output_type": "stream",
     "text": [
      "\u001b[32mL=8:  43%|███████████████████▊                          |  ETA: 0:03:03\u001b[39m\u001b[K"
     ]
    },
    {
     "name": "stdout",
     "output_type": "stream",
     "text": [
      "L=8, λ=0.45: B = 0.515502\n"
     ]
    },
    {
     "name": "stderr",
     "output_type": "stream",
     "text": [
      "\u001b[32mL=8:  57%|██████████████████████████▎                   |  ETA: 0:02:17\u001b[39m\u001b[K"
     ]
    },
    {
     "name": "stdout",
     "output_type": "stream",
     "text": [
      "L=8, λ=0.5: B = 0.438442\n"
     ]
    },
    {
     "name": "stderr",
     "output_type": "stream",
     "text": [
      "\u001b[32mL=8:  71%|████████████████████████████████▉             |  ETA: 0:01:31\u001b[39m\u001b[K"
     ]
    },
    {
     "name": "stdout",
     "output_type": "stream",
     "text": [
      "L=8, λ=0.55: B = 0.384174\n",
      "L=12, λ=0.3: B = 0.642672\n",
      "L=12, λ=0.3: B = 0.642672\n"
     ]
    },
    {
     "name": "stderr",
     "output_type": "stream",
     "text": [
      "\u001b[32mL=10:  29%|████████████▉                                |  ETA: 0:10:02\u001b[39m\u001b[K"
     ]
    },
    {
     "name": "stdout",
     "output_type": "stream",
     "text": [
      "L=10, λ=0.4: B = 0.577544\n"
     ]
    },
    {
     "name": "stderr",
     "output_type": "stream",
     "text": [
      "\u001b[32mL=8:  86%|███████████████████████████████████████▍      |  ETA: 0:00:45\u001b[39m\u001b[K"
     ]
    },
    {
     "name": "stdout",
     "output_type": "stream",
     "text": [
      "L=8, λ=0.6: B = 0.312646\n"
     ]
    },
    {
     "name": "stderr",
     "output_type": "stream",
     "text": [
      "\u001b[32mL=8: 100%|██████████████████████████████████████████████| Time: 0:05:16\u001b[39m\u001b[K\n",
      "\u001b[32mL=8: 100%|██████████████████████████████████████████████| Time: 0:05:16\u001b[39m\u001b[K\n"
     ]
    },
    {
     "name": "stdout",
     "output_type": "stream",
     "text": [
      "L=8, λ=0.7: B = 0.205168\n"
     ]
    },
    {
     "name": "stderr",
     "output_type": "stream",
     "text": [
      "\u001b[32mL=10:  43%|███████████████████▎                         |  ETA: 0:07:53\u001b[39m\u001b[K"
     ]
    },
    {
     "name": "stdout",
     "output_type": "stream",
     "text": [
      "L=10, λ=0.45: B = 0.506587\n"
     ]
    },
    {
     "name": "stderr",
     "output_type": "stream",
     "text": [
      "\u001b[32mL=12:  29%|████████████▉                                |  ETA: 0:18:50\u001b[39m\u001b[K"
     ]
    },
    {
     "name": "stdout",
     "output_type": "stream",
     "text": [
      "L=12, λ=0.4: B = 0.564169\n"
     ]
    },
    {
     "name": "stderr",
     "output_type": "stream",
     "text": [
      "\u001b[32mL=10:  57%|█████████████████████████▊                   |  ETA: 0:05:46\u001b[39m\u001b[K"
     ]
    },
    {
     "name": "stdout",
     "output_type": "stream",
     "text": [
      "L=10, λ=0.5: B = 0.447189\n"
     ]
    },
    {
     "name": "stderr",
     "output_type": "stream",
     "text": [
      "\u001b[32mL=10:  71%|████████████████████████████████▏            |  ETA: 0:03:46\u001b[39m\u001b[K"
     ]
    },
    {
     "name": "stdout",
     "output_type": "stream",
     "text": [
      "L=10, λ=0.55: B = 0.362887\n"
     ]
    },
    {
     "name": "stderr",
     "output_type": "stream",
     "text": [
      "\u001b[32mL=12:  43%|███████████████████▎                         |  ETA: 0:14:40\u001b[39m\u001b[K"
     ]
    },
    {
     "name": "stdout",
     "output_type": "stream",
     "text": [
      "L=12, λ=0.45: B = 0.492432\n"
     ]
    },
    {
     "name": "stderr",
     "output_type": "stream",
     "text": [
      "\u001b[32mL=10:  86%|██████████████████████████████████████▋      |  ETA: 0:01:52\u001b[39m\u001b[K"
     ]
    },
    {
     "name": "stdout",
     "output_type": "stream",
     "text": [
      "L=10, λ=0.6: B = 0.284696\n"
     ]
    },
    {
     "name": "stderr",
     "output_type": "stream",
     "text": [
      "\u001b[32mL=10: 100%|█████████████████████████████████████████████| Time: 0:12:53\u001b[39m\u001b[K\n",
      "\u001b[32mL=10: 100%|█████████████████████████████████████████████| Time: 0:12:53\u001b[39m\u001b[K\n"
     ]
    },
    {
     "name": "stdout",
     "output_type": "stream",
     "text": [
      "L=8, λ=0.3: B = 0.63159\n"
     ]
    },
    {
     "name": "stderr",
     "output_type": "stream",
     "text": [
      "\u001b[32mL=8:  29%|█████████████▏                                |  ETA: 0:03:49\u001b[39m\u001b[K"
     ]
    },
    {
     "name": "stdout",
     "output_type": "stream",
     "text": [
      "L=8, λ=0.4: B = 0.565842\n",
      "L=10, λ=0.3: B = 0.643734\n",
      "L=10, λ=0.3: B = 0.643734\n"
     ]
    },
    {
     "name": "stderr",
     "output_type": "stream",
     "text": [
      "\u001b[32mL=8:  43%|███████████████████▊                          |  ETA: 0:03:03\u001b[39m\u001b[K"
     ]
    },
    {
     "name": "stdout",
     "output_type": "stream",
     "text": [
      "L=8, λ=0.45: B = 0.515502\n"
     ]
    },
    {
     "name": "stderr",
     "output_type": "stream",
     "text": [
      "\u001b[32mL=8:  57%|██████████████████████████▎                   |  ETA: 0:02:17\u001b[39m\u001b[K"
     ]
    },
    {
     "name": "stdout",
     "output_type": "stream",
     "text": [
      "L=8, λ=0.5: B = 0.438442\n"
     ]
    },
    {
     "name": "stderr",
     "output_type": "stream",
     "text": [
      "\u001b[32mL=8:  71%|████████████████████████████████▉             |  ETA: 0:01:31\u001b[39m\u001b[K"
     ]
    },
    {
     "name": "stdout",
     "output_type": "stream",
     "text": [
      "L=8, λ=0.55: B = 0.384174\n",
      "L=12, λ=0.3: B = 0.642672\n",
      "L=12, λ=0.3: B = 0.642672\n"
     ]
    },
    {
     "name": "stderr",
     "output_type": "stream",
     "text": [
      "\u001b[32mL=10:  29%|████████████▉                                |  ETA: 0:10:02\u001b[39m\u001b[K"
     ]
    },
    {
     "name": "stdout",
     "output_type": "stream",
     "text": [
      "L=10, λ=0.4: B = 0.577544\n"
     ]
    },
    {
     "name": "stderr",
     "output_type": "stream",
     "text": [
      "\u001b[32mL=8:  86%|███████████████████████████████████████▍      |  ETA: 0:00:45\u001b[39m\u001b[K"
     ]
    },
    {
     "name": "stdout",
     "output_type": "stream",
     "text": [
      "L=8, λ=0.6: B = 0.312646\n"
     ]
    },
    {
     "name": "stderr",
     "output_type": "stream",
     "text": [
      "\u001b[32mL=8: 100%|██████████████████████████████████████████████| Time: 0:05:16\u001b[39m\u001b[K\n",
      "\u001b[32mL=8: 100%|██████████████████████████████████████████████| Time: 0:05:16\u001b[39m\u001b[K\n"
     ]
    },
    {
     "name": "stdout",
     "output_type": "stream",
     "text": [
      "L=8, λ=0.7: B = 0.205168\n"
     ]
    },
    {
     "name": "stderr",
     "output_type": "stream",
     "text": [
      "\u001b[32mL=10:  43%|███████████████████▎                         |  ETA: 0:07:53\u001b[39m\u001b[K"
     ]
    },
    {
     "name": "stdout",
     "output_type": "stream",
     "text": [
      "L=10, λ=0.45: B = 0.506587\n"
     ]
    },
    {
     "name": "stderr",
     "output_type": "stream",
     "text": [
      "\u001b[32mL=12:  29%|████████████▉                                |  ETA: 0:18:50\u001b[39m\u001b[K"
     ]
    },
    {
     "name": "stdout",
     "output_type": "stream",
     "text": [
      "L=12, λ=0.4: B = 0.564169\n"
     ]
    },
    {
     "name": "stderr",
     "output_type": "stream",
     "text": [
      "\u001b[32mL=10:  57%|█████████████████████████▊                   |  ETA: 0:05:46\u001b[39m\u001b[K"
     ]
    },
    {
     "name": "stdout",
     "output_type": "stream",
     "text": [
      "L=10, λ=0.5: B = 0.447189\n"
     ]
    },
    {
     "name": "stderr",
     "output_type": "stream",
     "text": [
      "\u001b[32mL=10:  71%|████████████████████████████████▏            |  ETA: 0:03:46\u001b[39m\u001b[K"
     ]
    },
    {
     "name": "stdout",
     "output_type": "stream",
     "text": [
      "L=10, λ=0.55: B = 0.362887\n"
     ]
    },
    {
     "name": "stderr",
     "output_type": "stream",
     "text": [
      "\u001b[32mL=12:  43%|███████████████████▎                         |  ETA: 0:14:40\u001b[39m\u001b[K"
     ]
    },
    {
     "name": "stdout",
     "output_type": "stream",
     "text": [
      "L=12, λ=0.45: B = 0.492432\n"
     ]
    },
    {
     "name": "stderr",
     "output_type": "stream",
     "text": [
      "\u001b[32mL=10:  86%|██████████████████████████████████████▋      |  ETA: 0:01:52\u001b[39m\u001b[K"
     ]
    },
    {
     "name": "stdout",
     "output_type": "stream",
     "text": [
      "L=10, λ=0.6: B = 0.284696\n"
     ]
    },
    {
     "name": "stderr",
     "output_type": "stream",
     "text": [
      "\u001b[32mL=10: 100%|█████████████████████████████████████████████| Time: 0:12:53\u001b[39m\u001b[K\n",
      "\u001b[32mL=10: 100%|█████████████████████████████████████████████| Time: 0:12:53\u001b[39m\u001b[K\n"
     ]
    },
    {
     "name": "stdout",
     "output_type": "stream",
     "text": [
      "L=10, λ=0.7: B = 0.168842\n"
     ]
    },
    {
     "name": "stdout",
     "output_type": "stream",
     "text": [
      "L=8, λ=0.3: B = 0.63159\n"
     ]
    },
    {
     "name": "stderr",
     "output_type": "stream",
     "text": [
      "\u001b[32mL=8:  29%|█████████████▏                                |  ETA: 0:03:49\u001b[39m\u001b[K"
     ]
    },
    {
     "name": "stdout",
     "output_type": "stream",
     "text": [
      "L=8, λ=0.4: B = 0.565842\n",
      "L=10, λ=0.3: B = 0.643734\n",
      "L=10, λ=0.3: B = 0.643734\n"
     ]
    },
    {
     "name": "stderr",
     "output_type": "stream",
     "text": [
      "\u001b[32mL=8:  43%|███████████████████▊                          |  ETA: 0:03:03\u001b[39m\u001b[K"
     ]
    },
    {
     "name": "stdout",
     "output_type": "stream",
     "text": [
      "L=8, λ=0.45: B = 0.515502\n"
     ]
    },
    {
     "name": "stderr",
     "output_type": "stream",
     "text": [
      "\u001b[32mL=8:  57%|██████████████████████████▎                   |  ETA: 0:02:17\u001b[39m\u001b[K"
     ]
    },
    {
     "name": "stdout",
     "output_type": "stream",
     "text": [
      "L=8, λ=0.5: B = 0.438442\n"
     ]
    },
    {
     "name": "stderr",
     "output_type": "stream",
     "text": [
      "\u001b[32mL=8:  71%|████████████████████████████████▉             |  ETA: 0:01:31\u001b[39m\u001b[K"
     ]
    },
    {
     "name": "stdout",
     "output_type": "stream",
     "text": [
      "L=8, λ=0.55: B = 0.384174\n",
      "L=12, λ=0.3: B = 0.642672\n",
      "L=12, λ=0.3: B = 0.642672\n"
     ]
    },
    {
     "name": "stderr",
     "output_type": "stream",
     "text": [
      "\u001b[32mL=10:  29%|████████████▉                                |  ETA: 0:10:02\u001b[39m\u001b[K"
     ]
    },
    {
     "name": "stdout",
     "output_type": "stream",
     "text": [
      "L=10, λ=0.4: B = 0.577544\n"
     ]
    },
    {
     "name": "stderr",
     "output_type": "stream",
     "text": [
      "\u001b[32mL=8:  86%|███████████████████████████████████████▍      |  ETA: 0:00:45\u001b[39m\u001b[K"
     ]
    },
    {
     "name": "stdout",
     "output_type": "stream",
     "text": [
      "L=8, λ=0.6: B = 0.312646\n"
     ]
    },
    {
     "name": "stderr",
     "output_type": "stream",
     "text": [
      "\u001b[32mL=8: 100%|██████████████████████████████████████████████| Time: 0:05:16\u001b[39m\u001b[K\n",
      "\u001b[32mL=8: 100%|██████████████████████████████████████████████| Time: 0:05:16\u001b[39m\u001b[K\n"
     ]
    },
    {
     "name": "stdout",
     "output_type": "stream",
     "text": [
      "L=8, λ=0.7: B = 0.205168\n"
     ]
    },
    {
     "name": "stderr",
     "output_type": "stream",
     "text": [
      "\u001b[32mL=10:  43%|███████████████████▎                         |  ETA: 0:07:53\u001b[39m\u001b[K"
     ]
    },
    {
     "name": "stdout",
     "output_type": "stream",
     "text": [
      "L=10, λ=0.45: B = 0.506587\n"
     ]
    },
    {
     "name": "stderr",
     "output_type": "stream",
     "text": [
      "\u001b[32mL=12:  29%|████████████▉                                |  ETA: 0:18:50\u001b[39m\u001b[K"
     ]
    },
    {
     "name": "stdout",
     "output_type": "stream",
     "text": [
      "L=12, λ=0.4: B = 0.564169\n"
     ]
    },
    {
     "name": "stderr",
     "output_type": "stream",
     "text": [
      "\u001b[32mL=10:  57%|█████████████████████████▊                   |  ETA: 0:05:46\u001b[39m\u001b[K"
     ]
    },
    {
     "name": "stdout",
     "output_type": "stream",
     "text": [
      "L=10, λ=0.5: B = 0.447189\n"
     ]
    },
    {
     "name": "stderr",
     "output_type": "stream",
     "text": [
      "\u001b[32mL=10:  71%|████████████████████████████████▏            |  ETA: 0:03:46\u001b[39m\u001b[K"
     ]
    },
    {
     "name": "stdout",
     "output_type": "stream",
     "text": [
      "L=10, λ=0.55: B = 0.362887\n"
     ]
    },
    {
     "name": "stderr",
     "output_type": "stream",
     "text": [
      "\u001b[32mL=12:  43%|███████████████████▎                         |  ETA: 0:14:40\u001b[39m\u001b[K"
     ]
    },
    {
     "name": "stdout",
     "output_type": "stream",
     "text": [
      "L=12, λ=0.45: B = 0.492432\n"
     ]
    },
    {
     "name": "stderr",
     "output_type": "stream",
     "text": [
      "\u001b[32mL=10:  86%|██████████████████████████████████████▋      |  ETA: 0:01:52\u001b[39m\u001b[K"
     ]
    },
    {
     "name": "stdout",
     "output_type": "stream",
     "text": [
      "L=10, λ=0.6: B = 0.284696\n"
     ]
    },
    {
     "name": "stderr",
     "output_type": "stream",
     "text": [
      "\u001b[32mL=10: 100%|█████████████████████████████████████████████| Time: 0:12:53\u001b[39m\u001b[K\n",
      "\u001b[32mL=10: 100%|█████████████████████████████████████████████| Time: 0:12:53\u001b[39m\u001b[K\n"
     ]
    },
    {
     "name": "stdout",
     "output_type": "stream",
     "text": [
      "L=10, λ=0.7: B = 0.168842\n"
     ]
    },
    {
     "name": "stderr",
     "output_type": "stream",
     "text": [
      "\u001b[32mL=12:  57%|█████████████████████████▊                   |  ETA: 0:10:39\u001b[39m\u001b[K"
     ]
    },
    {
     "name": "stdout",
     "output_type": "stream",
     "text": [
      "L=8, λ=0.3: B = 0.63159\n"
     ]
    },
    {
     "name": "stderr",
     "output_type": "stream",
     "text": [
      "\u001b[32mL=8:  29%|█████████████▏                                |  ETA: 0:03:49\u001b[39m\u001b[K"
     ]
    },
    {
     "name": "stdout",
     "output_type": "stream",
     "text": [
      "L=8, λ=0.4: B = 0.565842\n",
      "L=10, λ=0.3: B = 0.643734\n",
      "L=10, λ=0.3: B = 0.643734\n"
     ]
    },
    {
     "name": "stderr",
     "output_type": "stream",
     "text": [
      "\u001b[32mL=8:  43%|███████████████████▊                          |  ETA: 0:03:03\u001b[39m\u001b[K"
     ]
    },
    {
     "name": "stdout",
     "output_type": "stream",
     "text": [
      "L=8, λ=0.45: B = 0.515502\n"
     ]
    },
    {
     "name": "stderr",
     "output_type": "stream",
     "text": [
      "\u001b[32mL=8:  57%|██████████████████████████▎                   |  ETA: 0:02:17\u001b[39m\u001b[K"
     ]
    },
    {
     "name": "stdout",
     "output_type": "stream",
     "text": [
      "L=8, λ=0.5: B = 0.438442\n"
     ]
    },
    {
     "name": "stderr",
     "output_type": "stream",
     "text": [
      "\u001b[32mL=8:  71%|████████████████████████████████▉             |  ETA: 0:01:31\u001b[39m\u001b[K"
     ]
    },
    {
     "name": "stdout",
     "output_type": "stream",
     "text": [
      "L=8, λ=0.55: B = 0.384174\n",
      "L=12, λ=0.3: B = 0.642672\n",
      "L=12, λ=0.3: B = 0.642672\n"
     ]
    },
    {
     "name": "stderr",
     "output_type": "stream",
     "text": [
      "\u001b[32mL=10:  29%|████████████▉                                |  ETA: 0:10:02\u001b[39m\u001b[K"
     ]
    },
    {
     "name": "stdout",
     "output_type": "stream",
     "text": [
      "L=10, λ=0.4: B = 0.577544\n"
     ]
    },
    {
     "name": "stderr",
     "output_type": "stream",
     "text": [
      "\u001b[32mL=8:  86%|███████████████████████████████████████▍      |  ETA: 0:00:45\u001b[39m\u001b[K"
     ]
    },
    {
     "name": "stdout",
     "output_type": "stream",
     "text": [
      "L=8, λ=0.6: B = 0.312646\n"
     ]
    },
    {
     "name": "stderr",
     "output_type": "stream",
     "text": [
      "\u001b[32mL=8: 100%|██████████████████████████████████████████████| Time: 0:05:16\u001b[39m\u001b[K\n",
      "\u001b[32mL=8: 100%|██████████████████████████████████████████████| Time: 0:05:16\u001b[39m\u001b[K\n"
     ]
    },
    {
     "name": "stdout",
     "output_type": "stream",
     "text": [
      "L=8, λ=0.7: B = 0.205168\n"
     ]
    },
    {
     "name": "stderr",
     "output_type": "stream",
     "text": [
      "\u001b[32mL=10:  43%|███████████████████▎                         |  ETA: 0:07:53\u001b[39m\u001b[K"
     ]
    },
    {
     "name": "stdout",
     "output_type": "stream",
     "text": [
      "L=10, λ=0.45: B = 0.506587\n"
     ]
    },
    {
     "name": "stderr",
     "output_type": "stream",
     "text": [
      "\u001b[32mL=12:  29%|████████████▉                                |  ETA: 0:18:50\u001b[39m\u001b[K"
     ]
    },
    {
     "name": "stdout",
     "output_type": "stream",
     "text": [
      "L=12, λ=0.4: B = 0.564169\n"
     ]
    },
    {
     "name": "stderr",
     "output_type": "stream",
     "text": [
      "\u001b[32mL=10:  57%|█████████████████████████▊                   |  ETA: 0:05:46\u001b[39m\u001b[K"
     ]
    },
    {
     "name": "stdout",
     "output_type": "stream",
     "text": [
      "L=10, λ=0.5: B = 0.447189\n"
     ]
    },
    {
     "name": "stderr",
     "output_type": "stream",
     "text": [
      "\u001b[32mL=10:  71%|████████████████████████████████▏            |  ETA: 0:03:46\u001b[39m\u001b[K"
     ]
    },
    {
     "name": "stdout",
     "output_type": "stream",
     "text": [
      "L=10, λ=0.55: B = 0.362887\n"
     ]
    },
    {
     "name": "stderr",
     "output_type": "stream",
     "text": [
      "\u001b[32mL=12:  43%|███████████████████▎                         |  ETA: 0:14:40\u001b[39m\u001b[K"
     ]
    },
    {
     "name": "stdout",
     "output_type": "stream",
     "text": [
      "L=12, λ=0.45: B = 0.492432\n"
     ]
    },
    {
     "name": "stderr",
     "output_type": "stream",
     "text": [
      "\u001b[32mL=10:  86%|██████████████████████████████████████▋      |  ETA: 0:01:52\u001b[39m\u001b[K"
     ]
    },
    {
     "name": "stdout",
     "output_type": "stream",
     "text": [
      "L=10, λ=0.6: B = 0.284696\n"
     ]
    },
    {
     "name": "stderr",
     "output_type": "stream",
     "text": [
      "\u001b[32mL=10: 100%|█████████████████████████████████████████████| Time: 0:12:53\u001b[39m\u001b[K\n",
      "\u001b[32mL=10: 100%|█████████████████████████████████████████████| Time: 0:12:53\u001b[39m\u001b[K\n"
     ]
    },
    {
     "name": "stdout",
     "output_type": "stream",
     "text": [
      "L=10, λ=0.7: B = 0.168842\n"
     ]
    },
    {
     "name": "stderr",
     "output_type": "stream",
     "text": [
      "\u001b[32mL=12:  57%|█████████████████████████▊                   |  ETA: 0:10:39\u001b[39m\u001b[K"
     ]
    },
    {
     "name": "stdout",
     "output_type": "stream",
     "text": [
      "L=12, λ=0.5: B = 0.432689\n"
     ]
    },
    {
     "name": "stdout",
     "output_type": "stream",
     "text": [
      "L=8, λ=0.3: B = 0.63159\n"
     ]
    },
    {
     "name": "stderr",
     "output_type": "stream",
     "text": [
      "\u001b[32mL=8:  29%|█████████████▏                                |  ETA: 0:03:49\u001b[39m\u001b[K"
     ]
    },
    {
     "name": "stdout",
     "output_type": "stream",
     "text": [
      "L=8, λ=0.4: B = 0.565842\n",
      "L=10, λ=0.3: B = 0.643734\n",
      "L=10, λ=0.3: B = 0.643734\n"
     ]
    },
    {
     "name": "stderr",
     "output_type": "stream",
     "text": [
      "\u001b[32mL=8:  43%|███████████████████▊                          |  ETA: 0:03:03\u001b[39m\u001b[K"
     ]
    },
    {
     "name": "stdout",
     "output_type": "stream",
     "text": [
      "L=8, λ=0.45: B = 0.515502\n"
     ]
    },
    {
     "name": "stderr",
     "output_type": "stream",
     "text": [
      "\u001b[32mL=8:  57%|██████████████████████████▎                   |  ETA: 0:02:17\u001b[39m\u001b[K"
     ]
    },
    {
     "name": "stdout",
     "output_type": "stream",
     "text": [
      "L=8, λ=0.5: B = 0.438442\n"
     ]
    },
    {
     "name": "stderr",
     "output_type": "stream",
     "text": [
      "\u001b[32mL=8:  71%|████████████████████████████████▉             |  ETA: 0:01:31\u001b[39m\u001b[K"
     ]
    },
    {
     "name": "stdout",
     "output_type": "stream",
     "text": [
      "L=8, λ=0.55: B = 0.384174\n",
      "L=12, λ=0.3: B = 0.642672\n",
      "L=12, λ=0.3: B = 0.642672\n"
     ]
    },
    {
     "name": "stderr",
     "output_type": "stream",
     "text": [
      "\u001b[32mL=10:  29%|████████████▉                                |  ETA: 0:10:02\u001b[39m\u001b[K"
     ]
    },
    {
     "name": "stdout",
     "output_type": "stream",
     "text": [
      "L=10, λ=0.4: B = 0.577544\n"
     ]
    },
    {
     "name": "stderr",
     "output_type": "stream",
     "text": [
      "\u001b[32mL=8:  86%|███████████████████████████████████████▍      |  ETA: 0:00:45\u001b[39m\u001b[K"
     ]
    },
    {
     "name": "stdout",
     "output_type": "stream",
     "text": [
      "L=8, λ=0.6: B = 0.312646\n"
     ]
    },
    {
     "name": "stderr",
     "output_type": "stream",
     "text": [
      "\u001b[32mL=8: 100%|██████████████████████████████████████████████| Time: 0:05:16\u001b[39m\u001b[K\n",
      "\u001b[32mL=8: 100%|██████████████████████████████████████████████| Time: 0:05:16\u001b[39m\u001b[K\n"
     ]
    },
    {
     "name": "stdout",
     "output_type": "stream",
     "text": [
      "L=8, λ=0.7: B = 0.205168\n"
     ]
    },
    {
     "name": "stderr",
     "output_type": "stream",
     "text": [
      "\u001b[32mL=10:  43%|███████████████████▎                         |  ETA: 0:07:53\u001b[39m\u001b[K"
     ]
    },
    {
     "name": "stdout",
     "output_type": "stream",
     "text": [
      "L=10, λ=0.45: B = 0.506587\n"
     ]
    },
    {
     "name": "stderr",
     "output_type": "stream",
     "text": [
      "\u001b[32mL=12:  29%|████████████▉                                |  ETA: 0:18:50\u001b[39m\u001b[K"
     ]
    },
    {
     "name": "stdout",
     "output_type": "stream",
     "text": [
      "L=12, λ=0.4: B = 0.564169\n"
     ]
    },
    {
     "name": "stderr",
     "output_type": "stream",
     "text": [
      "\u001b[32mL=10:  57%|█████████████████████████▊                   |  ETA: 0:05:46\u001b[39m\u001b[K"
     ]
    },
    {
     "name": "stdout",
     "output_type": "stream",
     "text": [
      "L=10, λ=0.5: B = 0.447189\n"
     ]
    },
    {
     "name": "stderr",
     "output_type": "stream",
     "text": [
      "\u001b[32mL=10:  71%|████████████████████████████████▏            |  ETA: 0:03:46\u001b[39m\u001b[K"
     ]
    },
    {
     "name": "stdout",
     "output_type": "stream",
     "text": [
      "L=10, λ=0.55: B = 0.362887\n"
     ]
    },
    {
     "name": "stderr",
     "output_type": "stream",
     "text": [
      "\u001b[32mL=12:  43%|███████████████████▎                         |  ETA: 0:14:40\u001b[39m\u001b[K"
     ]
    },
    {
     "name": "stdout",
     "output_type": "stream",
     "text": [
      "L=12, λ=0.45: B = 0.492432\n"
     ]
    },
    {
     "name": "stderr",
     "output_type": "stream",
     "text": [
      "\u001b[32mL=10:  86%|██████████████████████████████████████▋      |  ETA: 0:01:52\u001b[39m\u001b[K"
     ]
    },
    {
     "name": "stdout",
     "output_type": "stream",
     "text": [
      "L=10, λ=0.6: B = 0.284696\n"
     ]
    },
    {
     "name": "stderr",
     "output_type": "stream",
     "text": [
      "\u001b[32mL=10: 100%|█████████████████████████████████████████████| Time: 0:12:53\u001b[39m\u001b[K\n",
      "\u001b[32mL=10: 100%|█████████████████████████████████████████████| Time: 0:12:53\u001b[39m\u001b[K\n"
     ]
    },
    {
     "name": "stdout",
     "output_type": "stream",
     "text": [
      "L=10, λ=0.7: B = 0.168842\n"
     ]
    },
    {
     "name": "stderr",
     "output_type": "stream",
     "text": [
      "\u001b[32mL=12:  57%|█████████████████████████▊                   |  ETA: 0:10:39\u001b[39m\u001b[K"
     ]
    },
    {
     "name": "stdout",
     "output_type": "stream",
     "text": [
      "L=12, λ=0.5: B = 0.432689\n"
     ]
    },
    {
     "name": "stderr",
     "output_type": "stream",
     "text": [
      "\u001b[32mL=12:  71%|████████████████████████████████▏            |  ETA: 0:06:49\u001b[39m\u001b[K"
     ]
    },
    {
     "name": "stdout",
     "output_type": "stream",
     "text": [
      "L=8, λ=0.3: B = 0.63159\n"
     ]
    },
    {
     "name": "stderr",
     "output_type": "stream",
     "text": [
      "\u001b[32mL=8:  29%|█████████████▏                                |  ETA: 0:03:49\u001b[39m\u001b[K"
     ]
    },
    {
     "name": "stdout",
     "output_type": "stream",
     "text": [
      "L=8, λ=0.4: B = 0.565842\n",
      "L=10, λ=0.3: B = 0.643734\n",
      "L=10, λ=0.3: B = 0.643734\n"
     ]
    },
    {
     "name": "stderr",
     "output_type": "stream",
     "text": [
      "\u001b[32mL=8:  43%|███████████████████▊                          |  ETA: 0:03:03\u001b[39m\u001b[K"
     ]
    },
    {
     "name": "stdout",
     "output_type": "stream",
     "text": [
      "L=8, λ=0.45: B = 0.515502\n"
     ]
    },
    {
     "name": "stderr",
     "output_type": "stream",
     "text": [
      "\u001b[32mL=8:  57%|██████████████████████████▎                   |  ETA: 0:02:17\u001b[39m\u001b[K"
     ]
    },
    {
     "name": "stdout",
     "output_type": "stream",
     "text": [
      "L=8, λ=0.5: B = 0.438442\n"
     ]
    },
    {
     "name": "stderr",
     "output_type": "stream",
     "text": [
      "\u001b[32mL=8:  71%|████████████████████████████████▉             |  ETA: 0:01:31\u001b[39m\u001b[K"
     ]
    },
    {
     "name": "stdout",
     "output_type": "stream",
     "text": [
      "L=8, λ=0.55: B = 0.384174\n",
      "L=12, λ=0.3: B = 0.642672\n",
      "L=12, λ=0.3: B = 0.642672\n"
     ]
    },
    {
     "name": "stderr",
     "output_type": "stream",
     "text": [
      "\u001b[32mL=10:  29%|████████████▉                                |  ETA: 0:10:02\u001b[39m\u001b[K"
     ]
    },
    {
     "name": "stdout",
     "output_type": "stream",
     "text": [
      "L=10, λ=0.4: B = 0.577544\n"
     ]
    },
    {
     "name": "stderr",
     "output_type": "stream",
     "text": [
      "\u001b[32mL=8:  86%|███████████████████████████████████████▍      |  ETA: 0:00:45\u001b[39m\u001b[K"
     ]
    },
    {
     "name": "stdout",
     "output_type": "stream",
     "text": [
      "L=8, λ=0.6: B = 0.312646\n"
     ]
    },
    {
     "name": "stderr",
     "output_type": "stream",
     "text": [
      "\u001b[32mL=8: 100%|██████████████████████████████████████████████| Time: 0:05:16\u001b[39m\u001b[K\n",
      "\u001b[32mL=8: 100%|██████████████████████████████████████████████| Time: 0:05:16\u001b[39m\u001b[K\n"
     ]
    },
    {
     "name": "stdout",
     "output_type": "stream",
     "text": [
      "L=8, λ=0.7: B = 0.205168\n"
     ]
    },
    {
     "name": "stderr",
     "output_type": "stream",
     "text": [
      "\u001b[32mL=10:  43%|███████████████████▎                         |  ETA: 0:07:53\u001b[39m\u001b[K"
     ]
    },
    {
     "name": "stdout",
     "output_type": "stream",
     "text": [
      "L=10, λ=0.45: B = 0.506587\n"
     ]
    },
    {
     "name": "stderr",
     "output_type": "stream",
     "text": [
      "\u001b[32mL=12:  29%|████████████▉                                |  ETA: 0:18:50\u001b[39m\u001b[K"
     ]
    },
    {
     "name": "stdout",
     "output_type": "stream",
     "text": [
      "L=12, λ=0.4: B = 0.564169\n"
     ]
    },
    {
     "name": "stderr",
     "output_type": "stream",
     "text": [
      "\u001b[32mL=10:  57%|█████████████████████████▊                   |  ETA: 0:05:46\u001b[39m\u001b[K"
     ]
    },
    {
     "name": "stdout",
     "output_type": "stream",
     "text": [
      "L=10, λ=0.5: B = 0.447189\n"
     ]
    },
    {
     "name": "stderr",
     "output_type": "stream",
     "text": [
      "\u001b[32mL=10:  71%|████████████████████████████████▏            |  ETA: 0:03:46\u001b[39m\u001b[K"
     ]
    },
    {
     "name": "stdout",
     "output_type": "stream",
     "text": [
      "L=10, λ=0.55: B = 0.362887\n"
     ]
    },
    {
     "name": "stderr",
     "output_type": "stream",
     "text": [
      "\u001b[32mL=12:  43%|███████████████████▎                         |  ETA: 0:14:40\u001b[39m\u001b[K"
     ]
    },
    {
     "name": "stdout",
     "output_type": "stream",
     "text": [
      "L=12, λ=0.45: B = 0.492432\n"
     ]
    },
    {
     "name": "stderr",
     "output_type": "stream",
     "text": [
      "\u001b[32mL=10:  86%|██████████████████████████████████████▋      |  ETA: 0:01:52\u001b[39m\u001b[K"
     ]
    },
    {
     "name": "stdout",
     "output_type": "stream",
     "text": [
      "L=10, λ=0.6: B = 0.284696\n"
     ]
    },
    {
     "name": "stderr",
     "output_type": "stream",
     "text": [
      "\u001b[32mL=10: 100%|█████████████████████████████████████████████| Time: 0:12:53\u001b[39m\u001b[K\n",
      "\u001b[32mL=10: 100%|█████████████████████████████████████████████| Time: 0:12:53\u001b[39m\u001b[K\n"
     ]
    },
    {
     "name": "stdout",
     "output_type": "stream",
     "text": [
      "L=10, λ=0.7: B = 0.168842\n"
     ]
    },
    {
     "name": "stderr",
     "output_type": "stream",
     "text": [
      "\u001b[32mL=12:  57%|█████████████████████████▊                   |  ETA: 0:10:39\u001b[39m\u001b[K"
     ]
    },
    {
     "name": "stdout",
     "output_type": "stream",
     "text": [
      "L=12, λ=0.5: B = 0.432689\n"
     ]
    },
    {
     "name": "stderr",
     "output_type": "stream",
     "text": [
      "\u001b[32mL=12:  71%|████████████████████████████████▏            |  ETA: 0:06:49\u001b[39m\u001b[K"
     ]
    },
    {
     "name": "stdout",
     "output_type": "stream",
     "text": [
      "L=12, λ=0.55: B = 0.334079\n"
     ]
    },
    {
     "name": "stdout",
     "output_type": "stream",
     "text": [
      "L=8, λ=0.3: B = 0.63159\n"
     ]
    },
    {
     "name": "stderr",
     "output_type": "stream",
     "text": [
      "\u001b[32mL=8:  29%|█████████████▏                                |  ETA: 0:03:49\u001b[39m\u001b[K"
     ]
    },
    {
     "name": "stdout",
     "output_type": "stream",
     "text": [
      "L=8, λ=0.4: B = 0.565842\n",
      "L=10, λ=0.3: B = 0.643734\n",
      "L=10, λ=0.3: B = 0.643734\n"
     ]
    },
    {
     "name": "stderr",
     "output_type": "stream",
     "text": [
      "\u001b[32mL=8:  43%|███████████████████▊                          |  ETA: 0:03:03\u001b[39m\u001b[K"
     ]
    },
    {
     "name": "stdout",
     "output_type": "stream",
     "text": [
      "L=8, λ=0.45: B = 0.515502\n"
     ]
    },
    {
     "name": "stderr",
     "output_type": "stream",
     "text": [
      "\u001b[32mL=8:  57%|██████████████████████████▎                   |  ETA: 0:02:17\u001b[39m\u001b[K"
     ]
    },
    {
     "name": "stdout",
     "output_type": "stream",
     "text": [
      "L=8, λ=0.5: B = 0.438442\n"
     ]
    },
    {
     "name": "stderr",
     "output_type": "stream",
     "text": [
      "\u001b[32mL=8:  71%|████████████████████████████████▉             |  ETA: 0:01:31\u001b[39m\u001b[K"
     ]
    },
    {
     "name": "stdout",
     "output_type": "stream",
     "text": [
      "L=8, λ=0.55: B = 0.384174\n",
      "L=12, λ=0.3: B = 0.642672\n",
      "L=12, λ=0.3: B = 0.642672\n"
     ]
    },
    {
     "name": "stderr",
     "output_type": "stream",
     "text": [
      "\u001b[32mL=10:  29%|████████████▉                                |  ETA: 0:10:02\u001b[39m\u001b[K"
     ]
    },
    {
     "name": "stdout",
     "output_type": "stream",
     "text": [
      "L=10, λ=0.4: B = 0.577544\n"
     ]
    },
    {
     "name": "stderr",
     "output_type": "stream",
     "text": [
      "\u001b[32mL=8:  86%|███████████████████████████████████████▍      |  ETA: 0:00:45\u001b[39m\u001b[K"
     ]
    },
    {
     "name": "stdout",
     "output_type": "stream",
     "text": [
      "L=8, λ=0.6: B = 0.312646\n"
     ]
    },
    {
     "name": "stderr",
     "output_type": "stream",
     "text": [
      "\u001b[32mL=8: 100%|██████████████████████████████████████████████| Time: 0:05:16\u001b[39m\u001b[K\n",
      "\u001b[32mL=8: 100%|██████████████████████████████████████████████| Time: 0:05:16\u001b[39m\u001b[K\n"
     ]
    },
    {
     "name": "stdout",
     "output_type": "stream",
     "text": [
      "L=8, λ=0.7: B = 0.205168\n"
     ]
    },
    {
     "name": "stderr",
     "output_type": "stream",
     "text": [
      "\u001b[32mL=10:  43%|███████████████████▎                         |  ETA: 0:07:53\u001b[39m\u001b[K"
     ]
    },
    {
     "name": "stdout",
     "output_type": "stream",
     "text": [
      "L=10, λ=0.45: B = 0.506587\n"
     ]
    },
    {
     "name": "stderr",
     "output_type": "stream",
     "text": [
      "\u001b[32mL=12:  29%|████████████▉                                |  ETA: 0:18:50\u001b[39m\u001b[K"
     ]
    },
    {
     "name": "stdout",
     "output_type": "stream",
     "text": [
      "L=12, λ=0.4: B = 0.564169\n"
     ]
    },
    {
     "name": "stderr",
     "output_type": "stream",
     "text": [
      "\u001b[32mL=10:  57%|█████████████████████████▊                   |  ETA: 0:05:46\u001b[39m\u001b[K"
     ]
    },
    {
     "name": "stdout",
     "output_type": "stream",
     "text": [
      "L=10, λ=0.5: B = 0.447189\n"
     ]
    },
    {
     "name": "stderr",
     "output_type": "stream",
     "text": [
      "\u001b[32mL=10:  71%|████████████████████████████████▏            |  ETA: 0:03:46\u001b[39m\u001b[K"
     ]
    },
    {
     "name": "stdout",
     "output_type": "stream",
     "text": [
      "L=10, λ=0.55: B = 0.362887\n"
     ]
    },
    {
     "name": "stderr",
     "output_type": "stream",
     "text": [
      "\u001b[32mL=12:  43%|███████████████████▎                         |  ETA: 0:14:40\u001b[39m\u001b[K"
     ]
    },
    {
     "name": "stdout",
     "output_type": "stream",
     "text": [
      "L=12, λ=0.45: B = 0.492432\n"
     ]
    },
    {
     "name": "stderr",
     "output_type": "stream",
     "text": [
      "\u001b[32mL=10:  86%|██████████████████████████████████████▋      |  ETA: 0:01:52\u001b[39m\u001b[K"
     ]
    },
    {
     "name": "stdout",
     "output_type": "stream",
     "text": [
      "L=10, λ=0.6: B = 0.284696\n"
     ]
    },
    {
     "name": "stderr",
     "output_type": "stream",
     "text": [
      "\u001b[32mL=10: 100%|█████████████████████████████████████████████| Time: 0:12:53\u001b[39m\u001b[K\n",
      "\u001b[32mL=10: 100%|█████████████████████████████████████████████| Time: 0:12:53\u001b[39m\u001b[K\n"
     ]
    },
    {
     "name": "stdout",
     "output_type": "stream",
     "text": [
      "L=10, λ=0.7: B = 0.168842\n"
     ]
    },
    {
     "name": "stderr",
     "output_type": "stream",
     "text": [
      "\u001b[32mL=12:  57%|█████████████████████████▊                   |  ETA: 0:10:39\u001b[39m\u001b[K"
     ]
    },
    {
     "name": "stdout",
     "output_type": "stream",
     "text": [
      "L=12, λ=0.5: B = 0.432689\n"
     ]
    },
    {
     "name": "stderr",
     "output_type": "stream",
     "text": [
      "\u001b[32mL=12:  71%|████████████████████████████████▏            |  ETA: 0:06:49\u001b[39m\u001b[K"
     ]
    },
    {
     "name": "stdout",
     "output_type": "stream",
     "text": [
      "L=12, λ=0.55: B = 0.334079\n"
     ]
    },
    {
     "name": "stderr",
     "output_type": "stream",
     "text": [
      "\u001b[32mL=12:  86%|██████████████████████████████████████▋      |  ETA: 0:03:19\u001b[39m\u001b[K"
     ]
    },
    {
     "name": "stdout",
     "output_type": "stream",
     "text": [
      "L=8, λ=0.3: B = 0.63159\n"
     ]
    },
    {
     "name": "stderr",
     "output_type": "stream",
     "text": [
      "\u001b[32mL=8:  29%|█████████████▏                                |  ETA: 0:03:49\u001b[39m\u001b[K"
     ]
    },
    {
     "name": "stdout",
     "output_type": "stream",
     "text": [
      "L=8, λ=0.4: B = 0.565842\n",
      "L=10, λ=0.3: B = 0.643734\n",
      "L=10, λ=0.3: B = 0.643734\n"
     ]
    },
    {
     "name": "stderr",
     "output_type": "stream",
     "text": [
      "\u001b[32mL=8:  43%|███████████████████▊                          |  ETA: 0:03:03\u001b[39m\u001b[K"
     ]
    },
    {
     "name": "stdout",
     "output_type": "stream",
     "text": [
      "L=8, λ=0.45: B = 0.515502\n"
     ]
    },
    {
     "name": "stderr",
     "output_type": "stream",
     "text": [
      "\u001b[32mL=8:  57%|██████████████████████████▎                   |  ETA: 0:02:17\u001b[39m\u001b[K"
     ]
    },
    {
     "name": "stdout",
     "output_type": "stream",
     "text": [
      "L=8, λ=0.5: B = 0.438442\n"
     ]
    },
    {
     "name": "stderr",
     "output_type": "stream",
     "text": [
      "\u001b[32mL=8:  71%|████████████████████████████████▉             |  ETA: 0:01:31\u001b[39m\u001b[K"
     ]
    },
    {
     "name": "stdout",
     "output_type": "stream",
     "text": [
      "L=8, λ=0.55: B = 0.384174\n",
      "L=12, λ=0.3: B = 0.642672\n",
      "L=12, λ=0.3: B = 0.642672\n"
     ]
    },
    {
     "name": "stderr",
     "output_type": "stream",
     "text": [
      "\u001b[32mL=10:  29%|████████████▉                                |  ETA: 0:10:02\u001b[39m\u001b[K"
     ]
    },
    {
     "name": "stdout",
     "output_type": "stream",
     "text": [
      "L=10, λ=0.4: B = 0.577544\n"
     ]
    },
    {
     "name": "stderr",
     "output_type": "stream",
     "text": [
      "\u001b[32mL=8:  86%|███████████████████████████████████████▍      |  ETA: 0:00:45\u001b[39m\u001b[K"
     ]
    },
    {
     "name": "stdout",
     "output_type": "stream",
     "text": [
      "L=8, λ=0.6: B = 0.312646\n"
     ]
    },
    {
     "name": "stderr",
     "output_type": "stream",
     "text": [
      "\u001b[32mL=8: 100%|██████████████████████████████████████████████| Time: 0:05:16\u001b[39m\u001b[K\n",
      "\u001b[32mL=8: 100%|██████████████████████████████████████████████| Time: 0:05:16\u001b[39m\u001b[K\n"
     ]
    },
    {
     "name": "stdout",
     "output_type": "stream",
     "text": [
      "L=8, λ=0.7: B = 0.205168\n"
     ]
    },
    {
     "name": "stderr",
     "output_type": "stream",
     "text": [
      "\u001b[32mL=10:  43%|███████████████████▎                         |  ETA: 0:07:53\u001b[39m\u001b[K"
     ]
    },
    {
     "name": "stdout",
     "output_type": "stream",
     "text": [
      "L=10, λ=0.45: B = 0.506587\n"
     ]
    },
    {
     "name": "stderr",
     "output_type": "stream",
     "text": [
      "\u001b[32mL=12:  29%|████████████▉                                |  ETA: 0:18:50\u001b[39m\u001b[K"
     ]
    },
    {
     "name": "stdout",
     "output_type": "stream",
     "text": [
      "L=12, λ=0.4: B = 0.564169\n"
     ]
    },
    {
     "name": "stderr",
     "output_type": "stream",
     "text": [
      "\u001b[32mL=10:  57%|█████████████████████████▊                   |  ETA: 0:05:46\u001b[39m\u001b[K"
     ]
    },
    {
     "name": "stdout",
     "output_type": "stream",
     "text": [
      "L=10, λ=0.5: B = 0.447189\n"
     ]
    },
    {
     "name": "stderr",
     "output_type": "stream",
     "text": [
      "\u001b[32mL=10:  71%|████████████████████████████████▏            |  ETA: 0:03:46\u001b[39m\u001b[K"
     ]
    },
    {
     "name": "stdout",
     "output_type": "stream",
     "text": [
      "L=10, λ=0.55: B = 0.362887\n"
     ]
    },
    {
     "name": "stderr",
     "output_type": "stream",
     "text": [
      "\u001b[32mL=12:  43%|███████████████████▎                         |  ETA: 0:14:40\u001b[39m\u001b[K"
     ]
    },
    {
     "name": "stdout",
     "output_type": "stream",
     "text": [
      "L=12, λ=0.45: B = 0.492432\n"
     ]
    },
    {
     "name": "stderr",
     "output_type": "stream",
     "text": [
      "\u001b[32mL=10:  86%|██████████████████████████████████████▋      |  ETA: 0:01:52\u001b[39m\u001b[K"
     ]
    },
    {
     "name": "stdout",
     "output_type": "stream",
     "text": [
      "L=10, λ=0.6: B = 0.284696\n"
     ]
    },
    {
     "name": "stderr",
     "output_type": "stream",
     "text": [
      "\u001b[32mL=10: 100%|█████████████████████████████████████████████| Time: 0:12:53\u001b[39m\u001b[K\n",
      "\u001b[32mL=10: 100%|█████████████████████████████████████████████| Time: 0:12:53\u001b[39m\u001b[K\n"
     ]
    },
    {
     "name": "stdout",
     "output_type": "stream",
     "text": [
      "L=10, λ=0.7: B = 0.168842\n"
     ]
    },
    {
     "name": "stderr",
     "output_type": "stream",
     "text": [
      "\u001b[32mL=12:  57%|█████████████████████████▊                   |  ETA: 0:10:39\u001b[39m\u001b[K"
     ]
    },
    {
     "name": "stdout",
     "output_type": "stream",
     "text": [
      "L=12, λ=0.5: B = 0.432689\n"
     ]
    },
    {
     "name": "stderr",
     "output_type": "stream",
     "text": [
      "\u001b[32mL=12:  71%|████████████████████████████████▏            |  ETA: 0:06:49\u001b[39m\u001b[K"
     ]
    },
    {
     "name": "stdout",
     "output_type": "stream",
     "text": [
      "L=12, λ=0.55: B = 0.334079\n"
     ]
    },
    {
     "name": "stderr",
     "output_type": "stream",
     "text": [
      "\u001b[32mL=12:  86%|██████████████████████████████████████▋      |  ETA: 0:03:19\u001b[39m\u001b[K"
     ]
    },
    {
     "name": "stdout",
     "output_type": "stream",
     "text": [
      "L=12, λ=0.6: B = 0.253677\n"
     ]
    },
    {
     "name": "stdout",
     "output_type": "stream",
     "text": [
      "L=8, λ=0.3: B = 0.63159\n"
     ]
    },
    {
     "name": "stderr",
     "output_type": "stream",
     "text": [
      "\u001b[32mL=8:  29%|█████████████▏                                |  ETA: 0:03:49\u001b[39m\u001b[K"
     ]
    },
    {
     "name": "stdout",
     "output_type": "stream",
     "text": [
      "L=8, λ=0.4: B = 0.565842\n",
      "L=10, λ=0.3: B = 0.643734\n",
      "L=10, λ=0.3: B = 0.643734\n"
     ]
    },
    {
     "name": "stderr",
     "output_type": "stream",
     "text": [
      "\u001b[32mL=8:  43%|███████████████████▊                          |  ETA: 0:03:03\u001b[39m\u001b[K"
     ]
    },
    {
     "name": "stdout",
     "output_type": "stream",
     "text": [
      "L=8, λ=0.45: B = 0.515502\n"
     ]
    },
    {
     "name": "stderr",
     "output_type": "stream",
     "text": [
      "\u001b[32mL=8:  57%|██████████████████████████▎                   |  ETA: 0:02:17\u001b[39m\u001b[K"
     ]
    },
    {
     "name": "stdout",
     "output_type": "stream",
     "text": [
      "L=8, λ=0.5: B = 0.438442\n"
     ]
    },
    {
     "name": "stderr",
     "output_type": "stream",
     "text": [
      "\u001b[32mL=8:  71%|████████████████████████████████▉             |  ETA: 0:01:31\u001b[39m\u001b[K"
     ]
    },
    {
     "name": "stdout",
     "output_type": "stream",
     "text": [
      "L=8, λ=0.55: B = 0.384174\n",
      "L=12, λ=0.3: B = 0.642672\n",
      "L=12, λ=0.3: B = 0.642672\n"
     ]
    },
    {
     "name": "stderr",
     "output_type": "stream",
     "text": [
      "\u001b[32mL=10:  29%|████████████▉                                |  ETA: 0:10:02\u001b[39m\u001b[K"
     ]
    },
    {
     "name": "stdout",
     "output_type": "stream",
     "text": [
      "L=10, λ=0.4: B = 0.577544\n"
     ]
    },
    {
     "name": "stderr",
     "output_type": "stream",
     "text": [
      "\u001b[32mL=8:  86%|███████████████████████████████████████▍      |  ETA: 0:00:45\u001b[39m\u001b[K"
     ]
    },
    {
     "name": "stdout",
     "output_type": "stream",
     "text": [
      "L=8, λ=0.6: B = 0.312646\n"
     ]
    },
    {
     "name": "stderr",
     "output_type": "stream",
     "text": [
      "\u001b[32mL=8: 100%|██████████████████████████████████████████████| Time: 0:05:16\u001b[39m\u001b[K\n",
      "\u001b[32mL=8: 100%|██████████████████████████████████████████████| Time: 0:05:16\u001b[39m\u001b[K\n"
     ]
    },
    {
     "name": "stdout",
     "output_type": "stream",
     "text": [
      "L=8, λ=0.7: B = 0.205168\n"
     ]
    },
    {
     "name": "stderr",
     "output_type": "stream",
     "text": [
      "\u001b[32mL=10:  43%|███████████████████▎                         |  ETA: 0:07:53\u001b[39m\u001b[K"
     ]
    },
    {
     "name": "stdout",
     "output_type": "stream",
     "text": [
      "L=10, λ=0.45: B = 0.506587\n"
     ]
    },
    {
     "name": "stderr",
     "output_type": "stream",
     "text": [
      "\u001b[32mL=12:  29%|████████████▉                                |  ETA: 0:18:50\u001b[39m\u001b[K"
     ]
    },
    {
     "name": "stdout",
     "output_type": "stream",
     "text": [
      "L=12, λ=0.4: B = 0.564169\n"
     ]
    },
    {
     "name": "stderr",
     "output_type": "stream",
     "text": [
      "\u001b[32mL=10:  57%|█████████████████████████▊                   |  ETA: 0:05:46\u001b[39m\u001b[K"
     ]
    },
    {
     "name": "stdout",
     "output_type": "stream",
     "text": [
      "L=10, λ=0.5: B = 0.447189\n"
     ]
    },
    {
     "name": "stderr",
     "output_type": "stream",
     "text": [
      "\u001b[32mL=10:  71%|████████████████████████████████▏            |  ETA: 0:03:46\u001b[39m\u001b[K"
     ]
    },
    {
     "name": "stdout",
     "output_type": "stream",
     "text": [
      "L=10, λ=0.55: B = 0.362887\n"
     ]
    },
    {
     "name": "stderr",
     "output_type": "stream",
     "text": [
      "\u001b[32mL=12:  43%|███████████████████▎                         |  ETA: 0:14:40\u001b[39m\u001b[K"
     ]
    },
    {
     "name": "stdout",
     "output_type": "stream",
     "text": [
      "L=12, λ=0.45: B = 0.492432\n"
     ]
    },
    {
     "name": "stderr",
     "output_type": "stream",
     "text": [
      "\u001b[32mL=10:  86%|██████████████████████████████████████▋      |  ETA: 0:01:52\u001b[39m\u001b[K"
     ]
    },
    {
     "name": "stdout",
     "output_type": "stream",
     "text": [
      "L=10, λ=0.6: B = 0.284696\n"
     ]
    },
    {
     "name": "stderr",
     "output_type": "stream",
     "text": [
      "\u001b[32mL=10: 100%|█████████████████████████████████████████████| Time: 0:12:53\u001b[39m\u001b[K\n",
      "\u001b[32mL=10: 100%|█████████████████████████████████████████████| Time: 0:12:53\u001b[39m\u001b[K\n"
     ]
    },
    {
     "name": "stdout",
     "output_type": "stream",
     "text": [
      "L=10, λ=0.7: B = 0.168842\n"
     ]
    },
    {
     "name": "stderr",
     "output_type": "stream",
     "text": [
      "\u001b[32mL=12:  57%|█████████████████████████▊                   |  ETA: 0:10:39\u001b[39m\u001b[K"
     ]
    },
    {
     "name": "stdout",
     "output_type": "stream",
     "text": [
      "L=12, λ=0.5: B = 0.432689\n"
     ]
    },
    {
     "name": "stderr",
     "output_type": "stream",
     "text": [
      "\u001b[32mL=12:  71%|████████████████████████████████▏            |  ETA: 0:06:49\u001b[39m\u001b[K"
     ]
    },
    {
     "name": "stdout",
     "output_type": "stream",
     "text": [
      "L=12, λ=0.55: B = 0.334079\n"
     ]
    },
    {
     "name": "stderr",
     "output_type": "stream",
     "text": [
      "\u001b[32mL=12:  86%|██████████████████████████████████████▋      |  ETA: 0:03:19\u001b[39m\u001b[K"
     ]
    },
    {
     "name": "stdout",
     "output_type": "stream",
     "text": [
      "L=12, λ=0.6: B = 0.253677\n"
     ]
    },
    {
     "name": "stderr",
     "output_type": "stream",
     "text": [
      "\u001b[32mL=12: 100%|█████████████████████████████████████████████| Time: 0:22:42\u001b[39m\u001b[K\n",
      "\u001b[32mL=12: 100%|█████████████████████████████████████████████| Time: 0:22:42\u001b[39m\u001b[K\n"
     ]
    },
    {
     "name": "stdout",
     "output_type": "stream",
     "text": [
      "L=8, λ=0.3: B = 0.63159\n"
     ]
    },
    {
     "name": "stderr",
     "output_type": "stream",
     "text": [
      "\u001b[32mL=8:  29%|█████████████▏                                |  ETA: 0:03:49\u001b[39m\u001b[K"
     ]
    },
    {
     "name": "stdout",
     "output_type": "stream",
     "text": [
      "L=8, λ=0.4: B = 0.565842\n",
      "L=10, λ=0.3: B = 0.643734\n",
      "L=10, λ=0.3: B = 0.643734\n"
     ]
    },
    {
     "name": "stderr",
     "output_type": "stream",
     "text": [
      "\u001b[32mL=8:  43%|███████████████████▊                          |  ETA: 0:03:03\u001b[39m\u001b[K"
     ]
    },
    {
     "name": "stdout",
     "output_type": "stream",
     "text": [
      "L=8, λ=0.45: B = 0.515502\n"
     ]
    },
    {
     "name": "stderr",
     "output_type": "stream",
     "text": [
      "\u001b[32mL=8:  57%|██████████████████████████▎                   |  ETA: 0:02:17\u001b[39m\u001b[K"
     ]
    },
    {
     "name": "stdout",
     "output_type": "stream",
     "text": [
      "L=8, λ=0.5: B = 0.438442\n"
     ]
    },
    {
     "name": "stderr",
     "output_type": "stream",
     "text": [
      "\u001b[32mL=8:  71%|████████████████████████████████▉             |  ETA: 0:01:31\u001b[39m\u001b[K"
     ]
    },
    {
     "name": "stdout",
     "output_type": "stream",
     "text": [
      "L=8, λ=0.55: B = 0.384174\n",
      "L=12, λ=0.3: B = 0.642672\n",
      "L=12, λ=0.3: B = 0.642672\n"
     ]
    },
    {
     "name": "stderr",
     "output_type": "stream",
     "text": [
      "\u001b[32mL=10:  29%|████████████▉                                |  ETA: 0:10:02\u001b[39m\u001b[K"
     ]
    },
    {
     "name": "stdout",
     "output_type": "stream",
     "text": [
      "L=10, λ=0.4: B = 0.577544\n"
     ]
    },
    {
     "name": "stderr",
     "output_type": "stream",
     "text": [
      "\u001b[32mL=8:  86%|███████████████████████████████████████▍      |  ETA: 0:00:45\u001b[39m\u001b[K"
     ]
    },
    {
     "name": "stdout",
     "output_type": "stream",
     "text": [
      "L=8, λ=0.6: B = 0.312646\n"
     ]
    },
    {
     "name": "stderr",
     "output_type": "stream",
     "text": [
      "\u001b[32mL=8: 100%|██████████████████████████████████████████████| Time: 0:05:16\u001b[39m\u001b[K\n",
      "\u001b[32mL=8: 100%|██████████████████████████████████████████████| Time: 0:05:16\u001b[39m\u001b[K\n"
     ]
    },
    {
     "name": "stdout",
     "output_type": "stream",
     "text": [
      "L=8, λ=0.7: B = 0.205168\n"
     ]
    },
    {
     "name": "stderr",
     "output_type": "stream",
     "text": [
      "\u001b[32mL=10:  43%|███████████████████▎                         |  ETA: 0:07:53\u001b[39m\u001b[K"
     ]
    },
    {
     "name": "stdout",
     "output_type": "stream",
     "text": [
      "L=10, λ=0.45: B = 0.506587\n"
     ]
    },
    {
     "name": "stderr",
     "output_type": "stream",
     "text": [
      "\u001b[32mL=12:  29%|████████████▉                                |  ETA: 0:18:50\u001b[39m\u001b[K"
     ]
    },
    {
     "name": "stdout",
     "output_type": "stream",
     "text": [
      "L=12, λ=0.4: B = 0.564169\n"
     ]
    },
    {
     "name": "stderr",
     "output_type": "stream",
     "text": [
      "\u001b[32mL=10:  57%|█████████████████████████▊                   |  ETA: 0:05:46\u001b[39m\u001b[K"
     ]
    },
    {
     "name": "stdout",
     "output_type": "stream",
     "text": [
      "L=10, λ=0.5: B = 0.447189\n"
     ]
    },
    {
     "name": "stderr",
     "output_type": "stream",
     "text": [
      "\u001b[32mL=10:  71%|████████████████████████████████▏            |  ETA: 0:03:46\u001b[39m\u001b[K"
     ]
    },
    {
     "name": "stdout",
     "output_type": "stream",
     "text": [
      "L=10, λ=0.55: B = 0.362887\n"
     ]
    },
    {
     "name": "stderr",
     "output_type": "stream",
     "text": [
      "\u001b[32mL=12:  43%|███████████████████▎                         |  ETA: 0:14:40\u001b[39m\u001b[K"
     ]
    },
    {
     "name": "stdout",
     "output_type": "stream",
     "text": [
      "L=12, λ=0.45: B = 0.492432\n"
     ]
    },
    {
     "name": "stderr",
     "output_type": "stream",
     "text": [
      "\u001b[32mL=10:  86%|██████████████████████████████████████▋      |  ETA: 0:01:52\u001b[39m\u001b[K"
     ]
    },
    {
     "name": "stdout",
     "output_type": "stream",
     "text": [
      "L=10, λ=0.6: B = 0.284696\n"
     ]
    },
    {
     "name": "stderr",
     "output_type": "stream",
     "text": [
      "\u001b[32mL=10: 100%|█████████████████████████████████████████████| Time: 0:12:53\u001b[39m\u001b[K\n",
      "\u001b[32mL=10: 100%|█████████████████████████████████████████████| Time: 0:12:53\u001b[39m\u001b[K\n"
     ]
    },
    {
     "name": "stdout",
     "output_type": "stream",
     "text": [
      "L=10, λ=0.7: B = 0.168842\n"
     ]
    },
    {
     "name": "stderr",
     "output_type": "stream",
     "text": [
      "\u001b[32mL=12:  57%|█████████████████████████▊                   |  ETA: 0:10:39\u001b[39m\u001b[K"
     ]
    },
    {
     "name": "stdout",
     "output_type": "stream",
     "text": [
      "L=12, λ=0.5: B = 0.432689\n"
     ]
    },
    {
     "name": "stderr",
     "output_type": "stream",
     "text": [
      "\u001b[32mL=12:  71%|████████████████████████████████▏            |  ETA: 0:06:49\u001b[39m\u001b[K"
     ]
    },
    {
     "name": "stdout",
     "output_type": "stream",
     "text": [
      "L=12, λ=0.55: B = 0.334079\n"
     ]
    },
    {
     "name": "stderr",
     "output_type": "stream",
     "text": [
      "\u001b[32mL=12:  86%|██████████████████████████████████████▋      |  ETA: 0:03:19\u001b[39m\u001b[K"
     ]
    },
    {
     "name": "stdout",
     "output_type": "stream",
     "text": [
      "L=12, λ=0.6: B = 0.253677\n"
     ]
    },
    {
     "name": "stderr",
     "output_type": "stream",
     "text": [
      "\u001b[32mL=12: 100%|█████████████████████████████████████████████| Time: 0:22:42\u001b[39m\u001b[K\n",
      "\u001b[32mL=12: 100%|█████████████████████████████████████████████| Time: 0:22:42\u001b[39m\u001b[K\n"
     ]
    },
    {
     "name": "stdout",
     "output_type": "stream",
     "text": [
      "L=12, λ=0.7: B = 0.137688\n"
     ]
    }
   ],
   "source": [
    "L_values = [8, 10, 12]\n",
    "lambdas_range = [0.3, 0.4, 0.45, 0.5, 0.55, 0.6, 0.7]\n",
    "ntrials_val = 100\n",
    "\n",
    "results = Vector{Any}(undef, length(L_values))\n",
    "\n",
    "Threads.@threads for i in 1:length(L_values)\n",
    "    L = L_values[i]\n",
    "    results[i] = calculate_binder_vs_lambda_with_progress(L; \n",
    "                                                         lambdas=lambdas_range, \n",
    "                                                         ntrials=ntrials_val, \n",
    "                                                         chunk4=80_000, \n",
    "                                                         seed=42 + i)\n",
    "end"
   ]
  },
  {
   "cell_type": "code",
   "execution_count": 16,
   "id": "299dac4c",
   "metadata": {},
   "outputs": [
    {
     "data": {
      "image/png": "[encoded data removed]",
      "image/svg+xml": [
       "<?xml version=\"1.0\" encoding=\"utf-8\"?>\n",
       "<svg xmlns=\"http://www.w3.org/2000/svg\" xmlns:xlink=\"http://www.w3.org/1999/xlink\" width=\"800\" height=\"600\" viewBox=\"0 0 3200 2400\">\n",
       "<defs>\n",
       "  <clipPath id=\"clip300\">\n",
       "    <rect x=\"0\" y=\"0\" width=\"3200\" height=\"2400\"/>\n",
       "  </clipPath>\n",
       "</defs>\n",
       "<path clip-path=\"url(#clip300)\" d=\"M0 2400 L3200 2400 L3200 0 L0 0  Z\" fill=\"#ffffff\" fill-rule=\"evenodd\" fill-opacity=\"1\"/>\n",
       "<defs>\n",
       "  <clipPath id=\"clip301\">\n",
       "    <rect x=\"640\" y=\"0\" width=\"2241\" height=\"2241\"/>\n",
       "  </clipPath>\n",
       "</defs>\n",
       "<path clip-path=\"url(#clip300)\" d=\"M233.806 2204.92 L3152.76 2204.92 L3152.76 131.032 L233.806 131.032  Z\" fill=\"#ffffff\" fill-rule=\"evenodd\" fill-opacity=\"1\"/>\n",
       "<defs>\n",
       "  <clipPath id=\"clip302\">\n",
       "    <rect x=\"233\" y=\"131\" width=\"2920\" height=\"2075\"/>\n",
       "  </clipPath>\n",
       "</defs>\n",
       "<polyline clip-path=\"url(#clip302)\" style=\"stroke:#000000; stroke-linecap:round; stroke-linejoin:round; stroke-width:2; stroke-opacity:0.1; fill:none\" points=\"316.418,2204.92 316.418,131.032 \"/>\n",
       "<polyline clip-path=\"url(#clip302)\" style=\"stroke:#000000; stroke-linecap:round; stroke-linejoin:round; stroke-width:2; stroke-opacity:0.1; fill:none\" points=\"1004.85,2204.92 1004.85,131.032 \"/>\n",
       "<polyline clip-path=\"url(#clip302)\" style=\"stroke:#000000; stroke-linecap:round; stroke-linejoin:round; stroke-width:2; stroke-opacity:0.1; fill:none\" points=\"1693.28,2204.92 1693.28,131.032 \"/>\n",
       "<polyline clip-path=\"url(#clip302)\" style=\"stroke:#000000; stroke-linecap:round; stroke-linejoin:round; stroke-width:2; stroke-opacity:0.1; fill:none\" points=\"2381.71,2204.92 2381.71,131.032 \"/>\n",
       "<polyline clip-path=\"url(#clip302)\" style=\"stroke:#000000; stroke-linecap:round; stroke-linejoin:round; stroke-width:2; stroke-opacity:0.1; fill:none\" points=\"3070.14,2204.92 3070.14,131.032 \"/>\n",
       "<polyline clip-path=\"url(#clip302)\" style=\"stroke:#000000; stroke-linecap:round; stroke-linejoin:round; stroke-width:2; stroke-opacity:0.1; fill:none\" points=\"233.806,1905.31 3152.76,1905.31 \"/>\n",
       "<polyline clip-path=\"url(#clip302)\" style=\"stroke:#000000; stroke-linecap:round; stroke-linejoin:round; stroke-width:2; stroke-opacity:0.1; fill:none\" points=\"233.806,1518.69 3152.76,1518.69 \"/>\n",
       "<polyline clip-path=\"url(#clip302)\" style=\"stroke:#000000; stroke-linecap:round; stroke-linejoin:round; stroke-width:2; stroke-opacity:0.1; fill:none\" points=\"233.806,1132.06 3152.76,1132.06 \"/>\n",
       "<polyline clip-path=\"url(#clip302)\" style=\"stroke:#000000; stroke-linecap:round; stroke-linejoin:round; stroke-width:2; stroke-opacity:0.1; fill:none\" points=\"233.806,745.439 3152.76,745.439 \"/>\n",
       "<polyline clip-path=\"url(#clip302)\" style=\"stroke:#000000; stroke-linecap:round; stroke-linejoin:round; stroke-width:2; stroke-opacity:0.1; fill:none\" points=\"233.806,358.815 3152.76,358.815 \"/>\n",
       "<polyline clip-path=\"url(#clip300)\" style=\"stroke:#000000; stroke-linecap:round; stroke-linejoin:round; stroke-width:4; stroke-opacity:1; fill:none\" points=\"233.806,2204.92 3152.76,2204.92 \"/>\n",
       "<polyline clip-path=\"url(#clip300)\" style=\"stroke:#000000; stroke-linecap:round; stroke-linejoin:round; stroke-width:4; stroke-opacity:1; fill:none\" points=\"316.418,2204.92 316.418,2186.02 \"/>\n",
       "<polyline clip-path=\"url(#clip300)\" style=\"stroke:#000000; stroke-linecap:round; stroke-linejoin:round; stroke-width:4; stroke-opacity:1; fill:none\" points=\"1004.85,2204.92 1004.85,2186.02 \"/>\n",
       "<polyline clip-path=\"url(#clip300)\" style=\"stroke:#000000; stroke-linecap:round; stroke-linejoin:round; stroke-width:4; stroke-opacity:1; fill:none\" points=\"1693.28,2204.92 1693.28,2186.02 \"/>\n",
       "<polyline clip-path=\"url(#clip300)\" style=\"stroke:#000000; stroke-linecap:round; stroke-linejoin:round; stroke-width:4; stroke-opacity:1; fill:none\" points=\"2381.71,2204.92 2381.71,2186.02 \"/>\n",
       "<polyline clip-path=\"url(#clip300)\" style=\"stroke:#000000; stroke-linecap:round; stroke-linejoin:round; stroke-width:4; stroke-opacity:1; fill:none\" points=\"3070.14,2204.92 3070.14,2186.02 \"/>\n",
       "<path clip-path=\"url(#clip300)\" d=\"M294.127 2242.24 Q290.515 2242.24 288.687 2245.8 Q286.881 2249.34 286.881 2256.47 Q286.881 2263.58 288.687 2267.15 Q290.515 2270.69 294.127 2270.69 Q297.761 2270.69 299.566 2267.15 Q301.395 2263.58 301.395 2256.47 Q301.395 2249.34 299.566 2245.8 Q297.761 2242.24 294.127 2242.24 M294.127 2238.53 Q299.937 2238.53 302.992 2243.14 Q306.071 2247.72 306.071 2256.47 Q306.071 2265.2 302.992 2269.81 Q299.937 2274.39 294.127 2274.39 Q288.316 2274.39 285.238 2269.81 Q282.182 2265.2 282.182 2256.47 Q282.182 2247.72 285.238 2243.14 Q288.316 2238.53 294.127 2238.53 Z\" fill=\"#000000\" fill-rule=\"nonzero\" fill-opacity=\"1\" /><path clip-path=\"url(#clip300)\" d=\"M314.288 2267.84 L319.173 2267.84 L319.173 2273.72 L314.288 2273.72 L314.288 2267.84 Z\" fill=\"#000000\" fill-rule=\"nonzero\" fill-opacity=\"1\" /><path clip-path=\"url(#clip300)\" d=\"M343.524 2255.09 Q346.881 2255.8 348.756 2258.07 Q350.654 2260.34 350.654 2263.67 Q350.654 2268.79 347.135 2271.59 Q343.617 2274.39 337.136 2274.39 Q334.96 2274.39 332.645 2273.95 Q330.353 2273.53 327.899 2272.68 L327.899 2268.16 Q329.844 2269.3 332.159 2269.88 Q334.474 2270.46 336.997 2270.46 Q341.395 2270.46 343.686 2268.72 Q346.001 2266.98 346.001 2263.67 Q346.001 2260.62 343.848 2258.91 Q341.719 2257.17 337.899 2257.17 L333.872 2257.17 L333.872 2253.33 L338.085 2253.33 Q341.534 2253.33 343.362 2251.96 Q345.191 2250.57 345.191 2247.98 Q345.191 2245.32 343.293 2243.91 Q341.418 2242.47 337.899 2242.47 Q335.978 2242.47 333.779 2242.89 Q331.58 2243.3 328.941 2244.18 L328.941 2240.02 Q331.603 2239.28 333.918 2238.91 Q336.256 2238.53 338.316 2238.53 Q343.64 2238.53 346.742 2240.97 Q349.844 2243.37 349.844 2247.49 Q349.844 2250.36 348.2 2252.35 Q346.557 2254.32 343.524 2255.09 Z\" fill=\"#000000\" fill-rule=\"nonzero\" fill-opacity=\"1\" /><path clip-path=\"url(#clip300)\" d=\"M981.991 2242.24 Q978.38 2242.24 976.551 2245.8 Q974.746 2249.34 974.746 2256.47 Q974.746 2263.58 976.551 2267.15 Q978.38 2270.69 981.991 2270.69 Q985.625 2270.69 987.431 2267.15 Q989.259 2263.58 989.259 2256.47 Q989.259 2249.34 987.431 2245.8 Q985.625 2242.24 981.991 2242.24 M981.991 2238.53 Q987.801 2238.53 990.857 2243.14 Q993.935 2247.72 993.935 2256.47 Q993.935 2265.2 990.857 2269.81 Q987.801 2274.39 981.991 2274.39 Q976.181 2274.39 973.102 2269.81 Q970.047 2265.2 970.047 2256.47 Q970.047 2247.72 973.102 2243.14 Q976.181 2238.53 981.991 2238.53 Z\" fill=\"#000000\" fill-rule=\"nonzero\" fill-opacity=\"1\" /><path clip-path=\"url(#clip300)\" d=\"M1002.15 2267.84 L1007.04 2267.84 L1007.04 2273.72 L1002.15 2273.72 L1002.15 2267.84 Z\" fill=\"#000000\" fill-rule=\"nonzero\" fill-opacity=\"1\" /><path clip-path=\"url(#clip300)\" d=\"M1030.07 2243.23 L1018.26 2261.68 L1030.07 2261.68 L1030.07 2243.23 M1028.84 2239.16 L1034.72 2239.16 L1034.72 2261.68 L1039.65 2261.68 L1039.65 2265.57 L1034.72 2265.57 L1034.72 2273.72 L1030.07 2273.72 L1030.07 2265.57 L1014.47 2265.57 L1014.47 2261.06 L1028.84 2239.16 Z\" fill=\"#000000\" fill-rule=\"nonzero\" fill-opacity=\"1\" /><path clip-path=\"url(#clip300)\" d=\"M1671.16 2242.24 Q1667.55 2242.24 1665.72 2245.8 Q1663.92 2249.34 1663.92 2256.47 Q1663.92 2263.58 1665.72 2267.15 Q1667.55 2270.69 1671.16 2270.69 Q1674.8 2270.69 1676.6 2267.15 Q1678.43 2263.58 1678.43 2256.47 Q1678.43 2249.34 1676.6 2245.8 Q1674.8 2242.24 1671.16 2242.24 M1671.16 2238.53 Q1676.97 2238.53 1680.03 2243.14 Q1683.11 2247.72 1683.11 2256.47 Q1683.11 2265.2 1680.03 2269.81 Q1676.97 2274.39 1671.16 2274.39 Q1665.35 2274.39 1662.27 2269.81 Q1659.22 2265.2 1659.22 2256.47 Q1659.22 2247.72 1662.27 2243.14 Q1665.35 2238.53 1671.16 2238.53 Z\" fill=\"#000000\" fill-rule=\"nonzero\" fill-opacity=\"1\" /><path clip-path=\"url(#clip300)\" d=\"M1691.33 2267.84 L1696.21 2267.84 L1696.21 2273.72 L1691.33 2273.72 L1691.33 2267.84 Z\" fill=\"#000000\" fill-rule=\"nonzero\" fill-opacity=\"1\" /><path clip-path=\"url(#clip300)\" d=\"M1706.44 2239.16 L1724.8 2239.16 L1724.8 2243.1 L1710.72 2243.1 L1710.72 2251.57 Q1711.74 2251.22 1712.76 2251.06 Q1713.78 2250.87 1714.8 2250.87 Q1720.58 2250.87 1723.96 2254.04 Q1727.34 2257.22 1727.34 2262.63 Q1727.34 2268.21 1723.87 2271.31 Q1720.4 2274.39 1714.08 2274.39 Q1711.9 2274.39 1709.64 2274.02 Q1707.39 2273.65 1704.98 2272.91 L1704.98 2268.21 Q1707.07 2269.34 1709.29 2269.9 Q1711.51 2270.46 1713.99 2270.46 Q1717.99 2270.46 1720.33 2268.35 Q1722.67 2266.24 1722.67 2262.63 Q1722.67 2259.02 1720.33 2256.91 Q1717.99 2254.81 1713.99 2254.81 Q1712.11 2254.81 1710.24 2255.22 Q1708.39 2255.64 1706.44 2256.52 L1706.44 2239.16 Z\" fill=\"#000000\" fill-rule=\"nonzero\" fill-opacity=\"1\" /><path clip-path=\"url(#clip300)\" d=\"M2359.02 2242.24 Q2355.4 2242.24 2353.58 2245.8 Q2351.77 2249.34 2351.77 2256.47 Q2351.77 2263.58 2353.58 2267.15 Q2355.4 2270.69 2359.02 2270.69 Q2362.65 2270.69 2364.46 2267.15 Q2366.28 2263.58 2366.28 2256.47 Q2366.28 2249.34 2364.46 2245.8 Q2362.65 2242.24 2359.02 2242.24 M2359.02 2238.53 Q2364.83 2238.53 2367.88 2243.14 Q2370.96 2247.72 2370.96 2256.47 Q2370.96 2265.2 2367.88 2269.81 Q2364.83 2274.39 2359.02 2274.39 Q2353.21 2274.39 2350.13 2269.81 Q2347.07 2265.2 2347.07 2256.47 Q2347.07 2247.72 2350.13 2243.14 Q2353.21 2238.53 2359.02 2238.53 Z\" fill=\"#000000\" fill-rule=\"nonzero\" fill-opacity=\"1\" /><path clip-path=\"url(#clip300)\" d=\"M2379.18 2267.84 L2384.06 2267.84 L2384.06 2273.72 L2379.18 2273.72 L2379.18 2267.84 Z\" fill=\"#000000\" fill-rule=\"nonzero\" fill-opacity=\"1\" /><path clip-path=\"url(#clip300)\" d=\"M2404.83 2254.58 Q2401.68 2254.58 2399.83 2256.73 Q2398 2258.88 2398 2262.63 Q2398 2266.36 2399.83 2268.53 Q2401.68 2270.69 2404.83 2270.69 Q2407.97 2270.69 2409.8 2268.53 Q2411.65 2266.36 2411.65 2262.63 Q2411.65 2258.88 2409.8 2256.73 Q2407.97 2254.58 2404.83 2254.58 M2414.11 2239.92 L2414.11 2244.18 Q2412.35 2243.35 2410.54 2242.91 Q2408.76 2242.47 2407 2242.47 Q2402.37 2242.47 2399.92 2245.59 Q2397.49 2248.72 2397.14 2255.04 Q2398.51 2253.03 2400.57 2251.96 Q2402.63 2250.87 2405.1 2250.87 Q2410.31 2250.87 2413.32 2254.04 Q2416.35 2257.19 2416.35 2262.63 Q2416.35 2267.96 2413.21 2271.17 Q2410.06 2274.39 2404.83 2274.39 Q2398.83 2274.39 2395.66 2269.81 Q2392.49 2265.2 2392.49 2256.47 Q2392.49 2248.28 2396.38 2243.42 Q2400.27 2238.53 2406.82 2238.53 Q2408.58 2238.53 2410.36 2238.88 Q2412.16 2239.23 2414.11 2239.92 Z\" fill=\"#000000\" fill-rule=\"nonzero\" fill-opacity=\"1\" /><path clip-path=\"url(#clip300)\" d=\"M3047.98 2242.24 Q3044.37 2242.24 3042.54 2245.8 Q3040.73 2249.34 3040.73 2256.47 Q3040.73 2263.58 3042.54 2267.15 Q3044.37 2270.69 3047.98 2270.69 Q3051.61 2270.69 3053.42 2267.15 Q3055.25 2263.58 3055.25 2256.47 Q3055.25 2249.34 3053.42 2245.8 Q3051.61 2242.24 3047.98 2242.24 M3047.98 2238.53 Q3053.79 2238.53 3056.85 2243.14 Q3059.92 2247.72 3059.92 2256.47 Q3059.92 2265.2 3056.85 2269.81 Q3053.79 2274.39 3047.98 2274.39 Q3042.17 2274.39 3039.09 2269.81 Q3036.04 2265.2 3036.04 2256.47 Q3036.04 2247.72 3039.09 2243.14 Q3042.17 2238.53 3047.98 2238.53 Z\" fill=\"#000000\" fill-rule=\"nonzero\" fill-opacity=\"1\" /><path clip-path=\"url(#clip300)\" d=\"M3068.14 2267.84 L3073.03 2267.84 L3073.03 2273.72 L3068.14 2273.72 L3068.14 2267.84 Z\" fill=\"#000000\" fill-rule=\"nonzero\" fill-opacity=\"1\" /><path clip-path=\"url(#clip300)\" d=\"M3082.03 2239.16 L3104.25 2239.16 L3104.25 2241.15 L3091.71 2273.72 L3086.82 2273.72 L3098.63 2243.1 L3082.03 2243.1 L3082.03 2239.16 Z\" fill=\"#000000\" fill-rule=\"nonzero\" fill-opacity=\"1\" /><path clip-path=\"url(#clip300)\" d=\"M1410.25 2317.83 L1426.7 2361.78 L1420.49 2361.78 L1410.5 2335.43 L1398.21 2361.78 L1392.01 2361.78 L1407.64 2327.6 L1405.28 2321.3 Q1403.78 2317.29 1400.38 2317.29 L1397.32 2317.29 L1397.32 2312.26 L1401.05 2312.32 Q1408.24 2312.42 1410.25 2317.83 Z\" fill=\"#000000\" fill-rule=\"nonzero\" fill-opacity=\"1\" /><path clip-path=\"url(#clip300)\" d=\"M1469.57 2312.32 Q1465.31 2319.64 1463.24 2326.8 Q1461.17 2333.97 1461.17 2341.32 Q1461.17 2348.67 1463.24 2355.9 Q1465.34 2363.09 1469.57 2370.38 L1464.48 2370.38 Q1459.71 2362.9 1457.32 2355.67 Q1454.96 2348.45 1454.96 2341.32 Q1454.96 2334.22 1457.32 2327.03 Q1459.68 2319.83 1464.48 2312.32 L1469.57 2312.32 Z\" fill=\"#000000\" fill-rule=\"nonzero\" fill-opacity=\"1\" /><path clip-path=\"url(#clip300)\" d=\"M1494.97 2317.83 L1511.43 2361.78 L1505.22 2361.78 L1495.23 2335.43 L1482.94 2361.78 L1476.74 2361.78 L1492.36 2327.6 L1490.01 2321.3 Q1488.51 2317.29 1485.11 2317.29 L1482.05 2317.29 L1482.05 2312.26 L1485.77 2312.32 Q1492.97 2312.42 1494.97 2317.83 Z\" fill=\"#000000\" fill-rule=\"nonzero\" fill-opacity=\"1\" /><path clip-path=\"url(#clip300)\" d=\"M1538.45 2341.83 L1530.33 2351.54 L1538.86 2361.78 L1534.5 2361.78 L1527.98 2353.95 L1521.45 2361.78 L1517.09 2361.78 L1525.82 2351.34 L1517.83 2341.83 L1522.19 2341.83 L1528.14 2348.93 L1534.09 2341.83 L1538.45 2341.83 Z\" fill=\"#000000\" fill-rule=\"nonzero\" fill-opacity=\"1\" /><path clip-path=\"url(#clip300)\" d=\"M1549.21 2332.18 L1590.01 2332.18 L1590.01 2337.53 L1549.21 2337.53 L1549.21 2332.18 M1549.21 2345.17 L1590.01 2345.17 L1590.01 2350.58 L1549.21 2350.58 L1549.21 2345.17 Z\" fill=\"#000000\" fill-rule=\"nonzero\" fill-opacity=\"1\" /><path clip-path=\"url(#clip300)\" d=\"M1617.1 2317.83 L1633.55 2361.78 L1627.35 2361.78 L1617.35 2335.43 L1605.07 2361.78 L1598.86 2361.78 L1614.49 2327.6 L1612.13 2321.3 Q1610.64 2317.29 1607.23 2317.29 L1604.18 2317.29 L1604.18 2312.26 L1607.9 2312.32 Q1615.09 2312.42 1617.1 2317.83 Z\" fill=\"#000000\" fill-rule=\"nonzero\" fill-opacity=\"1\" /><path clip-path=\"url(#clip300)\" d=\"M1643.14 2353.7 L1649.85 2353.7 L1649.85 2359.17 L1644.63 2369.36 L1640.53 2369.36 L1643.14 2359.17 L1643.14 2353.7 Z\" fill=\"#000000\" fill-rule=\"nonzero\" fill-opacity=\"1\" /><path clip-path=\"url(#clip300)\" d=\"M1697.12 2317.83 L1713.57 2361.78 L1707.37 2361.78 L1697.37 2335.43 L1685.09 2361.78 L1678.88 2361.78 L1694.51 2327.6 L1692.15 2321.3 Q1690.66 2317.29 1687.25 2317.29 L1684.19 2317.29 L1684.19 2312.26 L1687.92 2312.32 Q1695.11 2312.42 1697.12 2317.83 Z\" fill=\"#000000\" fill-rule=\"nonzero\" fill-opacity=\"1\" /><path clip-path=\"url(#clip300)\" d=\"M1748.74 2372.61 L1748.74 2377.16 L1714.88 2377.16 L1714.88 2372.61 L1748.74 2372.61 Z\" fill=\"#000000\" fill-rule=\"nonzero\" fill-opacity=\"1\" /><path clip-path=\"url(#clip300)\" d=\"M1751.7 2326.14 L1779.52 2326.14 L1779.52 2331.48 L1757.5 2357.11 L1779.52 2357.11 L1779.52 2361.78 L1750.91 2361.78 L1750.91 2356.44 L1772.93 2330.81 L1751.7 2330.81 L1751.7 2326.14 Z\" fill=\"#000000\" fill-rule=\"nonzero\" fill-opacity=\"1\" /><path clip-path=\"url(#clip300)\" d=\"M1785.92 2326.14 L1813.74 2326.14 L1813.74 2331.48 L1791.71 2357.11 L1813.74 2357.11 L1813.74 2361.78 L1785.12 2361.78 L1785.12 2356.44 L1807.15 2330.81 L1785.92 2330.81 L1785.92 2326.14 Z\" fill=\"#000000\" fill-rule=\"nonzero\" fill-opacity=\"1\" /><path clip-path=\"url(#clip300)\" d=\"M1823.44 2332.18 L1864.25 2332.18 L1864.25 2337.53 L1823.44 2337.53 L1823.44 2332.18 M1823.44 2345.17 L1864.25 2345.17 L1864.25 2350.58 L1823.44 2350.58 L1823.44 2345.17 Z\" fill=\"#000000\" fill-rule=\"nonzero\" fill-opacity=\"1\" /><path clip-path=\"url(#clip300)\" d=\"M1879.24 2356.37 L1889.74 2356.37 L1889.74 2320.12 L1878.32 2322.41 L1878.32 2316.56 L1889.68 2314.26 L1896.11 2314.26 L1896.11 2356.37 L1906.61 2356.37 L1906.61 2361.78 L1879.24 2361.78 L1879.24 2356.37 Z\" fill=\"#000000\" fill-rule=\"nonzero\" fill-opacity=\"1\" /><path clip-path=\"url(#clip300)\" d=\"M1915.81 2341.32 L1932.97 2341.32 L1932.97 2346.54 L1915.81 2346.54 L1915.81 2341.32 Z\" fill=\"#000000\" fill-rule=\"nonzero\" fill-opacity=\"1\" /><path clip-path=\"url(#clip300)\" d=\"M1956.33 2317.83 L1972.78 2361.78 L1966.58 2361.78 L1956.58 2335.43 L1944.3 2361.78 L1938.09 2361.78 L1953.72 2327.6 L1951.36 2321.3 Q1949.87 2317.29 1946.46 2317.29 L1943.41 2317.29 L1943.41 2312.26 L1947.13 2312.32 Q1954.32 2312.42 1956.33 2317.83 Z\" fill=\"#000000\" fill-rule=\"nonzero\" fill-opacity=\"1\" /><path clip-path=\"url(#clip300)\" d=\"M1979.94 2312.32 L1985.04 2312.32 Q1989.81 2319.83 1992.17 2327.03 Q1994.55 2334.22 1994.55 2341.32 Q1994.55 2348.45 1992.17 2355.67 Q1989.81 2362.9 1985.04 2370.38 L1979.94 2370.38 Q1984.18 2363.09 1986.25 2355.9 Q1988.35 2348.67 1988.35 2341.32 Q1988.35 2333.97 1986.25 2326.8 Q1984.18 2319.64 1979.94 2312.32 Z\" fill=\"#000000\" fill-rule=\"nonzero\" fill-opacity=\"1\" /><polyline clip-path=\"url(#clip300)\" style=\"stroke:#000000; stroke-linecap:round; stroke-linejoin:round; stroke-width:4; stroke-opacity:1; fill:none\" points=\"233.806,2204.92 233.806,131.032 \"/>\n",
       "<polyline clip-path=\"url(#clip300)\" style=\"stroke:#000000; stroke-linecap:round; stroke-linejoin:round; stroke-width:4; stroke-opacity:1; fill:none\" points=\"233.806,1905.31 252.704,1905.31 \"/>\n",
       "<polyline clip-path=\"url(#clip300)\" style=\"stroke:#000000; stroke-linecap:round; stroke-linejoin:round; stroke-width:4; stroke-opacity:1; fill:none\" points=\"233.806,1518.69 252.704,1518.69 \"/>\n",
       "<polyline clip-path=\"url(#clip300)\" style=\"stroke:#000000; stroke-linecap:round; stroke-linejoin:round; stroke-width:4; stroke-opacity:1; fill:none\" points=\"233.806,1132.06 252.704,1132.06 \"/>\n",
       "<polyline clip-path=\"url(#clip300)\" style=\"stroke:#000000; stroke-linecap:round; stroke-linejoin:round; stroke-width:4; stroke-opacity:1; fill:none\" points=\"233.806,745.439 252.704,745.439 \"/>\n",
       "<polyline clip-path=\"url(#clip300)\" style=\"stroke:#000000; stroke-linecap:round; stroke-linejoin:round; stroke-width:4; stroke-opacity:1; fill:none\" points=\"233.806,358.815 252.704,358.815 \"/>\n",
       "<path clip-path=\"url(#clip300)\" d=\"M130.228 1891.11 Q126.617 1891.11 124.788 1894.68 Q122.983 1898.22 122.983 1905.35 Q122.983 1912.45 124.788 1916.02 Q126.617 1919.56 130.228 1919.56 Q133.862 1919.56 135.668 1916.02 Q137.496 1912.45 137.496 1905.35 Q137.496 1898.22 135.668 1894.68 Q133.862 1891.11 130.228 1891.11 M130.228 1887.41 Q136.038 1887.41 139.094 1892.01 Q142.172 1896.6 142.172 1905.35 Q142.172 1914.07 139.094 1918.68 Q136.038 1923.26 130.228 1923.26 Q124.418 1923.26 121.339 1918.68 Q118.283 1914.07 118.283 1905.35 Q118.283 1896.6 121.339 1892.01 Q124.418 1887.41 130.228 1887.41 Z\" fill=\"#000000\" fill-rule=\"nonzero\" fill-opacity=\"1\" /><path clip-path=\"url(#clip300)\" d=\"M150.39 1916.71 L155.274 1916.71 L155.274 1922.59 L150.39 1922.59 L150.39 1916.71 Z\" fill=\"#000000\" fill-rule=\"nonzero\" fill-opacity=\"1\" /><path clip-path=\"url(#clip300)\" d=\"M169.487 1918.66 L185.806 1918.66 L185.806 1922.59 L163.862 1922.59 L163.862 1918.66 Q166.524 1915.9 171.107 1911.27 Q175.714 1906.62 176.894 1905.28 Q179.14 1902.76 180.019 1901.02 Q180.922 1899.26 180.922 1897.57 Q180.922 1894.82 178.978 1893.08 Q177.056 1891.34 173.954 1891.34 Q171.755 1891.34 169.302 1892.11 Q166.871 1892.87 164.093 1894.42 L164.093 1889.7 Q166.917 1888.57 169.371 1887.99 Q171.825 1887.41 173.862 1887.41 Q179.232 1887.41 182.427 1890.09 Q185.621 1892.78 185.621 1897.27 Q185.621 1899.4 184.811 1901.32 Q184.024 1903.22 181.917 1905.81 Q181.339 1906.48 178.237 1909.7 Q175.135 1912.89 169.487 1918.66 Z\" fill=\"#000000\" fill-rule=\"nonzero\" fill-opacity=\"1\" /><path clip-path=\"url(#clip300)\" d=\"M129.279 1504.49 Q125.668 1504.49 123.839 1508.05 Q122.033 1511.59 122.033 1518.72 Q122.033 1525.83 123.839 1529.39 Q125.668 1532.94 129.279 1532.94 Q132.913 1532.94 134.719 1529.39 Q136.547 1525.83 136.547 1518.72 Q136.547 1511.59 134.719 1508.05 Q132.913 1504.49 129.279 1504.49 M129.279 1500.78 Q135.089 1500.78 138.144 1505.39 Q141.223 1509.97 141.223 1518.72 Q141.223 1527.45 138.144 1532.06 Q135.089 1536.64 129.279 1536.64 Q123.469 1536.64 120.39 1532.06 Q117.334 1527.45 117.334 1518.72 Q117.334 1509.97 120.39 1505.39 Q123.469 1500.78 129.279 1500.78 Z\" fill=\"#000000\" fill-rule=\"nonzero\" fill-opacity=\"1\" /><path clip-path=\"url(#clip300)\" d=\"M149.441 1530.09 L154.325 1530.09 L154.325 1535.97 L149.441 1535.97 L149.441 1530.09 Z\" fill=\"#000000\" fill-rule=\"nonzero\" fill-opacity=\"1\" /><path clip-path=\"url(#clip300)\" d=\"M178.677 1517.33 Q182.033 1518.05 183.908 1520.32 Q185.806 1522.59 185.806 1525.92 Q185.806 1531.04 182.288 1533.84 Q178.769 1536.64 172.288 1536.64 Q170.112 1536.64 167.797 1536.2 Q165.505 1535.78 163.052 1534.93 L163.052 1530.41 Q164.996 1531.55 167.311 1532.13 Q169.626 1532.7 172.149 1532.7 Q176.547 1532.7 178.839 1530.97 Q181.154 1529.23 181.154 1525.92 Q181.154 1522.87 179.001 1521.15 Q176.871 1519.42 173.052 1519.42 L169.024 1519.42 L169.024 1515.57 L173.237 1515.57 Q176.686 1515.57 178.515 1514.21 Q180.343 1512.82 180.343 1510.23 Q180.343 1507.57 178.445 1506.15 Q176.57 1504.72 173.052 1504.72 Q171.13 1504.72 168.931 1505.14 Q166.732 1505.55 164.093 1506.43 L164.093 1502.26 Q166.755 1501.52 169.07 1501.15 Q171.408 1500.78 173.468 1500.78 Q178.792 1500.78 181.894 1503.21 Q184.996 1505.62 184.996 1509.74 Q184.996 1512.61 183.353 1514.6 Q181.709 1516.57 178.677 1517.33 Z\" fill=\"#000000\" fill-rule=\"nonzero\" fill-opacity=\"1\" /><path clip-path=\"url(#clip300)\" d=\"M128.145 1117.86 Q124.533 1117.86 122.705 1121.43 Q120.899 1124.97 120.899 1132.1 Q120.899 1139.2 122.705 1142.77 Q124.533 1146.31 128.145 1146.31 Q131.779 1146.31 133.584 1142.77 Q135.413 1139.2 135.413 1132.1 Q135.413 1124.97 133.584 1121.43 Q131.779 1117.86 128.145 1117.86 M128.145 1114.16 Q133.955 1114.16 137.01 1118.77 Q140.089 1123.35 140.089 1132.1 Q140.089 1140.83 137.01 1145.43 Q133.955 1150.02 128.145 1150.02 Q122.334 1150.02 119.256 1145.43 Q116.2 1140.83 116.2 1132.1 Q116.2 1123.35 119.256 1118.77 Q122.334 1114.16 128.145 1114.16 Z\" fill=\"#000000\" fill-rule=\"nonzero\" fill-opacity=\"1\" /><path clip-path=\"url(#clip300)\" d=\"M148.306 1143.46 L153.191 1143.46 L153.191 1149.34 L148.306 1149.34 L148.306 1143.46 Z\" fill=\"#000000\" fill-rule=\"nonzero\" fill-opacity=\"1\" /><path clip-path=\"url(#clip300)\" d=\"M176.223 1118.86 L164.417 1137.31 L176.223 1137.31 L176.223 1118.86 M174.996 1114.78 L180.876 1114.78 L180.876 1137.31 L185.806 1137.31 L185.806 1141.2 L180.876 1141.2 L180.876 1149.34 L176.223 1149.34 L176.223 1141.2 L160.621 1141.2 L160.621 1136.68 L174.996 1114.78 Z\" fill=\"#000000\" fill-rule=\"nonzero\" fill-opacity=\"1\" /><path clip-path=\"url(#clip300)\" d=\"M129.626 731.238 Q126.015 731.238 124.186 734.803 Q122.381 738.344 122.381 745.474 Q122.381 752.58 124.186 756.145 Q126.015 759.687 129.626 759.687 Q133.26 759.687 135.066 756.145 Q136.894 752.58 136.894 745.474 Q136.894 738.344 135.066 734.803 Q133.26 731.238 129.626 731.238 M129.626 727.534 Q135.436 727.534 138.492 732.141 Q141.57 736.724 141.57 745.474 Q141.57 754.201 138.492 758.807 Q135.436 763.39 129.626 763.39 Q123.816 763.39 120.737 758.807 Q117.682 754.201 117.682 745.474 Q117.682 736.724 120.737 732.141 Q123.816 727.534 129.626 727.534 Z\" fill=\"#000000\" fill-rule=\"nonzero\" fill-opacity=\"1\" /><path clip-path=\"url(#clip300)\" d=\"M149.788 756.84 L154.672 756.84 L154.672 762.719 L149.788 762.719 L149.788 756.84 Z\" fill=\"#000000\" fill-rule=\"nonzero\" fill-opacity=\"1\" /><path clip-path=\"url(#clip300)\" d=\"M164.904 728.159 L183.26 728.159 L183.26 732.094 L169.186 732.094 L169.186 740.566 Q170.204 740.219 171.223 740.057 Q172.242 739.872 173.26 739.872 Q179.047 739.872 182.427 743.043 Q185.806 746.215 185.806 751.631 Q185.806 757.21 182.334 760.312 Q178.862 763.39 172.542 763.39 Q170.367 763.39 168.098 763.02 Q165.853 762.65 163.445 761.909 L163.445 757.21 Q165.529 758.344 167.751 758.9 Q169.973 759.455 172.45 759.455 Q176.454 759.455 178.792 757.349 Q181.13 755.242 181.13 751.631 Q181.13 748.02 178.792 745.914 Q176.454 743.807 172.45 743.807 Q170.575 743.807 168.7 744.224 Q166.848 744.641 164.904 745.52 L164.904 728.159 Z\" fill=\"#000000\" fill-rule=\"nonzero\" fill-opacity=\"1\" /><path clip-path=\"url(#clip300)\" d=\"M128.469 344.613 Q124.858 344.613 123.029 348.178 Q121.223 351.72 121.223 358.849 Q121.223 365.956 123.029 369.52 Q124.858 373.062 128.469 373.062 Q132.103 373.062 133.908 369.52 Q135.737 365.956 135.737 358.849 Q135.737 351.72 133.908 348.178 Q132.103 344.613 128.469 344.613 M128.469 340.91 Q134.279 340.91 137.334 345.516 Q140.413 350.099 140.413 358.849 Q140.413 367.576 137.334 372.182 Q134.279 376.766 128.469 376.766 Q122.658 376.766 119.58 372.182 Q116.524 367.576 116.524 358.849 Q116.524 350.099 119.58 345.516 Q122.658 340.91 128.469 340.91 Z\" fill=\"#000000\" fill-rule=\"nonzero\" fill-opacity=\"1\" /><path clip-path=\"url(#clip300)\" d=\"M148.631 370.215 L153.515 370.215 L153.515 376.095 L148.631 376.095 L148.631 370.215 Z\" fill=\"#000000\" fill-rule=\"nonzero\" fill-opacity=\"1\" /><path clip-path=\"url(#clip300)\" d=\"M174.279 356.951 Q171.13 356.951 169.279 359.104 Q167.45 361.257 167.45 365.007 Q167.45 368.733 169.279 370.909 Q171.13 373.062 174.279 373.062 Q177.427 373.062 179.255 370.909 Q181.107 368.733 181.107 365.007 Q181.107 361.257 179.255 359.104 Q177.427 356.951 174.279 356.951 M183.561 342.298 L183.561 346.558 Q181.802 345.724 179.996 345.284 Q178.214 344.845 176.454 344.845 Q171.825 344.845 169.371 347.97 Q166.941 351.095 166.593 357.414 Q167.959 355.4 170.019 354.335 Q172.079 353.247 174.556 353.247 Q179.765 353.247 182.774 356.419 Q185.806 359.567 185.806 365.007 Q185.806 370.331 182.658 373.548 Q179.51 376.766 174.279 376.766 Q168.283 376.766 165.112 372.182 Q161.941 367.576 161.941 358.849 Q161.941 350.655 165.83 345.794 Q169.718 340.91 176.269 340.91 Q178.029 340.91 179.811 341.257 Q181.616 341.604 183.561 342.298 Z\" fill=\"#000000\" fill-rule=\"nonzero\" fill-opacity=\"1\" /><path clip-path=\"url(#clip300)\" d=\"M31.2504 1444.49 L48.6606 1444.49 L48.6606 1434.17 Q48.6606 1428.99 46.5281 1426.5 Q44.3638 1423.99 39.9396 1423.99 Q35.4836 1423.99 33.3829 1426.5 Q31.2504 1428.99 31.2504 1434.17 L31.2504 1444.49 M11.7077 1444.49 L26.0305 1444.49 L26.0305 1434.97 Q26.0305 1430.26 24.28 1427.97 Q22.4976 1425.64 18.8691 1425.64 Q15.2725 1425.64 13.4901 1427.97 Q11.7077 1430.26 11.7077 1434.97 L11.7077 1444.49 M6.42416 1450.92 L6.42416 1434.49 Q6.42416 1427.14 9.4797 1423.16 Q12.5352 1419.18 18.1689 1419.18 Q22.5294 1419.18 25.1075 1421.22 Q27.6856 1423.26 28.3222 1427.2 Q29.3407 1422.46 32.5872 1419.85 Q35.8019 1417.21 40.6398 1417.21 Q47.0055 1417.21 50.4748 1421.54 Q53.9442 1425.87 53.9442 1433.86 L53.9442 1450.92 L6.42416 1450.92 Z\" fill=\"#000000\" fill-rule=\"nonzero\" fill-opacity=\"1\" /><path clip-path=\"url(#clip300)\" d=\"M18.2962 1406.45 L18.2962 1400.59 L53.9442 1400.59 L53.9442 1406.45 L18.2962 1406.45 M4.41896 1406.45 L4.41896 1400.59 L11.835 1400.59 L11.835 1406.45 L4.41896 1406.45 Z\" fill=\"#000000\" fill-rule=\"nonzero\" fill-opacity=\"1\" /><path clip-path=\"url(#clip300)\" d=\"M32.4281 1358.71 L53.9442 1358.71 L53.9442 1364.56 L32.619 1364.56 Q27.5583 1364.56 25.0438 1366.54 Q22.5294 1368.51 22.5294 1372.46 Q22.5294 1377.2 25.5531 1379.94 Q28.5768 1382.68 33.7967 1382.68 L53.9442 1382.68 L53.9442 1388.56 L18.2962 1388.56 L18.2962 1382.68 L23.8344 1382.68 Q20.6197 1380.57 19.0283 1377.74 Q17.4368 1374.88 17.4368 1371.15 Q17.4368 1365.01 21.2563 1361.86 Q25.0438 1358.71 32.4281 1358.71 Z\" fill=\"#000000\" fill-rule=\"nonzero\" fill-opacity=\"1\" /><path clip-path=\"url(#clip300)\" d=\"M23.7071 1323.57 L4.41896 1323.57 L4.41896 1317.71 L53.9442 1317.71 L53.9442 1323.57 L48.597 1323.57 Q51.7798 1325.42 53.3394 1328.25 Q54.8672 1331.05 54.8672 1335 Q54.8672 1341.46 49.711 1345.53 Q44.5547 1349.57 36.152 1349.57 Q27.7493 1349.57 22.5931 1345.53 Q17.4368 1341.46 17.4368 1335 Q17.4368 1331.05 18.9964 1328.25 Q20.5242 1325.42 23.7071 1323.57 M36.152 1343.53 Q42.6132 1343.53 46.3053 1340.88 Q49.9656 1338.21 49.9656 1333.56 Q49.9656 1328.92 46.3053 1326.24 Q42.6132 1323.57 36.152 1323.57 Q29.6908 1323.57 26.0305 1326.24 Q22.3384 1328.92 22.3384 1333.56 Q22.3384 1338.21 26.0305 1340.88 Q29.6908 1343.53 36.152 1343.53 Z\" fill=\"#000000\" fill-rule=\"nonzero\" fill-opacity=\"1\" /><path clip-path=\"url(#clip300)\" d=\"M34.6561 1275.16 L37.5206 1275.16 L37.5206 1302.09 Q43.5681 1301.7 46.7509 1298.46 Q49.9019 1295.18 49.9019 1289.35 Q49.9019 1285.98 49.0744 1282.83 Q48.2469 1279.65 46.5918 1276.53 L52.1299 1276.53 Q53.4667 1279.68 54.167 1282.99 Q54.8672 1286.3 54.8672 1289.7 Q54.8672 1298.23 49.9019 1303.23 Q44.9367 1308.2 36.4703 1308.2 Q27.7174 1308.2 22.5931 1303.49 Q17.4368 1298.74 17.4368 1290.72 Q17.4368 1283.53 22.0838 1279.36 Q26.6989 1275.16 34.6561 1275.16 M32.9373 1281.02 Q28.1312 1281.08 25.2666 1283.72 Q22.4021 1286.33 22.4021 1290.66 Q22.4021 1295.56 25.1712 1298.52 Q27.9402 1301.45 32.9692 1301.89 L32.9373 1281.02 Z\" fill=\"#000000\" fill-rule=\"nonzero\" fill-opacity=\"1\" /><path clip-path=\"url(#clip300)\" d=\"M23.7707 1244.89 Q23.1978 1245.88 22.9432 1247.05 Q22.6567 1248.2 22.6567 1249.6 Q22.6567 1254.57 25.9032 1257.24 Q29.1179 1259.88 35.1653 1259.88 L53.9442 1259.88 L53.9442 1265.77 L18.2962 1265.77 L18.2962 1259.88 L23.8344 1259.88 Q20.5879 1258.03 19.0283 1255.07 Q17.4368 1252.11 17.4368 1247.88 Q17.4368 1247.28 17.5323 1246.54 Q17.596 1245.81 17.7551 1244.92 L23.7707 1244.89 Z\" fill=\"#000000\" fill-rule=\"nonzero\" fill-opacity=\"1\" /><path clip-path=\"url(#clip300)\" d=\"M11.7077 1211.34 L29.5635 1211.34 L29.5635 1203.26 Q29.5635 1198.77 27.24 1196.32 Q24.9165 1193.87 20.6197 1193.87 Q16.3547 1193.87 14.0312 1196.32 Q11.7077 1198.77 11.7077 1203.26 L11.7077 1211.34 M6.42416 1217.77 L6.42416 1203.26 Q6.42416 1195.27 10.0526 1191.19 Q13.6492 1187.09 20.6197 1187.09 Q27.6538 1187.09 31.2504 1191.19 Q34.847 1195.27 34.847 1203.26 L34.847 1211.34 L53.9442 1211.34 L53.9442 1217.77 L6.42416 1217.77 Z\" fill=\"#000000\" fill-rule=\"nonzero\" fill-opacity=\"1\" /><path clip-path=\"url(#clip300)\" d=\"M36.0247 1165.45 Q36.0247 1172.54 37.6479 1175.28 Q39.2712 1178.02 43.1861 1178.02 Q46.3053 1178.02 48.1514 1175.98 Q49.9656 1173.91 49.9656 1170.38 Q49.9656 1165.51 46.5281 1162.58 Q43.0588 1159.62 37.3297 1159.62 L36.0247 1159.62 L36.0247 1165.45 M33.6057 1153.76 L53.9442 1153.76 L53.9442 1159.62 L48.5333 1159.62 Q51.7798 1161.63 53.3394 1164.62 Q54.8672 1167.61 54.8672 1171.94 Q54.8672 1177.41 51.8116 1180.66 Q48.7243 1183.87 43.5681 1183.87 Q37.5525 1183.87 34.4969 1179.86 Q31.4414 1175.82 31.4414 1167.83 L31.4414 1159.62 L30.8685 1159.62 Q26.8262 1159.62 24.6301 1162.29 Q22.4021 1164.94 22.4021 1169.74 Q22.4021 1172.8 23.1341 1175.69 Q23.8662 1178.59 25.3303 1181.26 L19.9195 1181.26 Q18.6781 1178.05 18.0734 1175.03 Q17.4368 1172 17.4368 1169.14 Q17.4368 1161.4 21.4472 1157.58 Q25.4576 1153.76 33.6057 1153.76 Z\" fill=\"#000000\" fill-rule=\"nonzero\" fill-opacity=\"1\" /><path clip-path=\"url(#clip300)\" d=\"M23.7707 1121.04 Q23.1978 1122.03 22.9432 1123.21 Q22.6567 1124.35 22.6567 1125.76 Q22.6567 1130.72 25.9032 1133.39 Q29.1179 1136.04 35.1653 1136.04 L53.9442 1136.04 L53.9442 1141.92 L18.2962 1141.92 L18.2962 1136.04 L23.8344 1136.04 Q20.5879 1134.19 19.0283 1131.23 Q17.4368 1128.27 17.4368 1124.04 Q17.4368 1123.43 17.5323 1122.7 Q17.596 1121.97 17.7551 1121.08 L23.7707 1121.04 Z\" fill=\"#000000\" fill-rule=\"nonzero\" fill-opacity=\"1\" /><path clip-path=\"url(#clip300)\" d=\"M36.0247 1098.7 Q36.0247 1105.8 37.6479 1108.54 Q39.2712 1111.27 43.1861 1111.27 Q46.3053 1111.27 48.1514 1109.24 Q49.9656 1107.17 49.9656 1103.63 Q49.9656 1098.76 46.5281 1095.84 Q43.0588 1092.88 37.3297 1092.88 L36.0247 1092.88 L36.0247 1098.7 M33.6057 1087.02 L53.9442 1087.02 L53.9442 1092.88 L48.5333 1092.88 Q51.7798 1094.88 53.3394 1097.87 Q54.8672 1100.87 54.8672 1105.19 Q54.8672 1110.67 51.8116 1113.92 Q48.7243 1117.13 43.5681 1117.13 Q37.5525 1117.13 34.4969 1113.12 Q31.4414 1109.08 31.4414 1101.09 L31.4414 1092.88 L30.8685 1092.88 Q26.8262 1092.88 24.6301 1095.55 Q22.4021 1098.19 22.4021 1103 Q22.4021 1106.05 23.1341 1108.95 Q23.8662 1111.85 25.3303 1114.52 L19.9195 1114.52 Q18.6781 1111.31 18.0734 1108.28 Q17.4368 1105.26 17.4368 1102.39 Q17.4368 1094.66 21.4472 1090.84 Q25.4576 1087.02 33.6057 1087.02 Z\" fill=\"#000000\" fill-rule=\"nonzero\" fill-opacity=\"1\" /><path clip-path=\"url(#clip300)\" d=\"M25.1393 1047.2 Q21.1926 1045.01 19.3147 1041.95 Q17.4368 1038.9 17.4368 1034.76 Q17.4368 1029.19 21.3517 1026.16 Q25.2348 1023.14 32.4281 1023.14 L53.9442 1023.14 L53.9442 1029.03 L32.619 1029.03 Q27.4946 1029.03 25.012 1030.84 Q22.5294 1032.66 22.5294 1036.38 Q22.5294 1040.93 25.5531 1043.57 Q28.5768 1046.22 33.7967 1046.22 L53.9442 1046.22 L53.9442 1052.1 L32.619 1052.1 Q27.4628 1052.1 25.012 1053.92 Q22.5294 1055.73 22.5294 1059.52 Q22.5294 1064.01 25.5849 1066.65 Q28.6086 1069.29 33.7967 1069.29 L53.9442 1069.29 L53.9442 1075.18 L18.2962 1075.18 L18.2962 1069.29 L23.8344 1069.29 Q20.556 1067.29 18.9964 1064.49 Q17.4368 1061.68 17.4368 1057.83 Q17.4368 1053.95 19.4102 1051.24 Q21.3836 1048.51 25.1393 1047.2 Z\" fill=\"#000000\" fill-rule=\"nonzero\" fill-opacity=\"1\" /><path clip-path=\"url(#clip300)\" d=\"M34.6561 980.967 L37.5206 980.967 L37.5206 1007.89 Q43.5681 1007.51 46.7509 1004.27 Q49.9019 1000.99 49.9019 995.163 Q49.9019 991.789 49.0744 988.638 Q48.2469 985.455 46.5918 982.336 L52.1299 982.336 Q53.4667 985.487 54.167 988.797 Q54.8672 992.107 54.8672 995.513 Q54.8672 1004.04 49.9019 1009.04 Q44.9367 1014.01 36.4703 1014.01 Q27.7174 1014.01 22.5931 1009.29 Q17.4368 1004.55 17.4368 996.532 Q17.4368 989.338 22.0838 985.169 Q26.6989 980.967 34.6561 980.967 M32.9373 986.824 Q28.1312 986.888 25.2666 989.529 Q22.4021 992.139 22.4021 996.468 Q22.4021 1001.37 25.1712 1004.33 Q27.9402 1007.26 32.9692 1007.7 L32.9373 986.824 Z\" fill=\"#000000\" fill-rule=\"nonzero\" fill-opacity=\"1\" /><path clip-path=\"url(#clip300)\" d=\"M8.17473 965.562 L18.2962 965.562 L18.2962 953.499 L22.8477 953.499 L22.8477 965.562 L42.1994 965.562 Q46.5599 965.562 47.8013 964.385 Q49.0426 963.175 49.0426 959.515 L49.0426 953.499 L53.9442 953.499 L53.9442 959.515 Q53.9442 966.294 51.4297 968.873 Q48.8834 971.451 42.1994 971.451 L22.8477 971.451 L22.8477 975.748 L18.2962 975.748 L18.2962 971.451 L8.17473 971.451 L8.17473 965.562 Z\" fill=\"#000000\" fill-rule=\"nonzero\" fill-opacity=\"1\" /><path clip-path=\"url(#clip300)\" d=\"M34.6561 915.305 L37.5206 915.305 L37.5206 942.232 Q43.5681 941.85 46.7509 938.604 Q49.9019 935.325 49.9019 929.501 Q49.9019 926.127 49.0744 922.976 Q48.2469 919.793 46.5918 916.674 L52.1299 916.674 Q53.4667 919.825 54.167 923.135 Q54.8672 926.445 54.8672 929.851 Q54.8672 938.381 49.9019 943.378 Q44.9367 948.343 36.4703 948.343 Q27.7174 948.343 22.5931 943.633 Q17.4368 938.89 17.4368 930.869 Q17.4368 923.676 22.0838 919.507 Q26.6989 915.305 34.6561 915.305 M32.9373 921.162 Q28.1312 921.225 25.2666 923.867 Q22.4021 926.477 22.4021 930.806 Q22.4021 935.707 25.1712 938.667 Q27.9402 941.596 32.9692 942.041 L32.9373 921.162 Z\" fill=\"#000000\" fill-rule=\"nonzero\" fill-opacity=\"1\" /><path clip-path=\"url(#clip300)\" d=\"M23.7707 885.036 Q23.1978 886.023 22.9432 887.201 Q22.6567 888.346 22.6567 889.747 Q22.6567 894.712 25.9032 897.386 Q29.1179 900.027 35.1653 900.027 L53.9442 900.027 L53.9442 905.916 L18.2962 905.916 L18.2962 900.027 L23.8344 900.027 Q20.5879 898.181 19.0283 895.221 Q17.4368 892.261 17.4368 888.028 Q17.4368 887.423 17.5323 886.691 Q17.596 885.959 17.7551 885.068 L23.7707 885.036 Z\" fill=\"#000000\" fill-rule=\"nonzero\" fill-opacity=\"1\" /><path clip-path=\"url(#clip300)\" d=\"M1245.51 43.6931 L1245.51 65.8515 L1258.64 65.8515 Q1265.24 65.8515 1268.4 63.1374 Q1271.6 60.3828 1271.6 54.752 Q1271.6 49.0808 1268.4 46.4072 Q1265.24 43.6931 1258.64 43.6931 L1245.51 43.6931 M1245.51 18.8205 L1245.51 37.0496 L1257.63 37.0496 Q1263.62 37.0496 1266.54 34.8216 Q1269.5 32.5531 1269.5 27.935 Q1269.5 23.3575 1266.54 21.089 Q1263.62 18.8205 1257.63 18.8205 L1245.51 18.8205 M1237.33 12.096 L1258.23 12.096 Q1267.59 12.096 1272.66 15.9849 Q1277.72 19.8737 1277.72 27.0438 Q1277.72 32.5936 1275.13 35.8748 Q1272.53 39.156 1267.51 39.9662 Q1273.55 41.2625 1276.87 45.3944 Q1280.23 49.4858 1280.23 55.6432 Q1280.23 63.745 1274.72 68.1605 Q1269.21 72.576 1259.04 72.576 L1237.33 72.576 L1237.33 12.096 Z\" fill=\"#000000\" fill-rule=\"nonzero\" fill-opacity=\"1\" /><path clip-path=\"url(#clip300)\" d=\"M1293.92 27.2059 L1301.38 27.2059 L1301.38 72.576 L1293.92 72.576 L1293.92 27.2059 M1293.92 9.54393 L1301.38 9.54393 L1301.38 18.9825 L1293.92 18.9825 L1293.92 9.54393 Z\" fill=\"#000000\" fill-rule=\"nonzero\" fill-opacity=\"1\" /><path clip-path=\"url(#clip300)\" d=\"M1354.69 45.1919 L1354.69 72.576 L1347.23 72.576 L1347.23 45.4349 Q1347.23 38.994 1344.72 35.7938 Q1342.21 32.5936 1337.19 32.5936 Q1331.15 32.5936 1327.67 36.4419 Q1324.18 40.2903 1324.18 46.9338 L1324.18 72.576 L1316.69 72.576 L1316.69 27.2059 L1324.18 27.2059 L1324.18 34.2544 Q1326.86 30.163 1330.46 28.1376 Q1334.11 26.1121 1338.85 26.1121 Q1346.67 26.1121 1350.68 30.9732 Q1354.69 35.7938 1354.69 45.1919 Z\" fill=\"#000000\" fill-rule=\"nonzero\" fill-opacity=\"1\" /><path clip-path=\"url(#clip300)\" d=\"M1399.41 34.0924 L1399.41 9.54393 L1406.86 9.54393 L1406.86 72.576 L1399.41 72.576 L1399.41 65.7705 Q1397.06 69.8214 1393.45 71.8063 Q1389.89 73.7508 1384.87 73.7508 Q1376.64 73.7508 1371.46 67.1883 Q1366.31 60.6258 1366.31 49.9314 Q1366.31 39.2371 1371.46 32.6746 Q1376.64 26.1121 1384.87 26.1121 Q1389.89 26.1121 1393.45 28.0971 Q1397.06 30.0415 1399.41 34.0924 M1374.01 49.9314 Q1374.01 58.1548 1377.37 62.8538 Q1380.77 67.5124 1386.69 67.5124 Q1392.6 67.5124 1396.01 62.8538 Q1399.41 58.1548 1399.41 49.9314 Q1399.41 41.7081 1396.01 37.0496 Q1392.6 32.3505 1386.69 32.3505 Q1380.77 32.3505 1377.37 37.0496 Q1374.01 41.7081 1374.01 49.9314 Z\" fill=\"#000000\" fill-rule=\"nonzero\" fill-opacity=\"1\" /><path clip-path=\"url(#clip300)\" d=\"M1461.02 48.0275 L1461.02 51.6733 L1426.75 51.6733 Q1427.24 59.3701 1431.37 63.421 Q1435.54 67.4314 1442.96 67.4314 Q1447.25 67.4314 1451.26 66.3781 Q1455.31 65.3249 1459.28 63.2184 L1459.28 70.267 Q1455.27 71.9684 1451.06 72.8596 Q1446.84 73.7508 1442.51 73.7508 Q1431.65 73.7508 1425.29 67.4314 Q1418.97 61.1119 1418.97 50.3365 Q1418.97 39.1965 1424.97 32.6746 Q1431.01 26.1121 1441.21 26.1121 Q1450.37 26.1121 1455.68 32.0264 Q1461.02 37.9003 1461.02 48.0275 M1453.57 45.84 Q1453.49 39.7232 1450.13 36.0774 Q1446.8 32.4315 1441.29 32.4315 Q1435.06 32.4315 1431.29 35.9558 Q1427.56 39.4801 1426.99 45.8805 L1453.57 45.84 Z\" fill=\"#000000\" fill-rule=\"nonzero\" fill-opacity=\"1\" /><path clip-path=\"url(#clip300)\" d=\"M1499.55 34.1734 Q1498.29 33.4443 1496.79 33.1202 Q1495.33 32.7556 1493.55 32.7556 Q1487.23 32.7556 1483.83 36.8875 Q1480.47 40.9789 1480.47 48.6757 L1480.47 72.576 L1472.97 72.576 L1472.97 27.2059 L1480.47 27.2059 L1480.47 34.2544 Q1482.82 30.1225 1486.58 28.1376 Q1490.35 26.1121 1495.74 26.1121 Q1496.51 26.1121 1497.44 26.2337 Q1498.37 26.3147 1499.51 26.5172 L1499.55 34.1734 Z\" fill=\"#000000\" fill-rule=\"nonzero\" fill-opacity=\"1\" /><path clip-path=\"url(#clip300)\" d=\"M1542.24 18.8205 L1542.24 41.5461 L1552.53 41.5461 Q1558.24 41.5461 1561.36 38.5889 Q1564.48 35.6318 1564.48 30.163 Q1564.48 24.7348 1561.36 21.7777 Q1558.24 18.8205 1552.53 18.8205 L1542.24 18.8205 M1534.06 12.096 L1552.53 12.096 Q1562.7 12.096 1567.89 16.714 Q1573.11 21.2916 1573.11 30.163 Q1573.11 39.1155 1567.89 43.6931 Q1562.7 48.2706 1552.53 48.2706 L1542.24 48.2706 L1542.24 72.576 L1534.06 72.576 L1534.06 12.096 Z\" fill=\"#000000\" fill-rule=\"nonzero\" fill-opacity=\"1\" /><path clip-path=\"url(#clip300)\" d=\"M1600.66 49.7694 Q1591.62 49.7694 1588.14 51.8354 Q1584.66 53.9013 1584.66 58.8839 Q1584.66 62.8538 1587.25 65.2034 Q1589.88 67.5124 1594.38 67.5124 Q1600.58 67.5124 1604.3 63.1374 Q1608.07 58.7219 1608.07 51.4303 L1608.07 49.7694 L1600.66 49.7694 M1615.52 46.6907 L1615.52 72.576 L1608.07 72.576 L1608.07 65.6895 Q1605.52 69.8214 1601.71 71.8063 Q1597.9 73.7508 1592.39 73.7508 Q1585.43 73.7508 1581.29 69.8619 Q1577.2 65.9325 1577.2 59.3701 Q1577.2 51.7138 1582.31 47.825 Q1587.45 43.9361 1597.62 43.9361 L1608.07 43.9361 L1608.07 43.2069 Q1608.07 38.0623 1604.67 35.2672 Q1601.31 32.4315 1595.19 32.4315 Q1591.3 32.4315 1587.61 33.3632 Q1583.93 34.295 1580.52 36.1584 L1580.52 29.2718 Q1584.62 27.692 1588.46 26.9223 Q1592.31 26.1121 1595.96 26.1121 Q1605.8 26.1121 1610.66 31.2163 Q1615.52 36.3204 1615.52 46.6907 Z\" fill=\"#000000\" fill-rule=\"nonzero\" fill-opacity=\"1\" /><path clip-path=\"url(#clip300)\" d=\"M1657.17 34.1734 Q1655.91 33.4443 1654.41 33.1202 Q1652.95 32.7556 1651.17 32.7556 Q1644.85 32.7556 1641.45 36.8875 Q1638.09 40.9789 1638.09 48.6757 L1638.09 72.576 L1630.59 72.576 L1630.59 27.2059 L1638.09 27.2059 L1638.09 34.2544 Q1640.44 30.1225 1644.2 28.1376 Q1647.97 26.1121 1653.36 26.1121 Q1654.13 26.1121 1655.06 26.2337 Q1655.99 26.3147 1657.13 26.5172 L1657.17 34.1734 Z\" fill=\"#000000\" fill-rule=\"nonzero\" fill-opacity=\"1\" /><path clip-path=\"url(#clip300)\" d=\"M1685.6 49.7694 Q1676.57 49.7694 1673.09 51.8354 Q1669.6 53.9013 1669.6 58.8839 Q1669.6 62.8538 1672.2 65.2034 Q1674.83 67.5124 1679.33 67.5124 Q1685.52 67.5124 1689.25 63.1374 Q1693.02 58.7219 1693.02 51.4303 L1693.02 49.7694 L1685.6 49.7694 M1700.47 46.6907 L1700.47 72.576 L1693.02 72.576 L1693.02 65.6895 Q1690.47 69.8214 1686.66 71.8063 Q1682.85 73.7508 1677.34 73.7508 Q1670.37 73.7508 1666.24 69.8619 Q1662.15 65.9325 1662.15 59.3701 Q1662.15 51.7138 1667.25 47.825 Q1672.4 43.9361 1682.57 43.9361 L1693.02 43.9361 L1693.02 43.2069 Q1693.02 38.0623 1689.62 35.2672 Q1686.25 32.4315 1680.14 32.4315 Q1676.25 32.4315 1672.56 33.3632 Q1668.87 34.295 1665.47 36.1584 L1665.47 29.2718 Q1669.56 27.692 1673.41 26.9223 Q1677.26 26.1121 1680.91 26.1121 Q1690.75 26.1121 1695.61 31.2163 Q1700.47 36.3204 1700.47 46.6907 Z\" fill=\"#000000\" fill-rule=\"nonzero\" fill-opacity=\"1\" /><path clip-path=\"url(#clip300)\" d=\"M1751.15 35.9153 Q1753.94 30.8922 1757.83 28.5022 Q1761.72 26.1121 1766.99 26.1121 Q1774.08 26.1121 1777.92 31.0947 Q1781.77 36.0368 1781.77 45.1919 L1781.77 72.576 L1774.28 72.576 L1774.28 45.4349 Q1774.28 38.913 1771.97 35.7533 Q1769.66 32.5936 1764.92 32.5936 Q1759.13 32.5936 1755.77 36.4419 Q1752.4 40.2903 1752.4 46.9338 L1752.4 72.576 L1744.91 72.576 L1744.91 45.4349 Q1744.91 38.8725 1742.6 35.7533 Q1740.29 32.5936 1735.47 32.5936 Q1729.76 32.5936 1726.4 36.4824 Q1723.03 40.3308 1723.03 46.9338 L1723.03 72.576 L1715.54 72.576 L1715.54 27.2059 L1723.03 27.2059 L1723.03 34.2544 Q1725.59 30.082 1729.15 28.0971 Q1732.72 26.1121 1737.62 26.1121 Q1742.56 26.1121 1746 28.6237 Q1749.49 31.1352 1751.15 35.9153 Z\" fill=\"#000000\" fill-rule=\"nonzero\" fill-opacity=\"1\" /><path clip-path=\"url(#clip300)\" d=\"M1835.45 48.0275 L1835.45 51.6733 L1801.18 51.6733 Q1801.66 59.3701 1805.79 63.421 Q1809.97 67.4314 1817.38 67.4314 Q1821.67 67.4314 1825.68 66.3781 Q1829.74 65.3249 1833.71 63.2184 L1833.71 70.267 Q1829.7 71.9684 1825.48 72.8596 Q1821.27 73.7508 1816.93 73.7508 Q1806.08 73.7508 1799.72 67.4314 Q1793.4 61.1119 1793.4 50.3365 Q1793.4 39.1965 1799.39 32.6746 Q1805.43 26.1121 1815.64 26.1121 Q1824.79 26.1121 1830.1 32.0264 Q1835.45 37.9003 1835.45 48.0275 M1827.99 45.84 Q1827.91 39.7232 1824.55 36.0774 Q1821.23 32.4315 1815.72 32.4315 Q1809.48 32.4315 1805.71 35.9558 Q1801.99 39.4801 1801.42 45.8805 L1827.99 45.84 Z\" fill=\"#000000\" fill-rule=\"nonzero\" fill-opacity=\"1\" /><path clip-path=\"url(#clip300)\" d=\"M1855.05 14.324 L1855.05 27.2059 L1870.41 27.2059 L1870.41 32.9987 L1855.05 32.9987 L1855.05 57.6282 Q1855.05 63.1779 1856.55 64.7578 Q1858.09 66.3376 1862.75 66.3376 L1870.41 66.3376 L1870.41 72.576 L1862.75 72.576 Q1854.12 72.576 1850.84 69.3758 Q1847.56 66.1351 1847.56 57.6282 L1847.56 32.9987 L1842.09 32.9987 L1842.09 27.2059 L1847.56 27.2059 L1847.56 14.324 L1855.05 14.324 Z\" fill=\"#000000\" fill-rule=\"nonzero\" fill-opacity=\"1\" /><path clip-path=\"url(#clip300)\" d=\"M1919.02 48.0275 L1919.02 51.6733 L1884.75 51.6733 Q1885.23 59.3701 1889.37 63.421 Q1893.54 67.4314 1900.95 67.4314 Q1905.24 67.4314 1909.26 66.3781 Q1913.31 65.3249 1917.28 63.2184 L1917.28 70.267 Q1913.27 71.9684 1909.05 72.8596 Q1904.84 73.7508 1900.51 73.7508 Q1889.65 73.7508 1883.29 67.4314 Q1876.97 61.1119 1876.97 50.3365 Q1876.97 39.1965 1882.96 32.6746 Q1889 26.1121 1899.21 26.1121 Q1908.36 26.1121 1913.67 32.0264 Q1919.02 37.9003 1919.02 48.0275 M1911.56 45.84 Q1911.48 39.7232 1908.12 36.0774 Q1904.8 32.4315 1899.29 32.4315 Q1893.05 32.4315 1889.28 35.9558 Q1885.56 39.4801 1884.99 45.8805 L1911.56 45.84 Z\" fill=\"#000000\" fill-rule=\"nonzero\" fill-opacity=\"1\" /><path clip-path=\"url(#clip300)\" d=\"M1957.54 34.1734 Q1956.29 33.4443 1954.79 33.1202 Q1953.33 32.7556 1951.55 32.7556 Q1945.23 32.7556 1941.82 36.8875 Q1938.46 40.9789 1938.46 48.6757 L1938.46 72.576 L1930.97 72.576 L1930.97 27.2059 L1938.46 27.2059 L1938.46 34.2544 Q1940.81 30.1225 1944.58 28.1376 Q1948.35 26.1121 1953.73 26.1121 Q1954.5 26.1121 1955.44 26.2337 Q1956.37 26.3147 1957.5 26.5172 L1957.54 34.1734 Z\" fill=\"#000000\" fill-rule=\"nonzero\" fill-opacity=\"1\" /><path clip-path=\"url(#clip300)\" d=\"M1986.38 27.2059 L1994.28 27.2059 L2008.46 65.2844 L2022.64 27.2059 L2030.54 27.2059 L2013.53 72.576 L2003.4 72.576 L1986.38 27.2059 Z\" fill=\"#000000\" fill-rule=\"nonzero\" fill-opacity=\"1\" /><path clip-path=\"url(#clip300)\" d=\"M2069.75 28.5427 L2069.75 35.5912 Q2066.59 33.9709 2063.19 33.1607 Q2059.79 32.3505 2056.14 32.3505 Q2050.59 32.3505 2047.8 34.0519 Q2045.04 35.7533 2045.04 39.156 Q2045.04 41.7486 2047.03 43.2475 Q2049.01 44.7058 2055.01 46.0426 L2057.56 46.6097 Q2065.5 48.3111 2068.82 51.4303 Q2072.18 54.509 2072.18 60.0587 Q2072.18 66.3781 2067.16 70.0644 Q2062.18 73.7508 2053.43 73.7508 Q2049.78 73.7508 2045.81 73.0216 Q2041.88 72.3329 2037.51 70.9151 L2037.51 63.2184 Q2041.64 65.3654 2045.65 66.4591 Q2049.66 67.5124 2053.59 67.5124 Q2058.85 67.5124 2061.69 65.73 Q2064.53 63.9071 2064.53 60.6258 Q2064.53 57.5877 2062.46 55.9673 Q2060.43 54.3469 2053.51 52.8481 L2050.92 52.2405 Q2043.99 50.7821 2040.91 47.7845 Q2037.83 44.7463 2037.83 39.4801 Q2037.83 33.0797 2042.37 29.5959 Q2046.9 26.1121 2055.25 26.1121 Q2059.38 26.1121 2063.03 26.7198 Q2066.67 27.3274 2069.75 28.5427 Z\" fill=\"#000000\" fill-rule=\"nonzero\" fill-opacity=\"1\" /><path clip-path=\"url(#clip300)\" d=\"M2128.29 16.633 L2149.23 72.576 L2141.33 72.576 L2128.61 39.0345 L2112.98 72.576 L2105.08 72.576 L2124.97 29.0693 L2121.97 21.0485 Q2120.06 15.9444 2115.73 15.9444 L2111.84 15.9444 L2111.84 9.54393 L2116.58 9.62495 Q2125.74 9.74648 2128.29 16.633 Z\" fill=\"#000000\" fill-rule=\"nonzero\" fill-opacity=\"1\" /><polyline clip-path=\"url(#clip302)\" style=\"stroke:#008000; stroke-linecap:round; stroke-linejoin:round; stroke-width:8; stroke-opacity:1; fill:none\" points=\"316.418,236.679 1004.85,490.879 1349.07,685.505 1693.28,983.439 2037.5,1193.25 2381.71,1469.8 3070.14,1885.33 \"/>\n",
       "<circle clip-path=\"url(#clip302)\" cx=\"316.418\" cy=\"236.679\" r=\"14.4\" fill=\"#008000\" fill-rule=\"evenodd\" fill-opacity=\"1\" stroke=\"#000000\" stroke-opacity=\"1\" stroke-width=\"4.8\"/>\n",
       "<circle clip-path=\"url(#clip302)\" cx=\"1004.85\" cy=\"490.879\" r=\"14.4\" fill=\"#008000\" fill-rule=\"evenodd\" fill-opacity=\"1\" stroke=\"#000000\" stroke-opacity=\"1\" stroke-width=\"4.8\"/>\n",
       "<circle clip-path=\"url(#clip302)\" cx=\"1349.07\" cy=\"685.505\" r=\"14.4\" fill=\"#008000\" fill-rule=\"evenodd\" fill-opacity=\"1\" stroke=\"#000000\" stroke-opacity=\"1\" stroke-width=\"4.8\"/>\n",
       "<circle clip-path=\"url(#clip302)\" cx=\"1693.28\" cy=\"983.439\" r=\"14.4\" fill=\"#008000\" fill-rule=\"evenodd\" fill-opacity=\"1\" stroke=\"#000000\" stroke-opacity=\"1\" stroke-width=\"4.8\"/>\n",
       "<circle clip-path=\"url(#clip302)\" cx=\"2037.5\" cy=\"1193.25\" r=\"14.4\" fill=\"#008000\" fill-rule=\"evenodd\" fill-opacity=\"1\" stroke=\"#000000\" stroke-opacity=\"1\" stroke-width=\"4.8\"/>\n",
       "<circle clip-path=\"url(#clip302)\" cx=\"2381.71\" cy=\"1469.8\" r=\"14.4\" fill=\"#008000\" fill-rule=\"evenodd\" fill-opacity=\"1\" stroke=\"#000000\" stroke-opacity=\"1\" stroke-width=\"4.8\"/>\n",
       "<circle clip-path=\"url(#clip302)\" cx=\"3070.14\" cy=\"1885.33\" r=\"14.4\" fill=\"#008000\" fill-rule=\"evenodd\" fill-opacity=\"1\" stroke=\"#000000\" stroke-opacity=\"1\" stroke-width=\"4.8\"/>\n",
       "<polyline clip-path=\"url(#clip302)\" style=\"stroke:#800080; stroke-linecap:round; stroke-linejoin:round; stroke-width:8; stroke-opacity:1; fill:none\" points=\"316.418,189.727 1004.85,445.634 1349.07,719.971 1693.28,949.618 2037.5,1275.55 2381.71,1577.86 3070.14,2025.78 \"/>\n",
       "<circle clip-path=\"url(#clip302)\" cx=\"316.418\" cy=\"189.727\" r=\"14.4\" fill=\"#800080\" fill-rule=\"evenodd\" fill-opacity=\"1\" stroke=\"#000000\" stroke-opacity=\"1\" stroke-width=\"4.8\"/>\n",
       "<circle clip-path=\"url(#clip302)\" cx=\"1004.85\" cy=\"445.634\" r=\"14.4\" fill=\"#800080\" fill-rule=\"evenodd\" fill-opacity=\"1\" stroke=\"#000000\" stroke-opacity=\"1\" stroke-width=\"4.8\"/>\n",
       "<circle clip-path=\"url(#clip302)\" cx=\"1349.07\" cy=\"719.971\" r=\"14.4\" fill=\"#800080\" fill-rule=\"evenodd\" fill-opacity=\"1\" stroke=\"#000000\" stroke-opacity=\"1\" stroke-width=\"4.8\"/>\n",
       "<circle clip-path=\"url(#clip302)\" cx=\"1693.28\" cy=\"949.618\" r=\"14.4\" fill=\"#800080\" fill-rule=\"evenodd\" fill-opacity=\"1\" stroke=\"#000000\" stroke-opacity=\"1\" stroke-width=\"4.8\"/>\n",
       "<circle clip-path=\"url(#clip302)\" cx=\"2037.5\" cy=\"1275.55\" r=\"14.4\" fill=\"#800080\" fill-rule=\"evenodd\" fill-opacity=\"1\" stroke=\"#000000\" stroke-opacity=\"1\" stroke-width=\"4.8\"/>\n",
       "<circle clip-path=\"url(#clip302)\" cx=\"2381.71\" cy=\"1577.86\" r=\"14.4\" fill=\"#800080\" fill-rule=\"evenodd\" fill-opacity=\"1\" stroke=\"#000000\" stroke-opacity=\"1\" stroke-width=\"4.8\"/>\n",
       "<circle clip-path=\"url(#clip302)\" cx=\"3070.14\" cy=\"2025.78\" r=\"14.4\" fill=\"#800080\" fill-rule=\"evenodd\" fill-opacity=\"1\" stroke=\"#000000\" stroke-opacity=\"1\" stroke-width=\"4.8\"/>\n",
       "<polyline clip-path=\"url(#clip302)\" style=\"stroke:#ffa500; stroke-linecap:round; stroke-linejoin:round; stroke-width:8; stroke-opacity:1; fill:none\" points=\"316.418,193.836 1004.85,497.347 1349.07,774.699 1693.28,1005.68 2037.5,1386.93 2381.71,1697.78 3070.14,2146.22 \"/>\n",
       "<circle clip-path=\"url(#clip302)\" cx=\"316.418\" cy=\"193.836\" r=\"14.4\" fill=\"#ffa500\" fill-rule=\"evenodd\" fill-opacity=\"1\" stroke=\"#000000\" stroke-opacity=\"1\" stroke-width=\"4.8\"/>\n",
       "<circle clip-path=\"url(#clip302)\" cx=\"1004.85\" cy=\"497.347\" r=\"14.4\" fill=\"#ffa500\" fill-rule=\"evenodd\" fill-opacity=\"1\" stroke=\"#000000\" stroke-opacity=\"1\" stroke-width=\"4.8\"/>\n",
       "<circle clip-path=\"url(#clip302)\" cx=\"1349.07\" cy=\"774.699\" r=\"14.4\" fill=\"#ffa500\" fill-rule=\"evenodd\" fill-opacity=\"1\" stroke=\"#000000\" stroke-opacity=\"1\" stroke-width=\"4.8\"/>\n",
       "<circle clip-path=\"url(#clip302)\" cx=\"1693.28\" cy=\"1005.68\" r=\"14.4\" fill=\"#ffa500\" fill-rule=\"evenodd\" fill-opacity=\"1\" stroke=\"#000000\" stroke-opacity=\"1\" stroke-width=\"4.8\"/>\n",
       "<circle clip-path=\"url(#clip302)\" cx=\"2037.5\" cy=\"1386.93\" r=\"14.4\" fill=\"#ffa500\" fill-rule=\"evenodd\" fill-opacity=\"1\" stroke=\"#000000\" stroke-opacity=\"1\" stroke-width=\"4.8\"/>\n",
       "<circle clip-path=\"url(#clip302)\" cx=\"2381.71\" cy=\"1697.78\" r=\"14.4\" fill=\"#ffa500\" fill-rule=\"evenodd\" fill-opacity=\"1\" stroke=\"#000000\" stroke-opacity=\"1\" stroke-width=\"4.8\"/>\n",
       "<circle clip-path=\"url(#clip302)\" cx=\"3070.14\" cy=\"2146.22\" r=\"14.4\" fill=\"#ffa500\" fill-rule=\"evenodd\" fill-opacity=\"1\" stroke=\"#000000\" stroke-opacity=\"1\" stroke-width=\"4.8\"/>\n",
       "<path clip-path=\"url(#clip300)\" d=\"M2614.77 407.522 L3055.46 407.522 L3055.46 200.162 L2614.77 200.162  Z\" fill=\"#ffffff\" fill-rule=\"evenodd\" fill-opacity=\"1\"/>\n",
       "<polyline clip-path=\"url(#clip300)\" style=\"stroke:#000000; stroke-linecap:round; stroke-linejoin:round; stroke-width:4; stroke-opacity:1; fill:none\" points=\"2614.77,407.522 3055.46,407.522 3055.46,200.162 2614.77,200.162 2614.77,407.522 \"/>\n",
       "<polyline clip-path=\"url(#clip300)\" style=\"stroke:#008000; stroke-linecap:round; stroke-linejoin:round; stroke-width:8; stroke-opacity:1; fill:none\" points=\"2647.2,252.002 2841.8,252.002 \"/>\n",
       "<circle clip-path=\"url(#clip300)\" cx=\"2744.5\" cy=\"252.002\" r=\"20.48\" fill=\"#008000\" fill-rule=\"evenodd\" fill-opacity=\"1\" stroke=\"#000000\" stroke-opacity=\"1\" stroke-width=\"6.82667\"/>\n",
       "<path clip-path=\"url(#clip300)\" d=\"M2874.23 234.722 L2878.91 234.722 L2878.91 265.347 L2895.73 265.347 L2895.73 269.282 L2874.23 269.282 L2874.23 234.722 Z\" fill=\"#000000\" fill-rule=\"nonzero\" fill-opacity=\"1\" /><path clip-path=\"url(#clip300)\" d=\"M2916.08 247.754 L2945.76 247.754 L2945.76 251.643 L2916.08 251.643 L2916.08 247.754 M2916.08 257.198 L2945.76 257.198 L2945.76 261.134 L2916.08 261.134 L2916.08 257.198 Z\" fill=\"#000000\" fill-rule=\"nonzero\" fill-opacity=\"1\" /><path clip-path=\"url(#clip300)\" d=\"M2980.92 252.87 Q2977.59 252.87 2975.66 254.652 Q2973.77 256.435 2973.77 259.56 Q2973.77 262.685 2975.66 264.467 Q2977.59 266.249 2980.92 266.249 Q2984.25 266.249 2986.17 264.467 Q2988.09 262.661 2988.09 259.56 Q2988.09 256.435 2986.17 254.652 Q2984.28 252.87 2980.92 252.87 M2976.24 250.879 Q2973.23 250.138 2971.54 248.078 Q2969.88 246.018 2969.88 243.055 Q2969.88 238.912 2972.82 236.504 Q2975.78 234.097 2980.92 234.097 Q2986.08 234.097 2989.02 236.504 Q2991.96 238.912 2991.96 243.055 Q2991.96 246.018 2990.27 248.078 Q2988.6 250.138 2985.62 250.879 Q2989 251.666 2990.87 253.958 Q2992.77 256.249 2992.77 259.56 Q2992.77 264.583 2989.69 267.268 Q2986.64 269.953 2980.92 269.953 Q2975.2 269.953 2972.12 267.268 Q2969.07 264.583 2969.07 259.56 Q2969.07 256.249 2970.96 253.958 Q2972.86 251.666 2976.24 250.879 M2974.53 243.495 Q2974.53 246.18 2976.2 247.685 Q2977.89 249.189 2980.92 249.189 Q2983.93 249.189 2985.62 247.685 Q2987.33 246.18 2987.33 243.495 Q2987.33 240.81 2985.62 239.305 Q2983.93 237.8 2980.92 237.8 Q2977.89 237.8 2976.2 239.305 Q2974.53 240.81 2974.53 243.495 Z\" fill=\"#000000\" fill-rule=\"nonzero\" fill-opacity=\"1\" /><polyline clip-path=\"url(#clip300)\" style=\"stroke:#800080; stroke-linecap:round; stroke-linejoin:round; stroke-width:8; stroke-opacity:1; fill:none\" points=\"2647.2,303.842 2841.8,303.842 \"/>\n",
       "<circle clip-path=\"url(#clip300)\" cx=\"2744.5\" cy=\"303.842\" r=\"20.48\" fill=\"#800080\" fill-rule=\"evenodd\" fill-opacity=\"1\" stroke=\"#000000\" stroke-opacity=\"1\" stroke-width=\"6.82667\"/>\n",
       "<path clip-path=\"url(#clip300)\" d=\"M2874.23 286.562 L2878.91 286.562 L2878.91 317.187 L2895.73 317.187 L2895.73 321.122 L2874.23 321.122 L2874.23 286.562 Z\" fill=\"#000000\" fill-rule=\"nonzero\" fill-opacity=\"1\" /><path clip-path=\"url(#clip300)\" d=\"M2916.08 299.594 L2945.76 299.594 L2945.76 303.483 L2916.08 303.483 L2916.08 299.594 M2916.08 309.038 L2945.76 309.038 L2945.76 312.974 L2916.08 312.974 L2916.08 309.038 Z\" fill=\"#000000\" fill-rule=\"nonzero\" fill-opacity=\"1\" /><path clip-path=\"url(#clip300)\" d=\"M2971.73 317.187 L2979.37 317.187 L2979.37 290.821 L2971.06 292.488 L2971.06 288.228 L2979.32 286.562 L2984 286.562 L2984 317.187 L2991.64 317.187 L2991.64 321.122 L2971.73 321.122 L2971.73 317.187 Z\" fill=\"#000000\" fill-rule=\"nonzero\" fill-opacity=\"1\" /><path clip-path=\"url(#clip300)\" d=\"M3011.08 289.64 Q3007.47 289.64 3005.64 293.205 Q3003.84 296.747 3003.84 303.876 Q3003.84 310.983 3005.64 314.548 Q3007.47 318.089 3011.08 318.089 Q3014.71 318.089 3016.52 314.548 Q3018.35 310.983 3018.35 303.876 Q3018.35 296.747 3016.52 293.205 Q3014.71 289.64 3011.08 289.64 M3011.08 285.937 Q3016.89 285.937 3019.95 290.543 Q3023.02 295.126 3023.02 303.876 Q3023.02 312.603 3019.95 317.21 Q3016.89 321.793 3011.08 321.793 Q3005.27 321.793 3002.19 317.21 Q2999.14 312.603 2999.14 303.876 Q2999.14 295.126 3002.19 290.543 Q3005.27 285.937 3011.08 285.937 Z\" fill=\"#000000\" fill-rule=\"nonzero\" fill-opacity=\"1\" /><polyline clip-path=\"url(#clip300)\" style=\"stroke:#ffa500; stroke-linecap:round; stroke-linejoin:round; stroke-width:8; stroke-opacity:1; fill:none\" points=\"2647.2,355.682 2841.8,355.682 \"/>\n",
       "<circle clip-path=\"url(#clip300)\" cx=\"2744.5\" cy=\"355.682\" r=\"20.48\" fill=\"#ffa500\" fill-rule=\"evenodd\" fill-opacity=\"1\" stroke=\"#000000\" stroke-opacity=\"1\" stroke-width=\"6.82667\"/>\n",
       "<path clip-path=\"url(#clip300)\" d=\"M2874.23 338.402 L2878.91 338.402 L2878.91 369.027 L2895.73 369.027 L2895.73 372.962 L2874.23 372.962 L2874.23 338.402 Z\" fill=\"#000000\" fill-rule=\"nonzero\" fill-opacity=\"1\" /><path clip-path=\"url(#clip300)\" d=\"M2916.08 351.434 L2945.76 351.434 L2945.76 355.323 L2916.08 355.323 L2916.08 351.434 M2916.08 360.878 L2945.76 360.878 L2945.76 364.814 L2916.08 364.814 L2916.08 360.878 Z\" fill=\"#000000\" fill-rule=\"nonzero\" fill-opacity=\"1\" /><path clip-path=\"url(#clip300)\" d=\"M2971.73 369.027 L2979.37 369.027 L2979.37 342.661 L2971.06 344.328 L2971.06 340.068 L2979.32 338.402 L2984 338.402 L2984 369.027 L2991.64 369.027 L2991.64 372.962 L2971.73 372.962 L2971.73 369.027 Z\" fill=\"#000000\" fill-rule=\"nonzero\" fill-opacity=\"1\" /><path clip-path=\"url(#clip300)\" d=\"M3005.11 369.027 L3021.43 369.027 L3021.43 372.962 L2999.48 372.962 L2999.48 369.027 Q3002.15 366.272 3006.73 361.642 Q3011.34 356.99 3012.52 355.647 Q3014.76 353.124 3015.64 351.388 Q3016.54 349.629 3016.54 347.939 Q3016.54 345.184 3014.6 343.448 Q3012.68 341.712 3009.58 341.712 Q3007.38 341.712 3004.92 342.476 Q3002.49 343.24 2999.71 344.791 L2999.71 340.068 Q3002.54 338.934 3004.99 338.355 Q3007.45 337.777 3009.48 337.777 Q3014.85 337.777 3018.05 340.462 Q3021.24 343.147 3021.24 347.638 Q3021.24 349.767 3020.43 351.689 Q3019.65 353.587 3017.54 356.179 Q3016.96 356.851 3013.86 360.068 Q3010.76 363.263 3005.11 369.027 Z\" fill=\"#000000\" fill-rule=\"nonzero\" fill-opacity=\"1\" /></svg>\n"
      ],
      "text/html": [
       "<?xml version=\"1.0\" encoding=\"utf-8\"?>\n",
       "<svg xmlns=\"http://www.w3.org/2000/svg\" xmlns:xlink=\"http://www.w3.org/1999/xlink\" width=\"800\" height=\"600\" viewBox=\"0 0 3200 2400\">\n",
       "<defs>\n",
       "  <clipPath id=\"clip350\">\n",
       "    <rect x=\"0\" y=\"0\" width=\"3200\" height=\"2400\"/>\n",
       "  </clipPath>\n",
       "</defs>\n",
       "<path clip-path=\"url(#clip350)\" d=\"M0 2400 L3200 2400 L3200 0 L0 0  Z\" fill=\"#ffffff\" fill-rule=\"evenodd\" fill-opacity=\"1\"/>\n",
       "<defs>\n",
       "  <clipPath id=\"clip351\">\n",
       "    <rect x=\"640\" y=\"0\" width=\"2241\" height=\"2241\"/>\n",
       "  </clipPath>\n",
       "</defs>\n",
       "<path clip-path=\"url(#clip350)\" d=\"M233.806 2204.92 L3152.76 2204.92 L3152.76 131.032 L233.806 131.032  Z\" fill=\"#ffffff\" fill-rule=\"evenodd\" fill-opacity=\"1\"/>\n",
       "<defs>\n",
       "  <clipPath id=\"clip352\">\n",
       "    <rect x=\"233\" y=\"131\" width=\"2920\" height=\"2075\"/>\n",
       "  </clipPath>\n",
       "</defs>\n",
       "<polyline clip-path=\"url(#clip352)\" style=\"stroke:#000000; stroke-linecap:round; stroke-linejoin:round; stroke-width:2; stroke-opacity:0.1; fill:none\" points=\"316.418,2204.92 316.418,131.032 \"/>\n",
       "<polyline clip-path=\"url(#clip352)\" style=\"stroke:#000000; stroke-linecap:round; stroke-linejoin:round; stroke-width:2; stroke-opacity:0.1; fill:none\" points=\"1004.85,2204.92 1004.85,131.032 \"/>\n",
       "<polyline clip-path=\"url(#clip352)\" style=\"stroke:#000000; stroke-linecap:round; stroke-linejoin:round; stroke-width:2; stroke-opacity:0.1; fill:none\" points=\"1693.28,2204.92 1693.28,131.032 \"/>\n",
       "<polyline clip-path=\"url(#clip352)\" style=\"stroke:#000000; stroke-linecap:round; stroke-linejoin:round; stroke-width:2; stroke-opacity:0.1; fill:none\" points=\"2381.71,2204.92 2381.71,131.032 \"/>\n",
       "<polyline clip-path=\"url(#clip352)\" style=\"stroke:#000000; stroke-linecap:round; stroke-linejoin:round; stroke-width:2; stroke-opacity:0.1; fill:none\" points=\"3070.14,2204.92 3070.14,131.032 \"/>\n",
       "<polyline clip-path=\"url(#clip352)\" style=\"stroke:#000000; stroke-linecap:round; stroke-linejoin:round; stroke-width:2; stroke-opacity:0.1; fill:none\" points=\"233.806,1905.31 3152.76,1905.31 \"/>\n",
       "<polyline clip-path=\"url(#clip352)\" style=\"stroke:#000000; stroke-linecap:round; stroke-linejoin:round; stroke-width:2; stroke-opacity:0.1; fill:none\" points=\"233.806,1518.69 3152.76,1518.69 \"/>\n",
       "<polyline clip-path=\"url(#clip352)\" style=\"stroke:#000000; stroke-linecap:round; stroke-linejoin:round; stroke-width:2; stroke-opacity:0.1; fill:none\" points=\"233.806,1132.06 3152.76,1132.06 \"/>\n",
       "<polyline clip-path=\"url(#clip352)\" style=\"stroke:#000000; stroke-linecap:round; stroke-linejoin:round; stroke-width:2; stroke-opacity:0.1; fill:none\" points=\"233.806,745.439 3152.76,745.439 \"/>\n",
       "<polyline clip-path=\"url(#clip352)\" style=\"stroke:#000000; stroke-linecap:round; stroke-linejoin:round; stroke-width:2; stroke-opacity:0.1; fill:none\" points=\"233.806,358.815 3152.76,358.815 \"/>\n",
       "<polyline clip-path=\"url(#clip350)\" style=\"stroke:#000000; stroke-linecap:round; stroke-linejoin:round; stroke-width:4; stroke-opacity:1; fill:none\" points=\"233.806,2204.92 3152.76,2204.92 \"/>\n",
       "<polyline clip-path=\"url(#clip350)\" style=\"stroke:#000000; stroke-linecap:round; stroke-linejoin:round; stroke-width:4; stroke-opacity:1; fill:none\" points=\"316.418,2204.92 316.418,2186.02 \"/>\n",
       "<polyline clip-path=\"url(#clip350)\" style=\"stroke:#000000; stroke-linecap:round; stroke-linejoin:round; stroke-width:4; stroke-opacity:1; fill:none\" points=\"1004.85,2204.92 1004.85,2186.02 \"/>\n",
       "<polyline clip-path=\"url(#clip350)\" style=\"stroke:#000000; stroke-linecap:round; stroke-linejoin:round; stroke-width:4; stroke-opacity:1; fill:none\" points=\"1693.28,2204.92 1693.28,2186.02 \"/>\n",
       "<polyline clip-path=\"url(#clip350)\" style=\"stroke:#000000; stroke-linecap:round; stroke-linejoin:round; stroke-width:4; stroke-opacity:1; fill:none\" points=\"2381.71,2204.92 2381.71,2186.02 \"/>\n",
       "<polyline clip-path=\"url(#clip350)\" style=\"stroke:#000000; stroke-linecap:round; stroke-linejoin:round; stroke-width:4; stroke-opacity:1; fill:none\" points=\"3070.14,2204.92 3070.14,2186.02 \"/>\n",
       "<path clip-path=\"url(#clip350)\" d=\"M294.127 2242.24 Q290.515 2242.24 288.687 2245.8 Q286.881 2249.34 286.881 2256.47 Q286.881 2263.58 288.687 2267.15 Q290.515 2270.69 294.127 2270.69 Q297.761 2270.69 299.566 2267.15 Q301.395 2263.58 301.395 2256.47 Q301.395 2249.34 299.566 2245.8 Q297.761 2242.24 294.127 2242.24 M294.127 2238.53 Q299.937 2238.53 302.992 2243.14 Q306.071 2247.72 306.071 2256.47 Q306.071 2265.2 302.992 2269.81 Q299.937 2274.39 294.127 2274.39 Q288.316 2274.39 285.238 2269.81 Q282.182 2265.2 282.182 2256.47 Q282.182 2247.72 285.238 2243.14 Q288.316 2238.53 294.127 2238.53 Z\" fill=\"#000000\" fill-rule=\"nonzero\" fill-opacity=\"1\" /><path clip-path=\"url(#clip350)\" d=\"M314.288 2267.84 L319.173 2267.84 L319.173 2273.72 L314.288 2273.72 L314.288 2267.84 Z\" fill=\"#000000\" fill-rule=\"nonzero\" fill-opacity=\"1\" /><path clip-path=\"url(#clip350)\" d=\"M343.524 2255.09 Q346.881 2255.8 348.756 2258.07 Q350.654 2260.34 350.654 2263.67 Q350.654 2268.79 347.135 2271.59 Q343.617 2274.39 337.136 2274.39 Q334.96 2274.39 332.645 2273.95 Q330.353 2273.53 327.899 2272.68 L327.899 2268.16 Q329.844 2269.3 332.159 2269.88 Q334.474 2270.46 336.997 2270.46 Q341.395 2270.46 343.686 2268.72 Q346.001 2266.98 346.001 2263.67 Q346.001 2260.62 343.848 2258.91 Q341.719 2257.17 337.899 2257.17 L333.872 2257.17 L333.872 2253.33 L338.085 2253.33 Q341.534 2253.33 343.362 2251.96 Q345.191 2250.57 345.191 2247.98 Q345.191 2245.32 343.293 2243.91 Q341.418 2242.47 337.899 2242.47 Q335.978 2242.47 333.779 2242.89 Q331.58 2243.3 328.941 2244.18 L328.941 2240.02 Q331.603 2239.28 333.918 2238.91 Q336.256 2238.53 338.316 2238.53 Q343.64 2238.53 346.742 2240.97 Q349.844 2243.37 349.844 2247.49 Q349.844 2250.36 348.2 2252.35 Q346.557 2254.32 343.524 2255.09 Z\" fill=\"#000000\" fill-rule=\"nonzero\" fill-opacity=\"1\" /><path clip-path=\"url(#clip350)\" d=\"M981.991 2242.24 Q978.38 2242.24 976.551 2245.8 Q974.746 2249.34 974.746 2256.47 Q974.746 2263.58 976.551 2267.15 Q978.38 2270.69 981.991 2270.69 Q985.625 2270.69 987.431 2267.15 Q989.259 2263.58 989.259 2256.47 Q989.259 2249.34 987.431 2245.8 Q985.625 2242.24 981.991 2242.24 M981.991 2238.53 Q987.801 2238.53 990.857 2243.14 Q993.935 2247.72 993.935 2256.47 Q993.935 2265.2 990.857 2269.81 Q987.801 2274.39 981.991 2274.39 Q976.181 2274.39 973.102 2269.81 Q970.047 2265.2 970.047 2256.47 Q970.047 2247.72 973.102 2243.14 Q976.181 2238.53 981.991 2238.53 Z\" fill=\"#000000\" fill-rule=\"nonzero\" fill-opacity=\"1\" /><path clip-path=\"url(#clip350)\" d=\"M1002.15 2267.84 L1007.04 2267.84 L1007.04 2273.72 L1002.15 2273.72 L1002.15 2267.84 Z\" fill=\"#000000\" fill-rule=\"nonzero\" fill-opacity=\"1\" /><path clip-path=\"url(#clip350)\" d=\"M1030.07 2243.23 L1018.26 2261.68 L1030.07 2261.68 L1030.07 2243.23 M1028.84 2239.16 L1034.72 2239.16 L1034.72 2261.68 L1039.65 2261.68 L1039.65 2265.57 L1034.72 2265.57 L1034.72 2273.72 L1030.07 2273.72 L1030.07 2265.57 L1014.47 2265.57 L1014.47 2261.06 L1028.84 2239.16 Z\" fill=\"#000000\" fill-rule=\"nonzero\" fill-opacity=\"1\" /><path clip-path=\"url(#clip350)\" d=\"M1671.16 2242.24 Q1667.55 2242.24 1665.72 2245.8 Q1663.92 2249.34 1663.92 2256.47 Q1663.92 2263.58 1665.72 2267.15 Q1667.55 2270.69 1671.16 2270.69 Q1674.8 2270.69 1676.6 2267.15 Q1678.43 2263.58 1678.43 2256.47 Q1678.43 2249.34 1676.6 2245.8 Q1674.8 2242.24 1671.16 2242.24 M1671.16 2238.53 Q1676.97 2238.53 1680.03 2243.14 Q1683.11 2247.72 1683.11 2256.47 Q1683.11 2265.2 1680.03 2269.81 Q1676.97 2274.39 1671.16 2274.39 Q1665.35 2274.39 1662.27 2269.81 Q1659.22 2265.2 1659.22 2256.47 Q1659.22 2247.72 1662.27 2243.14 Q1665.35 2238.53 1671.16 2238.53 Z\" fill=\"#000000\" fill-rule=\"nonzero\" fill-opacity=\"1\" /><path clip-path=\"url(#clip350)\" d=\"M1691.33 2267.84 L1696.21 2267.84 L1696.21 2273.72 L1691.33 2273.72 L1691.33 2267.84 Z\" fill=\"#000000\" fill-rule=\"nonzero\" fill-opacity=\"1\" /><path clip-path=\"url(#clip350)\" d=\"M1706.44 2239.16 L1724.8 2239.16 L1724.8 2243.1 L1710.72 2243.1 L1710.72 2251.57 Q1711.74 2251.22 1712.76 2251.06 Q1713.78 2250.87 1714.8 2250.87 Q1720.58 2250.87 1723.96 2254.04 Q1727.34 2257.22 1727.34 2262.63 Q1727.34 2268.21 1723.87 2271.31 Q1720.4 2274.39 1714.08 2274.39 Q1711.9 2274.39 1709.64 2274.02 Q1707.39 2273.65 1704.98 2272.91 L1704.98 2268.21 Q1707.07 2269.34 1709.29 2269.9 Q1711.51 2270.46 1713.99 2270.46 Q1717.99 2270.46 1720.33 2268.35 Q1722.67 2266.24 1722.67 2262.63 Q1722.67 2259.02 1720.33 2256.91 Q1717.99 2254.81 1713.99 2254.81 Q1712.11 2254.81 1710.24 2255.22 Q1708.39 2255.64 1706.44 2256.52 L1706.44 2239.16 Z\" fill=\"#000000\" fill-rule=\"nonzero\" fill-opacity=\"1\" /><path clip-path=\"url(#clip350)\" d=\"M2359.02 2242.24 Q2355.4 2242.24 2353.58 2245.8 Q2351.77 2249.34 2351.77 2256.47 Q2351.77 2263.58 2353.58 2267.15 Q2355.4 2270.69 2359.02 2270.69 Q2362.65 2270.69 2364.46 2267.15 Q2366.28 2263.58 2366.28 2256.47 Q2366.28 2249.34 2364.46 2245.8 Q2362.65 2242.24 2359.02 2242.24 M2359.02 2238.53 Q2364.83 2238.53 2367.88 2243.14 Q2370.96 2247.72 2370.96 2256.47 Q2370.96 2265.2 2367.88 2269.81 Q2364.83 2274.39 2359.02 2274.39 Q2353.21 2274.39 2350.13 2269.81 Q2347.07 2265.2 2347.07 2256.47 Q2347.07 2247.72 2350.13 2243.14 Q2353.21 2238.53 2359.02 2238.53 Z\" fill=\"#000000\" fill-rule=\"nonzero\" fill-opacity=\"1\" /><path clip-path=\"url(#clip350)\" d=\"M2379.18 2267.84 L2384.06 2267.84 L2384.06 2273.72 L2379.18 2273.72 L2379.18 2267.84 Z\" fill=\"#000000\" fill-rule=\"nonzero\" fill-opacity=\"1\" /><path clip-path=\"url(#clip350)\" d=\"M2404.83 2254.58 Q2401.68 2254.58 2399.83 2256.73 Q2398 2258.88 2398 2262.63 Q2398 2266.36 2399.83 2268.53 Q2401.68 2270.69 2404.83 2270.69 Q2407.97 2270.69 2409.8 2268.53 Q2411.65 2266.36 2411.65 2262.63 Q2411.65 2258.88 2409.8 2256.73 Q2407.97 2254.58 2404.83 2254.58 M2414.11 2239.92 L2414.11 2244.18 Q2412.35 2243.35 2410.54 2242.91 Q2408.76 2242.47 2407 2242.47 Q2402.37 2242.47 2399.92 2245.59 Q2397.49 2248.72 2397.14 2255.04 Q2398.51 2253.03 2400.57 2251.96 Q2402.63 2250.87 2405.1 2250.87 Q2410.31 2250.87 2413.32 2254.04 Q2416.35 2257.19 2416.35 2262.63 Q2416.35 2267.96 2413.21 2271.17 Q2410.06 2274.39 2404.83 2274.39 Q2398.83 2274.39 2395.66 2269.81 Q2392.49 2265.2 2392.49 2256.47 Q2392.49 2248.28 2396.38 2243.42 Q2400.27 2238.53 2406.82 2238.53 Q2408.58 2238.53 2410.36 2238.88 Q2412.16 2239.23 2414.11 2239.92 Z\" fill=\"#000000\" fill-rule=\"nonzero\" fill-opacity=\"1\" /><path clip-path=\"url(#clip350)\" d=\"M3047.98 2242.24 Q3044.37 2242.24 3042.54 2245.8 Q3040.73 2249.34 3040.73 2256.47 Q3040.73 2263.58 3042.54 2267.15 Q3044.37 2270.69 3047.98 2270.69 Q3051.61 2270.69 3053.42 2267.15 Q3055.25 2263.58 3055.25 2256.47 Q3055.25 2249.34 3053.42 2245.8 Q3051.61 2242.24 3047.98 2242.24 M3047.98 2238.53 Q3053.79 2238.53 3056.85 2243.14 Q3059.92 2247.72 3059.92 2256.47 Q3059.92 2265.2 3056.85 2269.81 Q3053.79 2274.39 3047.98 2274.39 Q3042.17 2274.39 3039.09 2269.81 Q3036.04 2265.2 3036.04 2256.47 Q3036.04 2247.72 3039.09 2243.14 Q3042.17 2238.53 3047.98 2238.53 Z\" fill=\"#000000\" fill-rule=\"nonzero\" fill-opacity=\"1\" /><path clip-path=\"url(#clip350)\" d=\"M3068.14 2267.84 L3073.03 2267.84 L3073.03 2273.72 L3068.14 2273.72 L3068.14 2267.84 Z\" fill=\"#000000\" fill-rule=\"nonzero\" fill-opacity=\"1\" /><path clip-path=\"url(#clip350)\" d=\"M3082.03 2239.16 L3104.25 2239.16 L3104.25 2241.15 L3091.71 2273.72 L3086.82 2273.72 L3098.63 2243.1 L3082.03 2243.1 L3082.03 2239.16 Z\" fill=\"#000000\" fill-rule=\"nonzero\" fill-opacity=\"1\" /><path clip-path=\"url(#clip350)\" d=\"M1410.25 2317.83 L1426.7 2361.78 L1420.49 2361.78 L1410.5 2335.43 L1398.21 2361.78 L1392.01 2361.78 L1407.64 2327.6 L1405.28 2321.3 Q1403.78 2317.29 1400.38 2317.29 L1397.32 2317.29 L1397.32 2312.26 L1401.05 2312.32 Q1408.24 2312.42 1410.25 2317.83 Z\" fill=\"#000000\" fill-rule=\"nonzero\" fill-opacity=\"1\" /><path clip-path=\"url(#clip350)\" d=\"M1469.57 2312.32 Q1465.31 2319.64 1463.24 2326.8 Q1461.17 2333.97 1461.17 2341.32 Q1461.17 2348.67 1463.24 2355.9 Q1465.34 2363.09 1469.57 2370.38 L1464.48 2370.38 Q1459.71 2362.9 1457.32 2355.67 Q1454.96 2348.45 1454.96 2341.32 Q1454.96 2334.22 1457.32 2327.03 Q1459.68 2319.83 1464.48 2312.32 L1469.57 2312.32 Z\" fill=\"#000000\" fill-rule=\"nonzero\" fill-opacity=\"1\" /><path clip-path=\"url(#clip350)\" d=\"M1494.97 2317.83 L1511.43 2361.78 L1505.22 2361.78 L1495.23 2335.43 L1482.94 2361.78 L1476.74 2361.78 L1492.36 2327.6 L1490.01 2321.3 Q1488.51 2317.29 1485.11 2317.29 L1482.05 2317.29 L1482.05 2312.26 L1485.77 2312.32 Q1492.97 2312.42 1494.97 2317.83 Z\" fill=\"#000000\" fill-rule=\"nonzero\" fill-opacity=\"1\" /><path clip-path=\"url(#clip350)\" d=\"M1538.45 2341.83 L1530.33 2351.54 L1538.86 2361.78 L1534.5 2361.78 L1527.98 2353.95 L1521.45 2361.78 L1517.09 2361.78 L1525.82 2351.34 L1517.83 2341.83 L1522.19 2341.83 L1528.14 2348.93 L1534.09 2341.83 L1538.45 2341.83 Z\" fill=\"#000000\" fill-rule=\"nonzero\" fill-opacity=\"1\" /><path clip-path=\"url(#clip350)\" d=\"M1549.21 2332.18 L1590.01 2332.18 L1590.01 2337.53 L1549.21 2337.53 L1549.21 2332.18 M1549.21 2345.17 L1590.01 2345.17 L1590.01 2350.58 L1549.21 2350.58 L1549.21 2345.17 Z\" fill=\"#000000\" fill-rule=\"nonzero\" fill-opacity=\"1\" /><path clip-path=\"url(#clip350)\" d=\"M1617.1 2317.83 L1633.55 2361.78 L1627.35 2361.78 L1617.35 2335.43 L1605.07 2361.78 L1598.86 2361.78 L1614.49 2327.6 L1612.13 2321.3 Q1610.64 2317.29 1607.23 2317.29 L1604.18 2317.29 L1604.18 2312.26 L1607.9 2312.32 Q1615.09 2312.42 1617.1 2317.83 Z\" fill=\"#000000\" fill-rule=\"nonzero\" fill-opacity=\"1\" /><path clip-path=\"url(#clip350)\" d=\"M1643.14 2353.7 L1649.85 2353.7 L1649.85 2359.17 L1644.63 2369.36 L1640.53 2369.36 L1643.14 2359.17 L1643.14 2353.7 Z\" fill=\"#000000\" fill-rule=\"nonzero\" fill-opacity=\"1\" /><path clip-path=\"url(#clip350)\" d=\"M1697.12 2317.83 L1713.57 2361.78 L1707.37 2361.78 L1697.37 2335.43 L1685.09 2361.78 L1678.88 2361.78 L1694.51 2327.6 L1692.15 2321.3 Q1690.66 2317.29 1687.25 2317.29 L1684.19 2317.29 L1684.19 2312.26 L1687.92 2312.32 Q1695.11 2312.42 1697.12 2317.83 Z\" fill=\"#000000\" fill-rule=\"nonzero\" fill-opacity=\"1\" /><path clip-path=\"url(#clip350)\" d=\"M1748.74 2372.61 L1748.74 2377.16 L1714.88 2377.16 L1714.88 2372.61 L1748.74 2372.61 Z\" fill=\"#000000\" fill-rule=\"nonzero\" fill-opacity=\"1\" /><path clip-path=\"url(#clip350)\" d=\"M1751.7 2326.14 L1779.52 2326.14 L1779.52 2331.48 L1757.5 2357.11 L1779.52 2357.11 L1779.52 2361.78 L1750.91 2361.78 L1750.91 2356.44 L1772.93 2330.81 L1751.7 2330.81 L1751.7 2326.14 Z\" fill=\"#000000\" fill-rule=\"nonzero\" fill-opacity=\"1\" /><path clip-path=\"url(#clip350)\" d=\"M1785.92 2326.14 L1813.74 2326.14 L1813.74 2331.48 L1791.71 2357.11 L1813.74 2357.11 L1813.74 2361.78 L1785.12 2361.78 L1785.12 2356.44 L1807.15 2330.81 L1785.92 2330.81 L1785.92 2326.14 Z\" fill=\"#000000\" fill-rule=\"nonzero\" fill-opacity=\"1\" /><path clip-path=\"url(#clip350)\" d=\"M1823.44 2332.18 L1864.25 2332.18 L1864.25 2337.53 L1823.44 2337.53 L1823.44 2332.18 M1823.44 2345.17 L1864.25 2345.17 L1864.25 2350.58 L1823.44 2350.58 L1823.44 2345.17 Z\" fill=\"#000000\" fill-rule=\"nonzero\" fill-opacity=\"1\" /><path clip-path=\"url(#clip350)\" d=\"M1879.24 2356.37 L1889.74 2356.37 L1889.74 2320.12 L1878.32 2322.41 L1878.32 2316.56 L1889.68 2314.26 L1896.11 2314.26 L1896.11 2356.37 L1906.61 2356.37 L1906.61 2361.78 L1879.24 2361.78 L1879.24 2356.37 Z\" fill=\"#000000\" fill-rule=\"nonzero\" fill-opacity=\"1\" /><path clip-path=\"url(#clip350)\" d=\"M1915.81 2341.32 L1932.97 2341.32 L1932.97 2346.54 L1915.81 2346.54 L1915.81 2341.32 Z\" fill=\"#000000\" fill-rule=\"nonzero\" fill-opacity=\"1\" /><path clip-path=\"url(#clip350)\" d=\"M1956.33 2317.83 L1972.78 2361.78 L1966.58 2361.78 L1956.58 2335.43 L1944.3 2361.78 L1938.09 2361.78 L1953.72 2327.6 L1951.36 2321.3 Q1949.87 2317.29 1946.46 2317.29 L1943.41 2317.29 L1943.41 2312.26 L1947.13 2312.32 Q1954.32 2312.42 1956.33 2317.83 Z\" fill=\"#000000\" fill-rule=\"nonzero\" fill-opacity=\"1\" /><path clip-path=\"url(#clip350)\" d=\"M1979.94 2312.32 L1985.04 2312.32 Q1989.81 2319.83 1992.17 2327.03 Q1994.55 2334.22 1994.55 2341.32 Q1994.55 2348.45 1992.17 2355.67 Q1989.81 2362.9 1985.04 2370.38 L1979.94 2370.38 Q1984.18 2363.09 1986.25 2355.9 Q1988.35 2348.67 1988.35 2341.32 Q1988.35 2333.97 1986.25 2326.8 Q1984.18 2319.64 1979.94 2312.32 Z\" fill=\"#000000\" fill-rule=\"nonzero\" fill-opacity=\"1\" /><polyline clip-path=\"url(#clip350)\" style=\"stroke:#000000; stroke-linecap:round; stroke-linejoin:round; stroke-width:4; stroke-opacity:1; fill:none\" points=\"233.806,2204.92 233.806,131.032 \"/>\n",
       "<polyline clip-path=\"url(#clip350)\" style=\"stroke:#000000; stroke-linecap:round; stroke-linejoin:round; stroke-width:4; stroke-opacity:1; fill:none\" points=\"233.806,1905.31 252.704,1905.31 \"/>\n",
       "<polyline clip-path=\"url(#clip350)\" style=\"stroke:#000000; stroke-linecap:round; stroke-linejoin:round; stroke-width:4; stroke-opacity:1; fill:none\" points=\"233.806,1518.69 252.704,1518.69 \"/>\n",
       "<polyline clip-path=\"url(#clip350)\" style=\"stroke:#000000; stroke-linecap:round; stroke-linejoin:round; stroke-width:4; stroke-opacity:1; fill:none\" points=\"233.806,1132.06 252.704,1132.06 \"/>\n",
       "<polyline clip-path=\"url(#clip350)\" style=\"stroke:#000000; stroke-linecap:round; stroke-linejoin:round; stroke-width:4; stroke-opacity:1; fill:none\" points=\"233.806,745.439 252.704,745.439 \"/>\n",
       "<polyline clip-path=\"url(#clip350)\" style=\"stroke:#000000; stroke-linecap:round; stroke-linejoin:round; stroke-width:4; stroke-opacity:1; fill:none\" points=\"233.806,358.815 252.704,358.815 \"/>\n",
       "<path clip-path=\"url(#clip350)\" d=\"M130.228 1891.11 Q126.617 1891.11 124.788 1894.68 Q122.983 1898.22 122.983 1905.35 Q122.983 1912.45 124.788 1916.02 Q126.617 1919.56 130.228 1919.56 Q133.862 1919.56 135.668 1916.02 Q137.496 1912.45 137.496 1905.35 Q137.496 1898.22 135.668 1894.68 Q133.862 1891.11 130.228 1891.11 M130.228 1887.41 Q136.038 1887.41 139.094 1892.01 Q142.172 1896.6 142.172 1905.35 Q142.172 1914.07 139.094 1918.68 Q136.038 1923.26 130.228 1923.26 Q124.418 1923.26 121.339 1918.68 Q118.283 1914.07 118.283 1905.35 Q118.283 1896.6 121.339 1892.01 Q124.418 1887.41 130.228 1887.41 Z\" fill=\"#000000\" fill-rule=\"nonzero\" fill-opacity=\"1\" /><path clip-path=\"url(#clip350)\" d=\"M150.39 1916.71 L155.274 1916.71 L155.274 1922.59 L150.39 1922.59 L150.39 1916.71 Z\" fill=\"#000000\" fill-rule=\"nonzero\" fill-opacity=\"1\" /><path clip-path=\"url(#clip350)\" d=\"M169.487 1918.66 L185.806 1918.66 L185.806 1922.59 L163.862 1922.59 L163.862 1918.66 Q166.524 1915.9 171.107 1911.27 Q175.714 1906.62 176.894 1905.28 Q179.14 1902.76 180.019 1901.02 Q180.922 1899.26 180.922 1897.57 Q180.922 1894.82 178.978 1893.08 Q177.056 1891.34 173.954 1891.34 Q171.755 1891.34 169.302 1892.11 Q166.871 1892.87 164.093 1894.42 L164.093 1889.7 Q166.917 1888.57 169.371 1887.99 Q171.825 1887.41 173.862 1887.41 Q179.232 1887.41 182.427 1890.09 Q185.621 1892.78 185.621 1897.27 Q185.621 1899.4 184.811 1901.32 Q184.024 1903.22 181.917 1905.81 Q181.339 1906.48 178.237 1909.7 Q175.135 1912.89 169.487 1918.66 Z\" fill=\"#000000\" fill-rule=\"nonzero\" fill-opacity=\"1\" /><path clip-path=\"url(#clip350)\" d=\"M129.279 1504.49 Q125.668 1504.49 123.839 1508.05 Q122.033 1511.59 122.033 1518.72 Q122.033 1525.83 123.839 1529.39 Q125.668 1532.94 129.279 1532.94 Q132.913 1532.94 134.719 1529.39 Q136.547 1525.83 136.547 1518.72 Q136.547 1511.59 134.719 1508.05 Q132.913 1504.49 129.279 1504.49 M129.279 1500.78 Q135.089 1500.78 138.144 1505.39 Q141.223 1509.97 141.223 1518.72 Q141.223 1527.45 138.144 1532.06 Q135.089 1536.64 129.279 1536.64 Q123.469 1536.64 120.39 1532.06 Q117.334 1527.45 117.334 1518.72 Q117.334 1509.97 120.39 1505.39 Q123.469 1500.78 129.279 1500.78 Z\" fill=\"#000000\" fill-rule=\"nonzero\" fill-opacity=\"1\" /><path clip-path=\"url(#clip350)\" d=\"M149.441 1530.09 L154.325 1530.09 L154.325 1535.97 L149.441 1535.97 L149.441 1530.09 Z\" fill=\"#000000\" fill-rule=\"nonzero\" fill-opacity=\"1\" /><path clip-path=\"url(#clip350)\" d=\"M178.677 1517.33 Q182.033 1518.05 183.908 1520.32 Q185.806 1522.59 185.806 1525.92 Q185.806 1531.04 182.288 1533.84 Q178.769 1536.64 172.288 1536.64 Q170.112 1536.64 167.797 1536.2 Q165.505 1535.78 163.052 1534.93 L163.052 1530.41 Q164.996 1531.55 167.311 1532.13 Q169.626 1532.7 172.149 1532.7 Q176.547 1532.7 178.839 1530.97 Q181.154 1529.23 181.154 1525.92 Q181.154 1522.87 179.001 1521.15 Q176.871 1519.42 173.052 1519.42 L169.024 1519.42 L169.024 1515.57 L173.237 1515.57 Q176.686 1515.57 178.515 1514.21 Q180.343 1512.82 180.343 1510.23 Q180.343 1507.57 178.445 1506.15 Q176.57 1504.72 173.052 1504.72 Q171.13 1504.72 168.931 1505.14 Q166.732 1505.55 164.093 1506.43 L164.093 1502.26 Q166.755 1501.52 169.07 1501.15 Q171.408 1500.78 173.468 1500.78 Q178.792 1500.78 181.894 1503.21 Q184.996 1505.62 184.996 1509.74 Q184.996 1512.61 183.353 1514.6 Q181.709 1516.57 178.677 1517.33 Z\" fill=\"#000000\" fill-rule=\"nonzero\" fill-opacity=\"1\" /><path clip-path=\"url(#clip350)\" d=\"M128.145 1117.86 Q124.533 1117.86 122.705 1121.43 Q120.899 1124.97 120.899 1132.1 Q120.899 1139.2 122.705 1142.77 Q124.533 1146.31 128.145 1146.31 Q131.779 1146.31 133.584 1142.77 Q135.413 1139.2 135.413 1132.1 Q135.413 1124.97 133.584 1121.43 Q131.779 1117.86 128.145 1117.86 M128.145 1114.16 Q133.955 1114.16 137.01 1118.77 Q140.089 1123.35 140.089 1132.1 Q140.089 1140.83 137.01 1145.43 Q133.955 1150.02 128.145 1150.02 Q122.334 1150.02 119.256 1145.43 Q116.2 1140.83 116.2 1132.1 Q116.2 1123.35 119.256 1118.77 Q122.334 1114.16 128.145 1114.16 Z\" fill=\"#000000\" fill-rule=\"nonzero\" fill-opacity=\"1\" /><path clip-path=\"url(#clip350)\" d=\"M148.306 1143.46 L153.191 1143.46 L153.191 1149.34 L148.306 1149.34 L148.306 1143.46 Z\" fill=\"#000000\" fill-rule=\"nonzero\" fill-opacity=\"1\" /><path clip-path=\"url(#clip350)\" d=\"M176.223 1118.86 L164.417 1137.31 L176.223 1137.31 L176.223 1118.86 M174.996 1114.78 L180.876 1114.78 L180.876 1137.31 L185.806 1137.31 L185.806 1141.2 L180.876 1141.2 L180.876 1149.34 L176.223 1149.34 L176.223 1141.2 L160.621 1141.2 L160.621 1136.68 L174.996 1114.78 Z\" fill=\"#000000\" fill-rule=\"nonzero\" fill-opacity=\"1\" /><path clip-path=\"url(#clip350)\" d=\"M129.626 731.238 Q126.015 731.238 124.186 734.803 Q122.381 738.344 122.381 745.474 Q122.381 752.58 124.186 756.145 Q126.015 759.687 129.626 759.687 Q133.26 759.687 135.066 756.145 Q136.894 752.58 136.894 745.474 Q136.894 738.344 135.066 734.803 Q133.26 731.238 129.626 731.238 M129.626 727.534 Q135.436 727.534 138.492 732.141 Q141.57 736.724 141.57 745.474 Q141.57 754.201 138.492 758.807 Q135.436 763.39 129.626 763.39 Q123.816 763.39 120.737 758.807 Q117.682 754.201 117.682 745.474 Q117.682 736.724 120.737 732.141 Q123.816 727.534 129.626 727.534 Z\" fill=\"#000000\" fill-rule=\"nonzero\" fill-opacity=\"1\" /><path clip-path=\"url(#clip350)\" d=\"M149.788 756.84 L154.672 756.84 L154.672 762.719 L149.788 762.719 L149.788 756.84 Z\" fill=\"#000000\" fill-rule=\"nonzero\" fill-opacity=\"1\" /><path clip-path=\"url(#clip350)\" d=\"M164.904 728.159 L183.26 728.159 L183.26 732.094 L169.186 732.094 L169.186 740.566 Q170.204 740.219 171.223 740.057 Q172.242 739.872 173.26 739.872 Q179.047 739.872 182.427 743.043 Q185.806 746.215 185.806 751.631 Q185.806 757.21 182.334 760.312 Q178.862 763.39 172.542 763.39 Q170.367 763.39 168.098 763.02 Q165.853 762.65 163.445 761.909 L163.445 757.21 Q165.529 758.344 167.751 758.9 Q169.973 759.455 172.45 759.455 Q176.454 759.455 178.792 757.349 Q181.13 755.242 181.13 751.631 Q181.13 748.02 178.792 745.914 Q176.454 743.807 172.45 743.807 Q170.575 743.807 168.7 744.224 Q166.848 744.641 164.904 745.52 L164.904 728.159 Z\" fill=\"#000000\" fill-rule=\"nonzero\" fill-opacity=\"1\" /><path clip-path=\"url(#clip350)\" d=\"M128.469 344.613 Q124.858 344.613 123.029 348.178 Q121.223 351.72 121.223 358.849 Q121.223 365.956 123.029 369.52 Q124.858 373.062 128.469 373.062 Q132.103 373.062 133.908 369.52 Q135.737 365.956 135.737 358.849 Q135.737 351.72 133.908 348.178 Q132.103 344.613 128.469 344.613 M128.469 340.91 Q134.279 340.91 137.334 345.516 Q140.413 350.099 140.413 358.849 Q140.413 367.576 137.334 372.182 Q134.279 376.766 128.469 376.766 Q122.658 376.766 119.58 372.182 Q116.524 367.576 116.524 358.849 Q116.524 350.099 119.58 345.516 Q122.658 340.91 128.469 340.91 Z\" fill=\"#000000\" fill-rule=\"nonzero\" fill-opacity=\"1\" /><path clip-path=\"url(#clip350)\" d=\"M148.631 370.215 L153.515 370.215 L153.515 376.095 L148.631 376.095 L148.631 370.215 Z\" fill=\"#000000\" fill-rule=\"nonzero\" fill-opacity=\"1\" /><path clip-path=\"url(#clip350)\" d=\"M174.279 356.951 Q171.13 356.951 169.279 359.104 Q167.45 361.257 167.45 365.007 Q167.45 368.733 169.279 370.909 Q171.13 373.062 174.279 373.062 Q177.427 373.062 179.255 370.909 Q181.107 368.733 181.107 365.007 Q181.107 361.257 179.255 359.104 Q177.427 356.951 174.279 356.951 M183.561 342.298 L183.561 346.558 Q181.802 345.724 179.996 345.284 Q178.214 344.845 176.454 344.845 Q171.825 344.845 169.371 347.97 Q166.941 351.095 166.593 357.414 Q167.959 355.4 170.019 354.335 Q172.079 353.247 174.556 353.247 Q179.765 353.247 182.774 356.419 Q185.806 359.567 185.806 365.007 Q185.806 370.331 182.658 373.548 Q179.51 376.766 174.279 376.766 Q168.283 376.766 165.112 372.182 Q161.941 367.576 161.941 358.849 Q161.941 350.655 165.83 345.794 Q169.718 340.91 176.269 340.91 Q178.029 340.91 179.811 341.257 Q181.616 341.604 183.561 342.298 Z\" fill=\"#000000\" fill-rule=\"nonzero\" fill-opacity=\"1\" /><path clip-path=\"url(#clip350)\" d=\"M31.2504 1444.49 L48.6606 1444.49 L48.6606 1434.17 Q48.6606 1428.99 46.5281 1426.5 Q44.3638 1423.99 39.9396 1423.99 Q35.4836 1423.99 33.3829 1426.5 Q31.2504 1428.99 31.2504 1434.17 L31.2504 1444.49 M11.7077 1444.49 L26.0305 1444.49 L26.0305 1434.97 Q26.0305 1430.26 24.28 1427.97 Q22.4976 1425.64 18.8691 1425.64 Q15.2725 1425.64 13.4901 1427.97 Q11.7077 1430.26 11.7077 1434.97 L11.7077 1444.49 M6.42416 1450.92 L6.42416 1434.49 Q6.42416 1427.14 9.4797 1423.16 Q12.5352 1419.18 18.1689 1419.18 Q22.5294 1419.18 25.1075 1421.22 Q27.6856 1423.26 28.3222 1427.2 Q29.3407 1422.46 32.5872 1419.85 Q35.8019 1417.21 40.6398 1417.21 Q47.0055 1417.21 50.4748 1421.54 Q53.9442 1425.87 53.9442 1433.86 L53.9442 1450.92 L6.42416 1450.92 Z\" fill=\"#000000\" fill-rule=\"nonzero\" fill-opacity=\"1\" /><path clip-path=\"url(#clip350)\" d=\"M18.2962 1406.45 L18.2962 1400.59 L53.9442 1400.59 L53.9442 1406.45 L18.2962 1406.45 M4.41896 1406.45 L4.41896 1400.59 L11.835 1400.59 L11.835 1406.45 L4.41896 1406.45 Z\" fill=\"#000000\" fill-rule=\"nonzero\" fill-opacity=\"1\" /><path clip-path=\"url(#clip350)\" d=\"M32.4281 1358.71 L53.9442 1358.71 L53.9442 1364.56 L32.619 1364.56 Q27.5583 1364.56 25.0438 1366.54 Q22.5294 1368.51 22.5294 1372.46 Q22.5294 1377.2 25.5531 1379.94 Q28.5768 1382.68 33.7967 1382.68 L53.9442 1382.68 L53.9442 1388.56 L18.2962 1388.56 L18.2962 1382.68 L23.8344 1382.68 Q20.6197 1380.57 19.0283 1377.74 Q17.4368 1374.88 17.4368 1371.15 Q17.4368 1365.01 21.2563 1361.86 Q25.0438 1358.71 32.4281 1358.71 Z\" fill=\"#000000\" fill-rule=\"nonzero\" fill-opacity=\"1\" /><path clip-path=\"url(#clip350)\" d=\"M23.7071 1323.57 L4.41896 1323.57 L4.41896 1317.71 L53.9442 1317.71 L53.9442 1323.57 L48.597 1323.57 Q51.7798 1325.42 53.3394 1328.25 Q54.8672 1331.05 54.8672 1335 Q54.8672 1341.46 49.711 1345.53 Q44.5547 1349.57 36.152 1349.57 Q27.7493 1349.57 22.5931 1345.53 Q17.4368 1341.46 17.4368 1335 Q17.4368 1331.05 18.9964 1328.25 Q20.5242 1325.42 23.7071 1323.57 M36.152 1343.53 Q42.6132 1343.53 46.3053 1340.88 Q49.9656 1338.21 49.9656 1333.56 Q49.9656 1328.92 46.3053 1326.24 Q42.6132 1323.57 36.152 1323.57 Q29.6908 1323.57 26.0305 1326.24 Q22.3384 1328.92 22.3384 1333.56 Q22.3384 1338.21 26.0305 1340.88 Q29.6908 1343.53 36.152 1343.53 Z\" fill=\"#000000\" fill-rule=\"nonzero\" fill-opacity=\"1\" /><path clip-path=\"url(#clip350)\" d=\"M34.6561 1275.16 L37.5206 1275.16 L37.5206 1302.09 Q43.5681 1301.7 46.7509 1298.46 Q49.9019 1295.18 49.9019 1289.35 Q49.9019 1285.98 49.0744 1282.83 Q48.2469 1279.65 46.5918 1276.53 L52.1299 1276.53 Q53.4667 1279.68 54.167 1282.99 Q54.8672 1286.3 54.8672 1289.7 Q54.8672 1298.23 49.9019 1303.23 Q44.9367 1308.2 36.4703 1308.2 Q27.7174 1308.2 22.5931 1303.49 Q17.4368 1298.74 17.4368 1290.72 Q17.4368 1283.53 22.0838 1279.36 Q26.6989 1275.16 34.6561 1275.16 M32.9373 1281.02 Q28.1312 1281.08 25.2666 1283.72 Q22.4021 1286.33 22.4021 1290.66 Q22.4021 1295.56 25.1712 1298.52 Q27.9402 1301.45 32.9692 1301.89 L32.9373 1281.02 Z\" fill=\"#000000\" fill-rule=\"nonzero\" fill-opacity=\"1\" /><path clip-path=\"url(#clip350)\" d=\"M23.7707 1244.89 Q23.1978 1245.88 22.9432 1247.05 Q22.6567 1248.2 22.6567 1249.6 Q22.6567 1254.57 25.9032 1257.24 Q29.1179 1259.88 35.1653 1259.88 L53.9442 1259.88 L53.9442 1265.77 L18.2962 1265.77 L18.2962 1259.88 L23.8344 1259.88 Q20.5879 1258.03 19.0283 1255.07 Q17.4368 1252.11 17.4368 1247.88 Q17.4368 1247.28 17.5323 1246.54 Q17.596 1245.81 17.7551 1244.92 L23.7707 1244.89 Z\" fill=\"#000000\" fill-rule=\"nonzero\" fill-opacity=\"1\" /><path clip-path=\"url(#clip350)\" d=\"M11.7077 1211.34 L29.5635 1211.34 L29.5635 1203.26 Q29.5635 1198.77 27.24 1196.32 Q24.9165 1193.87 20.6197 1193.87 Q16.3547 1193.87 14.0312 1196.32 Q11.7077 1198.77 11.7077 1203.26 L11.7077 1211.34 M6.42416 1217.77 L6.42416 1203.26 Q6.42416 1195.27 10.0526 1191.19 Q13.6492 1187.09 20.6197 1187.09 Q27.6538 1187.09 31.2504 1191.19 Q34.847 1195.27 34.847 1203.26 L34.847 1211.34 L53.9442 1211.34 L53.9442 1217.77 L6.42416 1217.77 Z\" fill=\"#000000\" fill-rule=\"nonzero\" fill-opacity=\"1\" /><path clip-path=\"url(#clip350)\" d=\"M36.0247 1165.45 Q36.0247 1172.54 37.6479 1175.28 Q39.2712 1178.02 43.1861 1178.02 Q46.3053 1178.02 48.1514 1175.98 Q49.9656 1173.91 49.9656 1170.38 Q49.9656 1165.51 46.5281 1162.58 Q43.0588 1159.62 37.3297 1159.62 L36.0247 1159.62 L36.0247 1165.45 M33.6057 1153.76 L53.9442 1153.76 L53.9442 1159.62 L48.5333 1159.62 Q51.7798 1161.63 53.3394 1164.62 Q54.8672 1167.61 54.8672 1171.94 Q54.8672 1177.41 51.8116 1180.66 Q48.7243 1183.87 43.5681 1183.87 Q37.5525 1183.87 34.4969 1179.86 Q31.4414 1175.82 31.4414 1167.83 L31.4414 1159.62 L30.8685 1159.62 Q26.8262 1159.62 24.6301 1162.29 Q22.4021 1164.94 22.4021 1169.74 Q22.4021 1172.8 23.1341 1175.69 Q23.8662 1178.59 25.3303 1181.26 L19.9195 1181.26 Q18.6781 1178.05 18.0734 1175.03 Q17.4368 1172 17.4368 1169.14 Q17.4368 1161.4 21.4472 1157.58 Q25.4576 1153.76 33.6057 1153.76 Z\" fill=\"#000000\" fill-rule=\"nonzero\" fill-opacity=\"1\" /><path clip-path=\"url(#clip350)\" d=\"M23.7707 1121.04 Q23.1978 1122.03 22.9432 1123.21 Q22.6567 1124.35 22.6567 1125.76 Q22.6567 1130.72 25.9032 1133.39 Q29.1179 1136.04 35.1653 1136.04 L53.9442 1136.04 L53.9442 1141.92 L18.2962 1141.92 L18.2962 1136.04 L23.8344 1136.04 Q20.5879 1134.19 19.0283 1131.23 Q17.4368 1128.27 17.4368 1124.04 Q17.4368 1123.43 17.5323 1122.7 Q17.596 1121.97 17.7551 1121.08 L23.7707 1121.04 Z\" fill=\"#000000\" fill-rule=\"nonzero\" fill-opacity=\"1\" /><path clip-path=\"url(#clip350)\" d=\"M36.0247 1098.7 Q36.0247 1105.8 37.6479 1108.54 Q39.2712 1111.27 43.1861 1111.27 Q46.3053 1111.27 48.1514 1109.24 Q49.9656 1107.17 49.9656 1103.63 Q49.9656 1098.76 46.5281 1095.84 Q43.0588 1092.88 37.3297 1092.88 L36.0247 1092.88 L36.0247 1098.7 M33.6057 1087.02 L53.9442 1087.02 L53.9442 1092.88 L48.5333 1092.88 Q51.7798 1094.88 53.3394 1097.87 Q54.8672 1100.87 54.8672 1105.19 Q54.8672 1110.67 51.8116 1113.92 Q48.7243 1117.13 43.5681 1117.13 Q37.5525 1117.13 34.4969 1113.12 Q31.4414 1109.08 31.4414 1101.09 L31.4414 1092.88 L30.8685 1092.88 Q26.8262 1092.88 24.6301 1095.55 Q22.4021 1098.19 22.4021 1103 Q22.4021 1106.05 23.1341 1108.95 Q23.8662 1111.85 25.3303 1114.52 L19.9195 1114.52 Q18.6781 1111.31 18.0734 1108.28 Q17.4368 1105.26 17.4368 1102.39 Q17.4368 1094.66 21.4472 1090.84 Q25.4576 1087.02 33.6057 1087.02 Z\" fill=\"#000000\" fill-rule=\"nonzero\" fill-opacity=\"1\" /><path clip-path=\"url(#clip350)\" d=\"M25.1393 1047.2 Q21.1926 1045.01 19.3147 1041.95 Q17.4368 1038.9 17.4368 1034.76 Q17.4368 1029.19 21.3517 1026.16 Q25.2348 1023.14 32.4281 1023.14 L53.9442 1023.14 L53.9442 1029.03 L32.619 1029.03 Q27.4946 1029.03 25.012 1030.84 Q22.5294 1032.66 22.5294 1036.38 Q22.5294 1040.93 25.5531 1043.57 Q28.5768 1046.22 33.7967 1046.22 L53.9442 1046.22 L53.9442 1052.1 L32.619 1052.1 Q27.4628 1052.1 25.012 1053.92 Q22.5294 1055.73 22.5294 1059.52 Q22.5294 1064.01 25.5849 1066.65 Q28.6086 1069.29 33.7967 1069.29 L53.9442 1069.29 L53.9442 1075.18 L18.2962 1075.18 L18.2962 1069.29 L23.8344 1069.29 Q20.556 1067.29 18.9964 1064.49 Q17.4368 1061.68 17.4368 1057.83 Q17.4368 1053.95 19.4102 1051.24 Q21.3836 1048.51 25.1393 1047.2 Z\" fill=\"#000000\" fill-rule=\"nonzero\" fill-opacity=\"1\" /><path clip-path=\"url(#clip350)\" d=\"M34.6561 980.967 L37.5206 980.967 L37.5206 1007.89 Q43.5681 1007.51 46.7509 1004.27 Q49.9019 1000.99 49.9019 995.163 Q49.9019 991.789 49.0744 988.638 Q48.2469 985.455 46.5918 982.336 L52.1299 982.336 Q53.4667 985.487 54.167 988.797 Q54.8672 992.107 54.8672 995.513 Q54.8672 1004.04 49.9019 1009.04 Q44.9367 1014.01 36.4703 1014.01 Q27.7174 1014.01 22.5931 1009.29 Q17.4368 1004.55 17.4368 996.532 Q17.4368 989.338 22.0838 985.169 Q26.6989 980.967 34.6561 980.967 M32.9373 986.824 Q28.1312 986.888 25.2666 989.529 Q22.4021 992.139 22.4021 996.468 Q22.4021 1001.37 25.1712 1004.33 Q27.9402 1007.26 32.9692 1007.7 L32.9373 986.824 Z\" fill=\"#000000\" fill-rule=\"nonzero\" fill-opacity=\"1\" /><path clip-path=\"url(#clip350)\" d=\"M8.17473 965.562 L18.2962 965.562 L18.2962 953.499 L22.8477 953.499 L22.8477 965.562 L42.1994 965.562 Q46.5599 965.562 47.8013 964.385 Q49.0426 963.175 49.0426 959.515 L49.0426 953.499 L53.9442 953.499 L53.9442 959.515 Q53.9442 966.294 51.4297 968.873 Q48.8834 971.451 42.1994 971.451 L22.8477 971.451 L22.8477 975.748 L18.2962 975.748 L18.2962 971.451 L8.17473 971.451 L8.17473 965.562 Z\" fill=\"#000000\" fill-rule=\"nonzero\" fill-opacity=\"1\" /><path clip-path=\"url(#clip350)\" d=\"M34.6561 915.305 L37.5206 915.305 L37.5206 942.232 Q43.5681 941.85 46.7509 938.604 Q49.9019 935.325 49.9019 929.501 Q49.9019 926.127 49.0744 922.976 Q48.2469 919.793 46.5918 916.674 L52.1299 916.674 Q53.4667 919.825 54.167 923.135 Q54.8672 926.445 54.8672 929.851 Q54.8672 938.381 49.9019 943.378 Q44.9367 948.343 36.4703 948.343 Q27.7174 948.343 22.5931 943.633 Q17.4368 938.89 17.4368 930.869 Q17.4368 923.676 22.0838 919.507 Q26.6989 915.305 34.6561 915.305 M32.9373 921.162 Q28.1312 921.225 25.2666 923.867 Q22.4021 926.477 22.4021 930.806 Q22.4021 935.707 25.1712 938.667 Q27.9402 941.596 32.9692 942.041 L32.9373 921.162 Z\" fill=\"#000000\" fill-rule=\"nonzero\" fill-opacity=\"1\" /><path clip-path=\"url(#clip350)\" d=\"M23.7707 885.036 Q23.1978 886.023 22.9432 887.201 Q22.6567 888.346 22.6567 889.747 Q22.6567 894.712 25.9032 897.386 Q29.1179 900.027 35.1653 900.027 L53.9442 900.027 L53.9442 905.916 L18.2962 905.916 L18.2962 900.027 L23.8344 900.027 Q20.5879 898.181 19.0283 895.221 Q17.4368 892.261 17.4368 888.028 Q17.4368 887.423 17.5323 886.691 Q17.596 885.959 17.7551 885.068 L23.7707 885.036 Z\" fill=\"#000000\" fill-rule=\"nonzero\" fill-opacity=\"1\" /><path clip-path=\"url(#clip350)\" d=\"M1245.51 43.6931 L1245.51 65.8515 L1258.64 65.8515 Q1265.24 65.8515 1268.4 63.1374 Q1271.6 60.3828 1271.6 54.752 Q1271.6 49.0808 1268.4 46.4072 Q1265.24 43.6931 1258.64 43.6931 L1245.51 43.6931 M1245.51 18.8205 L1245.51 37.0496 L1257.63 37.0496 Q1263.62 37.0496 1266.54 34.8216 Q1269.5 32.5531 1269.5 27.935 Q1269.5 23.3575 1266.54 21.089 Q1263.62 18.8205 1257.63 18.8205 L1245.51 18.8205 M1237.33 12.096 L1258.23 12.096 Q1267.59 12.096 1272.66 15.9849 Q1277.72 19.8737 1277.72 27.0438 Q1277.72 32.5936 1275.13 35.8748 Q1272.53 39.156 1267.51 39.9662 Q1273.55 41.2625 1276.87 45.3944 Q1280.23 49.4858 1280.23 55.6432 Q1280.23 63.745 1274.72 68.1605 Q1269.21 72.576 1259.04 72.576 L1237.33 72.576 L1237.33 12.096 Z\" fill=\"#000000\" fill-rule=\"nonzero\" fill-opacity=\"1\" /><path clip-path=\"url(#clip350)\" d=\"M1293.92 27.2059 L1301.38 27.2059 L1301.38 72.576 L1293.92 72.576 L1293.92 27.2059 M1293.92 9.54393 L1301.38 9.54393 L1301.38 18.9825 L1293.92 18.9825 L1293.92 9.54393 Z\" fill=\"#000000\" fill-rule=\"nonzero\" fill-opacity=\"1\" /><path clip-path=\"url(#clip350)\" d=\"M1354.69 45.1919 L1354.69 72.576 L1347.23 72.576 L1347.23 45.4349 Q1347.23 38.994 1344.72 35.7938 Q1342.21 32.5936 1337.19 32.5936 Q1331.15 32.5936 1327.67 36.4419 Q1324.18 40.2903 1324.18 46.9338 L1324.18 72.576 L1316.69 72.576 L1316.69 27.2059 L1324.18 27.2059 L1324.18 34.2544 Q1326.86 30.163 1330.46 28.1376 Q1334.11 26.1121 1338.85 26.1121 Q1346.67 26.1121 1350.68 30.9732 Q1354.69 35.7938 1354.69 45.1919 Z\" fill=\"#000000\" fill-rule=\"nonzero\" fill-opacity=\"1\" /><path clip-path=\"url(#clip350)\" d=\"M1399.41 34.0924 L1399.41 9.54393 L1406.86 9.54393 L1406.86 72.576 L1399.41 72.576 L1399.41 65.7705 Q1397.06 69.8214 1393.45 71.8063 Q1389.89 73.7508 1384.87 73.7508 Q1376.64 73.7508 1371.46 67.1883 Q1366.31 60.6258 1366.31 49.9314 Q1366.31 39.2371 1371.46 32.6746 Q1376.64 26.1121 1384.87 26.1121 Q1389.89 26.1121 1393.45 28.0971 Q1397.06 30.0415 1399.41 34.0924 M1374.01 49.9314 Q1374.01 58.1548 1377.37 62.8538 Q1380.77 67.5124 1386.69 67.5124 Q1392.6 67.5124 1396.01 62.8538 Q1399.41 58.1548 1399.41 49.9314 Q1399.41 41.7081 1396.01 37.0496 Q1392.6 32.3505 1386.69 32.3505 Q1380.77 32.3505 1377.37 37.0496 Q1374.01 41.7081 1374.01 49.9314 Z\" fill=\"#000000\" fill-rule=\"nonzero\" fill-opacity=\"1\" /><path clip-path=\"url(#clip350)\" d=\"M1461.02 48.0275 L1461.02 51.6733 L1426.75 51.6733 Q1427.24 59.3701 1431.37 63.421 Q1435.54 67.4314 1442.96 67.4314 Q1447.25 67.4314 1451.26 66.3781 Q1455.31 65.3249 1459.28 63.2184 L1459.28 70.267 Q1455.27 71.9684 1451.06 72.8596 Q1446.84 73.7508 1442.51 73.7508 Q1431.65 73.7508 1425.29 67.4314 Q1418.97 61.1119 1418.97 50.3365 Q1418.97 39.1965 1424.97 32.6746 Q1431.01 26.1121 1441.21 26.1121 Q1450.37 26.1121 1455.68 32.0264 Q1461.02 37.9003 1461.02 48.0275 M1453.57 45.84 Q1453.49 39.7232 1450.13 36.0774 Q1446.8 32.4315 1441.29 32.4315 Q1435.06 32.4315 1431.29 35.9558 Q1427.56 39.4801 1426.99 45.8805 L1453.57 45.84 Z\" fill=\"#000000\" fill-rule=\"nonzero\" fill-opacity=\"1\" /><path clip-path=\"url(#clip350)\" d=\"M1499.55 34.1734 Q1498.29 33.4443 1496.79 33.1202 Q1495.33 32.7556 1493.55 32.7556 Q1487.23 32.7556 1483.83 36.8875 Q1480.47 40.9789 1480.47 48.6757 L1480.47 72.576 L1472.97 72.576 L1472.97 27.2059 L1480.47 27.2059 L1480.47 34.2544 Q1482.82 30.1225 1486.58 28.1376 Q1490.35 26.1121 1495.74 26.1121 Q1496.51 26.1121 1497.44 26.2337 Q1498.37 26.3147 1499.51 26.5172 L1499.55 34.1734 Z\" fill=\"#000000\" fill-rule=\"nonzero\" fill-opacity=\"1\" /><path clip-path=\"url(#clip350)\" d=\"M1542.24 18.8205 L1542.24 41.5461 L1552.53 41.5461 Q1558.24 41.5461 1561.36 38.5889 Q1564.48 35.6318 1564.48 30.163 Q1564.48 24.7348 1561.36 21.7777 Q1558.24 18.8205 1552.53 18.8205 L1542.24 18.8205 M1534.06 12.096 L1552.53 12.096 Q1562.7 12.096 1567.89 16.714 Q1573.11 21.2916 1573.11 30.163 Q1573.11 39.1155 1567.89 43.6931 Q1562.7 48.2706 1552.53 48.2706 L1542.24 48.2706 L1542.24 72.576 L1534.06 72.576 L1534.06 12.096 Z\" fill=\"#000000\" fill-rule=\"nonzero\" fill-opacity=\"1\" /><path clip-path=\"url(#clip350)\" d=\"M1600.66 49.7694 Q1591.62 49.7694 1588.14 51.8354 Q1584.66 53.9013 1584.66 58.8839 Q1584.66 62.8538 1587.25 65.2034 Q1589.88 67.5124 1594.38 67.5124 Q1600.58 67.5124 1604.3 63.1374 Q1608.07 58.7219 1608.07 51.4303 L1608.07 49.7694 L1600.66 49.7694 M1615.52 46.6907 L1615.52 72.576 L1608.07 72.576 L1608.07 65.6895 Q1605.52 69.8214 1601.71 71.8063 Q1597.9 73.7508 1592.39 73.7508 Q1585.43 73.7508 1581.29 69.8619 Q1577.2 65.9325 1577.2 59.3701 Q1577.2 51.7138 1582.31 47.825 Q1587.45 43.9361 1597.62 43.9361 L1608.07 43.9361 L1608.07 43.2069 Q1608.07 38.0623 1604.67 35.2672 Q1601.31 32.4315 1595.19 32.4315 Q1591.3 32.4315 1587.61 33.3632 Q1583.93 34.295 1580.52 36.1584 L1580.52 29.2718 Q1584.62 27.692 1588.46 26.9223 Q1592.31 26.1121 1595.96 26.1121 Q1605.8 26.1121 1610.66 31.2163 Q1615.52 36.3204 1615.52 46.6907 Z\" fill=\"#000000\" fill-rule=\"nonzero\" fill-opacity=\"1\" /><path clip-path=\"url(#clip350)\" d=\"M1657.17 34.1734 Q1655.91 33.4443 1654.41 33.1202 Q1652.95 32.7556 1651.17 32.7556 Q1644.85 32.7556 1641.45 36.8875 Q1638.09 40.9789 1638.09 48.6757 L1638.09 72.576 L1630.59 72.576 L1630.59 27.2059 L1638.09 27.2059 L1638.09 34.2544 Q1640.44 30.1225 1644.2 28.1376 Q1647.97 26.1121 1653.36 26.1121 Q1654.13 26.1121 1655.06 26.2337 Q1655.99 26.3147 1657.13 26.5172 L1657.17 34.1734 Z\" fill=\"#000000\" fill-rule=\"nonzero\" fill-opacity=\"1\" /><path clip-path=\"url(#clip350)\" d=\"M1685.6 49.7694 Q1676.57 49.7694 1673.09 51.8354 Q1669.6 53.9013 1669.6 58.8839 Q1669.6 62.8538 1672.2 65.2034 Q1674.83 67.5124 1679.33 67.5124 Q1685.52 67.5124 1689.25 63.1374 Q1693.02 58.7219 1693.02 51.4303 L1693.02 49.7694 L1685.6 49.7694 M1700.47 46.6907 L1700.47 72.576 L1693.02 72.576 L1693.02 65.6895 Q1690.47 69.8214 1686.66 71.8063 Q1682.85 73.7508 1677.34 73.7508 Q1670.37 73.7508 1666.24 69.8619 Q1662.15 65.9325 1662.15 59.3701 Q1662.15 51.7138 1667.25 47.825 Q1672.4 43.9361 1682.57 43.9361 L1693.02 43.9361 L1693.02 43.2069 Q1693.02 38.0623 1689.62 35.2672 Q1686.25 32.4315 1680.14 32.4315 Q1676.25 32.4315 1672.56 33.3632 Q1668.87 34.295 1665.47 36.1584 L1665.47 29.2718 Q1669.56 27.692 1673.41 26.9223 Q1677.26 26.1121 1680.91 26.1121 Q1690.75 26.1121 1695.61 31.2163 Q1700.47 36.3204 1700.47 46.6907 Z\" fill=\"#000000\" fill-rule=\"nonzero\" fill-opacity=\"1\" /><path clip-path=\"url(#clip350)\" d=\"M1751.15 35.9153 Q1753.94 30.8922 1757.83 28.5022 Q1761.72 26.1121 1766.99 26.1121 Q1774.08 26.1121 1777.92 31.0947 Q1781.77 36.0368 1781.77 45.1919 L1781.77 72.576 L1774.28 72.576 L1774.28 45.4349 Q1774.28 38.913 1771.97 35.7533 Q1769.66 32.5936 1764.92 32.5936 Q1759.13 32.5936 1755.77 36.4419 Q1752.4 40.2903 1752.4 46.9338 L1752.4 72.576 L1744.91 72.576 L1744.91 45.4349 Q1744.91 38.8725 1742.6 35.7533 Q1740.29 32.5936 1735.47 32.5936 Q1729.76 32.5936 1726.4 36.4824 Q1723.03 40.3308 1723.03 46.9338 L1723.03 72.576 L1715.54 72.576 L1715.54 27.2059 L1723.03 27.2059 L1723.03 34.2544 Q1725.59 30.082 1729.15 28.0971 Q1732.72 26.1121 1737.62 26.1121 Q1742.56 26.1121 1746 28.6237 Q1749.49 31.1352 1751.15 35.9153 Z\" fill=\"#000000\" fill-rule=\"nonzero\" fill-opacity=\"1\" /><path clip-path=\"url(#clip350)\" d=\"M1835.45 48.0275 L1835.45 51.6733 L1801.18 51.6733 Q1801.66 59.3701 1805.79 63.421 Q1809.97 67.4314 1817.38 67.4314 Q1821.67 67.4314 1825.68 66.3781 Q1829.74 65.3249 1833.71 63.2184 L1833.71 70.267 Q1829.7 71.9684 1825.48 72.8596 Q1821.27 73.7508 1816.93 73.7508 Q1806.08 73.7508 1799.72 67.4314 Q1793.4 61.1119 1793.4 50.3365 Q1793.4 39.1965 1799.39 32.6746 Q1805.43 26.1121 1815.64 26.1121 Q1824.79 26.1121 1830.1 32.0264 Q1835.45 37.9003 1835.45 48.0275 M1827.99 45.84 Q1827.91 39.7232 1824.55 36.0774 Q1821.23 32.4315 1815.72 32.4315 Q1809.48 32.4315 1805.71 35.9558 Q1801.99 39.4801 1801.42 45.8805 L1827.99 45.84 Z\" fill=\"#000000\" fill-rule=\"nonzero\" fill-opacity=\"1\" /><path clip-path=\"url(#clip350)\" d=\"M1855.05 14.324 L1855.05 27.2059 L1870.41 27.2059 L1870.41 32.9987 L1855.05 32.9987 L1855.05 57.6282 Q1855.05 63.1779 1856.55 64.7578 Q1858.09 66.3376 1862.75 66.3376 L1870.41 66.3376 L1870.41 72.576 L1862.75 72.576 Q1854.12 72.576 1850.84 69.3758 Q1847.56 66.1351 1847.56 57.6282 L1847.56 32.9987 L1842.09 32.9987 L1842.09 27.2059 L1847.56 27.2059 L1847.56 14.324 L1855.05 14.324 Z\" fill=\"#000000\" fill-rule=\"nonzero\" fill-opacity=\"1\" /><path clip-path=\"url(#clip350)\" d=\"M1919.02 48.0275 L1919.02 51.6733 L1884.75 51.6733 Q1885.23 59.3701 1889.37 63.421 Q1893.54 67.4314 1900.95 67.4314 Q1905.24 67.4314 1909.26 66.3781 Q1913.31 65.3249 1917.28 63.2184 L1917.28 70.267 Q1913.27 71.9684 1909.05 72.8596 Q1904.84 73.7508 1900.51 73.7508 Q1889.65 73.7508 1883.29 67.4314 Q1876.97 61.1119 1876.97 50.3365 Q1876.97 39.1965 1882.96 32.6746 Q1889 26.1121 1899.21 26.1121 Q1908.36 26.1121 1913.67 32.0264 Q1919.02 37.9003 1919.02 48.0275 M1911.56 45.84 Q1911.48 39.7232 1908.12 36.0774 Q1904.8 32.4315 1899.29 32.4315 Q1893.05 32.4315 1889.28 35.9558 Q1885.56 39.4801 1884.99 45.8805 L1911.56 45.84 Z\" fill=\"#000000\" fill-rule=\"nonzero\" fill-opacity=\"1\" /><path clip-path=\"url(#clip350)\" d=\"M1957.54 34.1734 Q1956.29 33.4443 1954.79 33.1202 Q1953.33 32.7556 1951.55 32.7556 Q1945.23 32.7556 1941.82 36.8875 Q1938.46 40.9789 1938.46 48.6757 L1938.46 72.576 L1930.97 72.576 L1930.97 27.2059 L1938.46 27.2059 L1938.46 34.2544 Q1940.81 30.1225 1944.58 28.1376 Q1948.35 26.1121 1953.73 26.1121 Q1954.5 26.1121 1955.44 26.2337 Q1956.37 26.3147 1957.5 26.5172 L1957.54 34.1734 Z\" fill=\"#000000\" fill-rule=\"nonzero\" fill-opacity=\"1\" /><path clip-path=\"url(#clip350)\" d=\"M1986.38 27.2059 L1994.28 27.2059 L2008.46 65.2844 L2022.64 27.2059 L2030.54 27.2059 L2013.53 72.576 L2003.4 72.576 L1986.38 27.2059 Z\" fill=\"#000000\" fill-rule=\"nonzero\" fill-opacity=\"1\" /><path clip-path=\"url(#clip350)\" d=\"M2069.75 28.5427 L2069.75 35.5912 Q2066.59 33.9709 2063.19 33.1607 Q2059.79 32.3505 2056.14 32.3505 Q2050.59 32.3505 2047.8 34.0519 Q2045.04 35.7533 2045.04 39.156 Q2045.04 41.7486 2047.03 43.2475 Q2049.01 44.7058 2055.01 46.0426 L2057.56 46.6097 Q2065.5 48.3111 2068.82 51.4303 Q2072.18 54.509 2072.18 60.0587 Q2072.18 66.3781 2067.16 70.0644 Q2062.18 73.7508 2053.43 73.7508 Q2049.78 73.7508 2045.81 73.0216 Q2041.88 72.3329 2037.51 70.9151 L2037.51 63.2184 Q2041.64 65.3654 2045.65 66.4591 Q2049.66 67.5124 2053.59 67.5124 Q2058.85 67.5124 2061.69 65.73 Q2064.53 63.9071 2064.53 60.6258 Q2064.53 57.5877 2062.46 55.9673 Q2060.43 54.3469 2053.51 52.8481 L2050.92 52.2405 Q2043.99 50.7821 2040.91 47.7845 Q2037.83 44.7463 2037.83 39.4801 Q2037.83 33.0797 2042.37 29.5959 Q2046.9 26.1121 2055.25 26.1121 Q2059.38 26.1121 2063.03 26.7198 Q2066.67 27.3274 2069.75 28.5427 Z\" fill=\"#000000\" fill-rule=\"nonzero\" fill-opacity=\"1\" /><path clip-path=\"url(#clip350)\" d=\"M2128.29 16.633 L2149.23 72.576 L2141.33 72.576 L2128.61 39.0345 L2112.98 72.576 L2105.08 72.576 L2124.97 29.0693 L2121.97 21.0485 Q2120.06 15.9444 2115.73 15.9444 L2111.84 15.9444 L2111.84 9.54393 L2116.58 9.62495 Q2125.74 9.74648 2128.29 16.633 Z\" fill=\"#000000\" fill-rule=\"nonzero\" fill-opacity=\"1\" /><polyline clip-path=\"url(#clip352)\" style=\"stroke:#008000; stroke-linecap:round; stroke-linejoin:round; stroke-width:8; stroke-opacity:1; fill:none\" points=\"316.418,236.679 1004.85,490.879 1349.07,685.505 1693.28,983.439 2037.5,1193.25 2381.71,1469.8 3070.14,1885.33 \"/>\n",
       "<circle clip-path=\"url(#clip352)\" cx=\"316.418\" cy=\"236.679\" r=\"14.4\" fill=\"#008000\" fill-rule=\"evenodd\" fill-opacity=\"1\" stroke=\"#000000\" stroke-opacity=\"1\" stroke-width=\"4.8\"/>\n",
       "<circle clip-path=\"url(#clip352)\" cx=\"1004.85\" cy=\"490.879\" r=\"14.4\" fill=\"#008000\" fill-rule=\"evenodd\" fill-opacity=\"1\" stroke=\"#000000\" stroke-opacity=\"1\" stroke-width=\"4.8\"/>\n",
       "<circle clip-path=\"url(#clip352)\" cx=\"1349.07\" cy=\"685.505\" r=\"14.4\" fill=\"#008000\" fill-rule=\"evenodd\" fill-opacity=\"1\" stroke=\"#000000\" stroke-opacity=\"1\" stroke-width=\"4.8\"/>\n",
       "<circle clip-path=\"url(#clip352)\" cx=\"1693.28\" cy=\"983.439\" r=\"14.4\" fill=\"#008000\" fill-rule=\"evenodd\" fill-opacity=\"1\" stroke=\"#000000\" stroke-opacity=\"1\" stroke-width=\"4.8\"/>\n",
       "<circle clip-path=\"url(#clip352)\" cx=\"2037.5\" cy=\"1193.25\" r=\"14.4\" fill=\"#008000\" fill-rule=\"evenodd\" fill-opacity=\"1\" stroke=\"#000000\" stroke-opacity=\"1\" stroke-width=\"4.8\"/>\n",
       "<circle clip-path=\"url(#clip352)\" cx=\"2381.71\" cy=\"1469.8\" r=\"14.4\" fill=\"#008000\" fill-rule=\"evenodd\" fill-opacity=\"1\" stroke=\"#000000\" stroke-opacity=\"1\" stroke-width=\"4.8\"/>\n",
       "<circle clip-path=\"url(#clip352)\" cx=\"3070.14\" cy=\"1885.33\" r=\"14.4\" fill=\"#008000\" fill-rule=\"evenodd\" fill-opacity=\"1\" stroke=\"#000000\" stroke-opacity=\"1\" stroke-width=\"4.8\"/>\n",
       "<polyline clip-path=\"url(#clip352)\" style=\"stroke:#800080; stroke-linecap:round; stroke-linejoin:round; stroke-width:8; stroke-opacity:1; fill:none\" points=\"316.418,189.727 1004.85,445.634 1349.07,719.971 1693.28,949.618 2037.5,1275.55 2381.71,1577.86 3070.14,2025.78 \"/>\n",
       "<circle clip-path=\"url(#clip352)\" cx=\"316.418\" cy=\"189.727\" r=\"14.4\" fill=\"#800080\" fill-rule=\"evenodd\" fill-opacity=\"1\" stroke=\"#000000\" stroke-opacity=\"1\" stroke-width=\"4.8\"/>\n",
       "<circle clip-path=\"url(#clip352)\" cx=\"1004.85\" cy=\"445.634\" r=\"14.4\" fill=\"#800080\" fill-rule=\"evenodd\" fill-opacity=\"1\" stroke=\"#000000\" stroke-opacity=\"1\" stroke-width=\"4.8\"/>\n",
       "<circle clip-path=\"url(#clip352)\" cx=\"1349.07\" cy=\"719.971\" r=\"14.4\" fill=\"#800080\" fill-rule=\"evenodd\" fill-opacity=\"1\" stroke=\"#000000\" stroke-opacity=\"1\" stroke-width=\"4.8\"/>\n",
       "<circle clip-path=\"url(#clip352)\" cx=\"1693.28\" cy=\"949.618\" r=\"14.4\" fill=\"#800080\" fill-rule=\"evenodd\" fill-opacity=\"1\" stroke=\"#000000\" stroke-opacity=\"1\" stroke-width=\"4.8\"/>\n",
       "<circle clip-path=\"url(#clip352)\" cx=\"2037.5\" cy=\"1275.55\" r=\"14.4\" fill=\"#800080\" fill-rule=\"evenodd\" fill-opacity=\"1\" stroke=\"#000000\" stroke-opacity=\"1\" stroke-width=\"4.8\"/>\n",
       "<circle clip-path=\"url(#clip352)\" cx=\"2381.71\" cy=\"1577.86\" r=\"14.4\" fill=\"#800080\" fill-rule=\"evenodd\" fill-opacity=\"1\" stroke=\"#000000\" stroke-opacity=\"1\" stroke-width=\"4.8\"/>\n",
       "<circle clip-path=\"url(#clip352)\" cx=\"3070.14\" cy=\"2025.78\" r=\"14.4\" fill=\"#800080\" fill-rule=\"evenodd\" fill-opacity=\"1\" stroke=\"#000000\" stroke-opacity=\"1\" stroke-width=\"4.8\"/>\n",
       "<polyline clip-path=\"url(#clip352)\" style=\"stroke:#ffa500; stroke-linecap:round; stroke-linejoin:round; stroke-width:8; stroke-opacity:1; fill:none\" points=\"316.418,193.836 1004.85,497.347 1349.07,774.699 1693.28,1005.68 2037.5,1386.93 2381.71,1697.78 3070.14,2146.22 \"/>\n",
       "<circle clip-path=\"url(#clip352)\" cx=\"316.418\" cy=\"193.836\" r=\"14.4\" fill=\"#ffa500\" fill-rule=\"evenodd\" fill-opacity=\"1\" stroke=\"#000000\" stroke-opacity=\"1\" stroke-width=\"4.8\"/>\n",
       "<circle clip-path=\"url(#clip352)\" cx=\"1004.85\" cy=\"497.347\" r=\"14.4\" fill=\"#ffa500\" fill-rule=\"evenodd\" fill-opacity=\"1\" stroke=\"#000000\" stroke-opacity=\"1\" stroke-width=\"4.8\"/>\n",
       "<circle clip-path=\"url(#clip352)\" cx=\"1349.07\" cy=\"774.699\" r=\"14.4\" fill=\"#ffa500\" fill-rule=\"evenodd\" fill-opacity=\"1\" stroke=\"#000000\" stroke-opacity=\"1\" stroke-width=\"4.8\"/>\n",
       "<circle clip-path=\"url(#clip352)\" cx=\"1693.28\" cy=\"1005.68\" r=\"14.4\" fill=\"#ffa500\" fill-rule=\"evenodd\" fill-opacity=\"1\" stroke=\"#000000\" stroke-opacity=\"1\" stroke-width=\"4.8\"/>\n",
       "<circle clip-path=\"url(#clip352)\" cx=\"2037.5\" cy=\"1386.93\" r=\"14.4\" fill=\"#ffa500\" fill-rule=\"evenodd\" fill-opacity=\"1\" stroke=\"#000000\" stroke-opacity=\"1\" stroke-width=\"4.8\"/>\n",
       "<circle clip-path=\"url(#clip352)\" cx=\"2381.71\" cy=\"1697.78\" r=\"14.4\" fill=\"#ffa500\" fill-rule=\"evenodd\" fill-opacity=\"1\" stroke=\"#000000\" stroke-opacity=\"1\" stroke-width=\"4.8\"/>\n",
       "<circle clip-path=\"url(#clip352)\" cx=\"3070.14\" cy=\"2146.22\" r=\"14.4\" fill=\"#ffa500\" fill-rule=\"evenodd\" fill-opacity=\"1\" stroke=\"#000000\" stroke-opacity=\"1\" stroke-width=\"4.8\"/>\n",
       "<path clip-path=\"url(#clip350)\" d=\"M2614.77 407.522 L3055.46 407.522 L3055.46 200.162 L2614.77 200.162  Z\" fill=\"#ffffff\" fill-rule=\"evenodd\" fill-opacity=\"1\"/>\n",
       "<polyline clip-path=\"url(#clip350)\" style=\"stroke:#000000; stroke-linecap:round; stroke-linejoin:round; stroke-width:4; stroke-opacity:1; fill:none\" points=\"2614.77,407.522 3055.46,407.522 3055.46,200.162 2614.77,200.162 2614.77,407.522 \"/>\n",
       "<polyline clip-path=\"url(#clip350)\" style=\"stroke:#008000; stroke-linecap:round; stroke-linejoin:round; stroke-width:8; stroke-opacity:1; fill:none\" points=\"2647.2,252.002 2841.8,252.002 \"/>\n",
       "<circle clip-path=\"url(#clip350)\" cx=\"2744.5\" cy=\"252.002\" r=\"20.48\" fill=\"#008000\" fill-rule=\"evenodd\" fill-opacity=\"1\" stroke=\"#000000\" stroke-opacity=\"1\" stroke-width=\"6.82667\"/>\n",
       "<path clip-path=\"url(#clip350)\" d=\"M2874.23 234.722 L2878.91 234.722 L2878.91 265.347 L2895.73 265.347 L2895.73 269.282 L2874.23 269.282 L2874.23 234.722 Z\" fill=\"#000000\" fill-rule=\"nonzero\" fill-opacity=\"1\" /><path clip-path=\"url(#clip350)\" d=\"M2916.08 247.754 L2945.76 247.754 L2945.76 251.643 L2916.08 251.643 L2916.08 247.754 M2916.08 257.198 L2945.76 257.198 L2945.76 261.134 L2916.08 261.134 L2916.08 257.198 Z\" fill=\"#000000\" fill-rule=\"nonzero\" fill-opacity=\"1\" /><path clip-path=\"url(#clip350)\" d=\"M2980.92 252.87 Q2977.59 252.87 2975.66 254.652 Q2973.77 256.435 2973.77 259.56 Q2973.77 262.685 2975.66 264.467 Q2977.59 266.249 2980.92 266.249 Q2984.25 266.249 2986.17 264.467 Q2988.09 262.661 2988.09 259.56 Q2988.09 256.435 2986.17 254.652 Q2984.28 252.87 2980.92 252.87 M2976.24 250.879 Q2973.23 250.138 2971.54 248.078 Q2969.88 246.018 2969.88 243.055 Q2969.88 238.912 2972.82 236.504 Q2975.78 234.097 2980.92 234.097 Q2986.08 234.097 2989.02 236.504 Q2991.96 238.912 2991.96 243.055 Q2991.96 246.018 2990.27 248.078 Q2988.6 250.138 2985.62 250.879 Q2989 251.666 2990.87 253.958 Q2992.77 256.249 2992.77 259.56 Q2992.77 264.583 2989.69 267.268 Q2986.64 269.953 2980.92 269.953 Q2975.2 269.953 2972.12 267.268 Q2969.07 264.583 2969.07 259.56 Q2969.07 256.249 2970.96 253.958 Q2972.86 251.666 2976.24 250.879 M2974.53 243.495 Q2974.53 246.18 2976.2 247.685 Q2977.89 249.189 2980.92 249.189 Q2983.93 249.189 2985.62 247.685 Q2987.33 246.18 2987.33 243.495 Q2987.33 240.81 2985.62 239.305 Q2983.93 237.8 2980.92 237.8 Q2977.89 237.8 2976.2 239.305 Q2974.53 240.81 2974.53 243.495 Z\" fill=\"#000000\" fill-rule=\"nonzero\" fill-opacity=\"1\" /><polyline clip-path=\"url(#clip350)\" style=\"stroke:#800080; stroke-linecap:round; stroke-linejoin:round; stroke-width:8; stroke-opacity:1; fill:none\" points=\"2647.2,303.842 2841.8,303.842 \"/>\n",
       "<circle clip-path=\"url(#clip350)\" cx=\"2744.5\" cy=\"303.842\" r=\"20.48\" fill=\"#800080\" fill-rule=\"evenodd\" fill-opacity=\"1\" stroke=\"#000000\" stroke-opacity=\"1\" stroke-width=\"6.82667\"/>\n",
       "<path clip-path=\"url(#clip350)\" d=\"M2874.23 286.562 L2878.91 286.562 L2878.91 317.187 L2895.73 317.187 L2895.73 321.122 L2874.23 321.122 L2874.23 286.562 Z\" fill=\"#000000\" fill-rule=\"nonzero\" fill-opacity=\"1\" /><path clip-path=\"url(#clip350)\" d=\"M2916.08 299.594 L2945.76 299.594 L2945.76 303.483 L2916.08 303.483 L2916.08 299.594 M2916.08 309.038 L2945.76 309.038 L2945.76 312.974 L2916.08 312.974 L2916.08 309.038 Z\" fill=\"#000000\" fill-rule=\"nonzero\" fill-opacity=\"1\" /><path clip-path=\"url(#clip350)\" d=\"M2971.73 317.187 L2979.37 317.187 L2979.37 290.821 L2971.06 292.488 L2971.06 288.228 L2979.32 286.562 L2984 286.562 L2984 317.187 L2991.64 317.187 L2991.64 321.122 L2971.73 321.122 L2971.73 317.187 Z\" fill=\"#000000\" fill-rule=\"nonzero\" fill-opacity=\"1\" /><path clip-path=\"url(#clip350)\" d=\"M3011.08 289.64 Q3007.47 289.64 3005.64 293.205 Q3003.84 296.747 3003.84 303.876 Q3003.84 310.983 3005.64 314.548 Q3007.47 318.089 3011.08 318.089 Q3014.71 318.089 3016.52 314.548 Q3018.35 310.983 3018.35 303.876 Q3018.35 296.747 3016.52 293.205 Q3014.71 289.64 3011.08 289.64 M3011.08 285.937 Q3016.89 285.937 3019.95 290.543 Q3023.02 295.126 3023.02 303.876 Q3023.02 312.603 3019.95 317.21 Q3016.89 321.793 3011.08 321.793 Q3005.27 321.793 3002.19 317.21 Q2999.14 312.603 2999.14 303.876 Q2999.14 295.126 3002.19 290.543 Q3005.27 285.937 3011.08 285.937 Z\" fill=\"#000000\" fill-rule=\"nonzero\" fill-opacity=\"1\" /><polyline clip-path=\"url(#clip350)\" style=\"stroke:#ffa500; stroke-linecap:round; stroke-linejoin:round; stroke-width:8; stroke-opacity:1; fill:none\" points=\"2647.2,355.682 2841.8,355.682 \"/>\n",
       "<circle clip-path=\"url(#clip350)\" cx=\"2744.5\" cy=\"355.682\" r=\"20.48\" fill=\"#ffa500\" fill-rule=\"evenodd\" fill-opacity=\"1\" stroke=\"#000000\" stroke-opacity=\"1\" stroke-width=\"6.82667\"/>\n",
       "<path clip-path=\"url(#clip350)\" d=\"M2874.23 338.402 L2878.91 338.402 L2878.91 369.027 L2895.73 369.027 L2895.73 372.962 L2874.23 372.962 L2874.23 338.402 Z\" fill=\"#000000\" fill-rule=\"nonzero\" fill-opacity=\"1\" /><path clip-path=\"url(#clip350)\" d=\"M2916.08 351.434 L2945.76 351.434 L2945.76 355.323 L2916.08 355.323 L2916.08 351.434 M2916.08 360.878 L2945.76 360.878 L2945.76 364.814 L2916.08 364.814 L2916.08 360.878 Z\" fill=\"#000000\" fill-rule=\"nonzero\" fill-opacity=\"1\" /><path clip-path=\"url(#clip350)\" d=\"M2971.73 369.027 L2979.37 369.027 L2979.37 342.661 L2971.06 344.328 L2971.06 340.068 L2979.32 338.402 L2984 338.402 L2984 369.027 L2991.64 369.027 L2991.64 372.962 L2971.73 372.962 L2971.73 369.027 Z\" fill=\"#000000\" fill-rule=\"nonzero\" fill-opacity=\"1\" /><path clip-path=\"url(#clip350)\" d=\"M3005.11 369.027 L3021.43 369.027 L3021.43 372.962 L2999.48 372.962 L2999.48 369.027 Q3002.15 366.272 3006.73 361.642 Q3011.34 356.99 3012.52 355.647 Q3014.76 353.124 3015.64 351.388 Q3016.54 349.629 3016.54 347.939 Q3016.54 345.184 3014.6 343.448 Q3012.68 341.712 3009.58 341.712 Q3007.38 341.712 3004.92 342.476 Q3002.49 343.24 2999.71 344.791 L2999.71 340.068 Q3002.54 338.934 3004.99 338.355 Q3007.45 337.777 3009.48 337.777 Q3014.85 337.777 3018.05 340.462 Q3021.24 343.147 3021.24 347.638 Q3021.24 349.767 3020.43 351.689 Q3019.65 353.587 3017.54 356.179 Q3016.96 356.851 3013.86 360.068 Q3010.76 363.263 3005.11 369.027 Z\" fill=\"#000000\" fill-rule=\"nonzero\" fill-opacity=\"1\" /></svg>\n"
      ]
     },
     "metadata": {},
     "output_type": "display_data"
    },
    {
     "name": "stdout",
     "output_type": "stream",
     "text": [
      "==================================================\n",
      "\n",
      "L = 8:\n",
      "  λ = 0.3: B = 0.63159\n",
      "  λ = 0.4: B = 0.565842\n",
      "  λ = 0.45: B = 0.515502\n",
      "  λ = 0.5: B = 0.438442\n",
      "  λ = 0.55: B = 0.384174\n",
      "  λ = 0.6: B = 0.312646\n",
      "  λ = 0.7: B = 0.205168\n",
      "\n",
      "L = 10:\n",
      "  λ = 0.3: B = 0.643734\n",
      "  λ = 0.4: B = 0.577544\n",
      "  λ = 0.45: B = 0.506587\n",
      "  λ = 0.5: B = 0.447189\n",
      "  λ = 0.55: B = 0.362887\n",
      "  λ = 0.6: B = 0.284696\n",
      "  λ = 0.7: B = 0.168842\n",
      "\n",
      "L = 12:\n",
      "  λ = 0.3: B = 0.642672\n",
      "  λ = 0.4: B = 0.564169\n",
      "  λ = 0.45: B = 0.492432\n",
      "  λ = 0.5: B = 0.432689\n",
      "  λ = 0.55: B = 0.334079\n",
      "  λ = 0.6: B = 0.253677\n",
      "  λ = 0.7: B = 0.137688\n"
     ]
    }
   ],
   "source": [
    "plt_combined = plot(title=\"Binder Parameter vs λ\", \n",
    "                   xlabel=\"λ (λₓ=λ, λ_zz=1-λ)\", ylabel=\"Binder Parameter\",\n",
    "                   grid=true, size=(800, 600))\n",
    "\n",
    "colors = [:red, :green, :purple, :orange]\n",
    "\n",
    "for (i, L) in enumerate(L_values)\n",
    "    data = results[i]\n",
    "    color = colors[i % length(colors) + 1]\n",
    "    \n",
    "    # Filter out any NaN values\n",
    "    valid_idx = findall(!isnan, data.B)\n",
    "    if !isempty(valid_idx)\n",
    "        plot!(plt_combined, data.λs[valid_idx], data.B[valid_idx],\n",
    "              marker=:circle, markersize=4, linewidth=2,\n",
    "              label=\"L = $L\", color=color)\n",
    "    end\n",
    "end\n",
    "\n",
    "display(plt_combined)\n",
    "\n",
    "println(\"=\"^50)\n",
    "for (i, L) in enumerate(L_values)\n",
    "    data = results[i]\n",
    "    println(\"\\nL = $L:\")\n",
    "    for (j, λ) in enumerate(data.λs)\n",
    "        B_val = data.B[j]\n",
    "        println(\"  λ = $(round(λ, digits=3)): B = $(round(B_val, digits=6))\")\n",
    "    end\n",
    "end"
   ]
  }
 ],
 "metadata": {
  "kernelspec": {
   "display_name": "Julia 1.11.5",
   "language": "julia",
   "name": "julia-1.11"
  },
  "language_info": {
   "file_extension": ".jl",
   "mimetype": "application/julia",
   "name": "julia",
   "version": "1.11.5"
  }
 },
 "nbformat": 4,
 "nbformat_minor": 5
}
